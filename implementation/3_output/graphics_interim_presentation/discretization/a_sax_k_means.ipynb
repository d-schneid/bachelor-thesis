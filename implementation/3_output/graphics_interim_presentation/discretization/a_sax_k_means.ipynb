{
 "cells": [
  {
   "cell_type": "code",
   "execution_count": 60,
   "id": "4543a04f-9dea-46a9-a573-d426a880365d",
   "metadata": {},
   "outputs": [
    {
     "data": {
      "image/png": "[encoded data removed]",
      "text/plain": [
       "<Figure size 500x200 with 1 Axes>"
      ]
     },
     "metadata": {},
     "output_type": "display_data"
    }
   ],
   "source": [
    "import numpy as np\n",
    "import matplotlib.pyplot as plt\n",
    "from sklearn.cluster import KMeans\n",
    "import matplotlib.colors as colors\n",
    "\n",
    "# Generate some random data\n",
    "data = [0.1, 0.2, 0.3, 0.15, 0.25, 0.35, 0.4, 0.45, 0.5, 0.55, 0.6, 0.7, 0.8, 0.9, 1.0]\n",
    "\n",
    "# Convert the data to a NumPy array\n",
    "data = np.array(data)\n",
    "\n",
    "# Fit the KMeans model to the data\n",
    "kmeans = KMeans(n_clusters=3).fit(data.reshape(-1, 1))\n",
    "\n",
    "plt.figure(figsize=(5, 2))\n",
    "# Plot the data points and cluster centers\n",
    "colors_map = colors.ListedColormap(['orange', 'blue', 'green'])\n",
    "plt.scatter(data, [0] * len(data), c=kmeans.labels_, cmap=colors_map)\n",
    "plt.scatter(kmeans.cluster_centers_, [0] * len(kmeans.cluster_centers_), marker='x', s=200, linewidth=3, color='black')\n",
    "\n",
    "# Draw vertical lines through the mean of each pair of cluster centers from left to right\n",
    "cluster_centers = sorted([cluster_center[0] for cluster_center in kmeans.cluster_centers_])\n",
    "for i in range(len(kmeans.cluster_centers_) - 1):\n",
    "    center1 = cluster_centers[i]\n",
    "    center2 = cluster_centers[i + 1]\n",
    "    mean = (center1 + center2) / 2\n",
    "    plt.axvline(mean, linestyle='dashed', color='red')\n",
    "\n",
    "ax = plt.gca()\n",
    "ax.axes.get_yaxis().set_visible(False)\n",
    "ax.spines[['right', 'top', 'left']].set_visible(False)\n",
    "\n",
    "plt.xticks( rotation=90)\n",
    "    \n",
    "# Show the plot\n",
    "plt.show()"
   ]
  }
 ],
 "metadata": {
  "kernelspec": {
   "display_name": "bachelor-thesis-kernel",
   "language": "python",
   "name": "bachelor-thesis-kernel"
  },
  "language_info": {
   "codemirror_mode": {
    "name": "ipython",
    "version": 3
   },
   "file_extension": ".py",
   "mimetype": "text/x-python",
   "name": "python",
   "nbconvert_exporter": "python",
   "pygments_lexer": "ipython3",
   "version": "3.9.13"
  }
 },
 "nbformat": 4,
 "nbformat_minor": 5
}
