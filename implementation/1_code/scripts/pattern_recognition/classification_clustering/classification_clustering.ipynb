{
 "cells": [
  {
   "cell_type": "code",
   "execution_count": 1,
   "id": "00c525a4-dbe3-433e-b397-20c24bf7b46f",
   "metadata": {},
   "outputs": [],
   "source": [
    "import pandas as pd\n",
    "import numpy as np\n",
    "\n",
    "from utils import load_parquet_to_df_list, z_normalize"
   ]
  },
  {
   "cell_type": "code",
   "execution_count": 2,
   "id": "842360f1-db71-4d75-82a2-de4d17335422",
   "metadata": {},
   "outputs": [],
   "source": [
    "path = \"../../../0_data/UCRArchive_2018/SwedishLeaf/train\"\n",
    "df_list_train = load_parquet_to_df_list(path)\n",
    "\n",
    "X_train = pd.concat([df[\"signal\"].to_frame() for df in df_list_train], axis=1)\n",
    "X_train = z_normalize(X_train)\n",
    "\n",
    "y_train = pd.concat([df[\"pattern_main_id\"].to_frame() for df in df_list_train], axis=1).iloc[0, :]"
   ]
  },
  {
   "cell_type": "code",
   "execution_count": 3,
   "id": "ca8de49a-f47e-4484-8b50-b97ac68a4fae",
   "metadata": {},
   "outputs": [
    {
     "data": {
      "text/html": [
       "<div>\n",
       "<style scoped>\n",
       "    .dataframe tbody tr th:only-of-type {\n",
       "        vertical-align: middle;\n",
       "    }\n",
       "\n",
       "    .dataframe tbody tr th {\n",
       "        vertical-align: top;\n",
       "    }\n",
       "\n",
       "    .dataframe thead th {\n",
       "        text-align: right;\n",
       "    }\n",
       "</style>\n",
       "<table border=\"1\" class=\"dataframe\">\n",
       "  <thead>\n",
       "    <tr style=\"text-align: right;\">\n",
       "      <th></th>\n",
       "      <th>signal</th>\n",
       "      <th>signal</th>\n",
       "      <th>signal</th>\n",
       "      <th>signal</th>\n",
       "      <th>signal</th>\n",
       "      <th>signal</th>\n",
       "      <th>signal</th>\n",
       "      <th>signal</th>\n",
       "      <th>signal</th>\n",
       "      <th>signal</th>\n",
       "      <th>...</th>\n",
       "      <th>signal</th>\n",
       "      <th>signal</th>\n",
       "      <th>signal</th>\n",
       "      <th>signal</th>\n",
       "      <th>signal</th>\n",
       "      <th>signal</th>\n",
       "      <th>signal</th>\n",
       "      <th>signal</th>\n",
       "      <th>signal</th>\n",
       "      <th>signal</th>\n",
       "    </tr>\n",
       "  </thead>\n",
       "  <tbody>\n",
       "    <tr>\n",
       "      <th>0</th>\n",
       "      <td>2.223633</td>\n",
       "      <td>1.879365</td>\n",
       "      <td>1.737821</td>\n",
       "      <td>1.849911</td>\n",
       "      <td>1.272420</td>\n",
       "      <td>1.855131</td>\n",
       "      <td>1.980311</td>\n",
       "      <td>1.256096</td>\n",
       "      <td>2.372685</td>\n",
       "      <td>1.757239</td>\n",
       "      <td>...</td>\n",
       "      <td>2.083123</td>\n",
       "      <td>1.895428</td>\n",
       "      <td>2.103342</td>\n",
       "      <td>1.105336</td>\n",
       "      <td>2.400193</td>\n",
       "      <td>1.561270</td>\n",
       "      <td>1.831127</td>\n",
       "      <td>2.017808</td>\n",
       "      <td>1.480454</td>\n",
       "      <td>2.029774</td>\n",
       "    </tr>\n",
       "    <tr>\n",
       "      <th>1</th>\n",
       "      <td>2.058567</td>\n",
       "      <td>1.733153</td>\n",
       "      <td>1.708888</td>\n",
       "      <td>1.756304</td>\n",
       "      <td>1.242152</td>\n",
       "      <td>1.699672</td>\n",
       "      <td>1.945595</td>\n",
       "      <td>1.177800</td>\n",
       "      <td>2.214034</td>\n",
       "      <td>1.623284</td>\n",
       "      <td>...</td>\n",
       "      <td>1.873362</td>\n",
       "      <td>1.724198</td>\n",
       "      <td>2.002517</td>\n",
       "      <td>0.874770</td>\n",
       "      <td>2.306958</td>\n",
       "      <td>1.396646</td>\n",
       "      <td>1.756485</td>\n",
       "      <td>1.900499</td>\n",
       "      <td>1.501426</td>\n",
       "      <td>1.937142</td>\n",
       "    </tr>\n",
       "    <tr>\n",
       "      <th>2</th>\n",
       "      <td>1.849589</td>\n",
       "      <td>1.579823</td>\n",
       "      <td>1.559112</td>\n",
       "      <td>1.599822</td>\n",
       "      <td>1.160121</td>\n",
       "      <td>1.447596</td>\n",
       "      <td>1.994798</td>\n",
       "      <td>1.032340</td>\n",
       "      <td>1.920566</td>\n",
       "      <td>1.469904</td>\n",
       "      <td>...</td>\n",
       "      <td>1.596348</td>\n",
       "      <td>1.560467</td>\n",
       "      <td>1.773882</td>\n",
       "      <td>0.711361</td>\n",
       "      <td>2.077942</td>\n",
       "      <td>1.031708</td>\n",
       "      <td>1.585476</td>\n",
       "      <td>1.717914</td>\n",
       "      <td>1.363446</td>\n",
       "      <td>1.747168</td>\n",
       "    </tr>\n",
       "    <tr>\n",
       "      <th>3</th>\n",
       "      <td>1.642328</td>\n",
       "      <td>1.402389</td>\n",
       "      <td>1.392660</td>\n",
       "      <td>1.426092</td>\n",
       "      <td>1.058091</td>\n",
       "      <td>1.250063</td>\n",
       "      <td>1.917555</td>\n",
       "      <td>0.878520</td>\n",
       "      <td>1.678298</td>\n",
       "      <td>1.317046</td>\n",
       "      <td>...</td>\n",
       "      <td>1.354441</td>\n",
       "      <td>1.409476</td>\n",
       "      <td>1.510552</td>\n",
       "      <td>0.666357</td>\n",
       "      <td>1.849518</td>\n",
       "      <td>0.750588</td>\n",
       "      <td>1.390242</td>\n",
       "      <td>1.498596</td>\n",
       "      <td>1.147401</td>\n",
       "      <td>1.588045</td>\n",
       "    </tr>\n",
       "    <tr>\n",
       "      <th>4</th>\n",
       "      <td>1.438219</td>\n",
       "      <td>1.257130</td>\n",
       "      <td>1.149077</td>\n",
       "      <td>1.273384</td>\n",
       "      <td>1.028827</td>\n",
       "      <td>1.098138</td>\n",
       "      <td>1.882779</td>\n",
       "      <td>0.893563</td>\n",
       "      <td>1.437475</td>\n",
       "      <td>1.163565</td>\n",
       "      <td>...</td>\n",
       "      <td>1.115365</td>\n",
       "      <td>1.220959</td>\n",
       "      <td>1.250514</td>\n",
       "      <td>0.498493</td>\n",
       "      <td>1.635240</td>\n",
       "      <td>0.427466</td>\n",
       "      <td>1.208922</td>\n",
       "      <td>1.317637</td>\n",
       "      <td>0.910140</td>\n",
       "      <td>1.434243</td>\n",
       "    </tr>\n",
       "    <tr>\n",
       "      <th>...</th>\n",
       "      <td>...</td>\n",
       "      <td>...</td>\n",
       "      <td>...</td>\n",
       "      <td>...</td>\n",
       "      <td>...</td>\n",
       "      <td>...</td>\n",
       "      <td>...</td>\n",
       "      <td>...</td>\n",
       "      <td>...</td>\n",
       "      <td>...</td>\n",
       "      <td>...</td>\n",
       "      <td>...</td>\n",
       "      <td>...</td>\n",
       "      <td>...</td>\n",
       "      <td>...</td>\n",
       "      <td>...</td>\n",
       "      <td>...</td>\n",
       "      <td>...</td>\n",
       "      <td>...</td>\n",
       "      <td>...</td>\n",
       "      <td>...</td>\n",
       "    </tr>\n",
       "    <tr>\n",
       "      <th>123</th>\n",
       "      <td>1.345195</td>\n",
       "      <td>1.162620</td>\n",
       "      <td>1.002372</td>\n",
       "      <td>1.193060</td>\n",
       "      <td>0.755275</td>\n",
       "      <td>1.037431</td>\n",
       "      <td>1.595726</td>\n",
       "      <td>0.942026</td>\n",
       "      <td>1.364450</td>\n",
       "      <td>1.123809</td>\n",
       "      <td>...</td>\n",
       "      <td>1.030905</td>\n",
       "      <td>1.450236</td>\n",
       "      <td>1.166254</td>\n",
       "      <td>0.534385</td>\n",
       "      <td>1.392409</td>\n",
       "      <td>0.394340</td>\n",
       "      <td>1.144440</td>\n",
       "      <td>1.204545</td>\n",
       "      <td>0.990679</td>\n",
       "      <td>1.285692</td>\n",
       "    </tr>\n",
       "    <tr>\n",
       "      <th>124</th>\n",
       "      <td>1.547908</td>\n",
       "      <td>1.314745</td>\n",
       "      <td>1.222534</td>\n",
       "      <td>1.343649</td>\n",
       "      <td>0.835097</td>\n",
       "      <td>1.199133</td>\n",
       "      <td>1.534958</td>\n",
       "      <td>0.956829</td>\n",
       "      <td>1.589209</td>\n",
       "      <td>1.274539</td>\n",
       "      <td>...</td>\n",
       "      <td>1.298884</td>\n",
       "      <td>1.506406</td>\n",
       "      <td>1.380864</td>\n",
       "      <td>0.653251</td>\n",
       "      <td>1.563047</td>\n",
       "      <td>0.703115</td>\n",
       "      <td>1.270413</td>\n",
       "      <td>1.377471</td>\n",
       "      <td>0.821239</td>\n",
       "      <td>1.452826</td>\n",
       "    </tr>\n",
       "    <tr>\n",
       "      <th>125</th>\n",
       "      <td>1.760490</td>\n",
       "      <td>1.500432</td>\n",
       "      <td>1.344060</td>\n",
       "      <td>1.516737</td>\n",
       "      <td>0.896891</td>\n",
       "      <td>1.402509</td>\n",
       "      <td>1.692896</td>\n",
       "      <td>1.077517</td>\n",
       "      <td>1.821819</td>\n",
       "      <td>1.428121</td>\n",
       "      <td>...</td>\n",
       "      <td>1.538491</td>\n",
       "      <td>1.654023</td>\n",
       "      <td>1.604449</td>\n",
       "      <td>0.715053</td>\n",
       "      <td>1.830966</td>\n",
       "      <td>1.022441</td>\n",
       "      <td>1.455076</td>\n",
       "      <td>1.591168</td>\n",
       "      <td>1.050893</td>\n",
       "      <td>1.625392</td>\n",
       "    </tr>\n",
       "    <tr>\n",
       "      <th>126</th>\n",
       "      <td>1.970141</td>\n",
       "      <td>1.657326</td>\n",
       "      <td>1.589952</td>\n",
       "      <td>1.672155</td>\n",
       "      <td>1.032240</td>\n",
       "      <td>1.634548</td>\n",
       "      <td>1.739579</td>\n",
       "      <td>1.112765</td>\n",
       "      <td>2.098101</td>\n",
       "      <td>1.582936</td>\n",
       "      <td>...</td>\n",
       "      <td>1.811339</td>\n",
       "      <td>1.727622</td>\n",
       "      <td>1.831709</td>\n",
       "      <td>0.871126</td>\n",
       "      <td>2.082068</td>\n",
       "      <td>1.330447</td>\n",
       "      <td>1.624659</td>\n",
       "      <td>1.772116</td>\n",
       "      <td>1.288864</td>\n",
       "      <td>1.822252</td>\n",
       "    </tr>\n",
       "    <tr>\n",
       "      <th>127</th>\n",
       "      <td>2.175866</td>\n",
       "      <td>1.846657</td>\n",
       "      <td>1.695194</td>\n",
       "      <td>1.829802</td>\n",
       "      <td>1.242152</td>\n",
       "      <td>1.832282</td>\n",
       "      <td>1.930215</td>\n",
       "      <td>1.221180</td>\n",
       "      <td>2.328623</td>\n",
       "      <td>1.737753</td>\n",
       "      <td>...</td>\n",
       "      <td>2.049471</td>\n",
       "      <td>1.851868</td>\n",
       "      <td>2.063867</td>\n",
       "      <td>1.096391</td>\n",
       "      <td>2.343582</td>\n",
       "      <td>1.521826</td>\n",
       "      <td>1.805557</td>\n",
       "      <td>1.983915</td>\n",
       "      <td>1.437968</td>\n",
       "      <td>1.999255</td>\n",
       "    </tr>\n",
       "  </tbody>\n",
       "</table>\n",
       "<p>128 rows × 499 columns</p>\n",
       "</div>"
      ],
      "text/plain": [
       "       signal    signal    signal    signal    signal    signal    signal  \\\n",
       "0    2.223633  1.879365  1.737821  1.849911  1.272420  1.855131  1.980311   \n",
       "1    2.058567  1.733153  1.708888  1.756304  1.242152  1.699672  1.945595   \n",
       "2    1.849589  1.579823  1.559112  1.599822  1.160121  1.447596  1.994798   \n",
       "3    1.642328  1.402389  1.392660  1.426092  1.058091  1.250063  1.917555   \n",
       "4    1.438219  1.257130  1.149077  1.273384  1.028827  1.098138  1.882779   \n",
       "..        ...       ...       ...       ...       ...       ...       ...   \n",
       "123  1.345195  1.162620  1.002372  1.193060  0.755275  1.037431  1.595726   \n",
       "124  1.547908  1.314745  1.222534  1.343649  0.835097  1.199133  1.534958   \n",
       "125  1.760490  1.500432  1.344060  1.516737  0.896891  1.402509  1.692896   \n",
       "126  1.970141  1.657326  1.589952  1.672155  1.032240  1.634548  1.739579   \n",
       "127  2.175866  1.846657  1.695194  1.829802  1.242152  1.832282  1.930215   \n",
       "\n",
       "       signal    signal    signal  ...    signal    signal    signal  \\\n",
       "0    1.256096  2.372685  1.757239  ...  2.083123  1.895428  2.103342   \n",
       "1    1.177800  2.214034  1.623284  ...  1.873362  1.724198  2.002517   \n",
       "2    1.032340  1.920566  1.469904  ...  1.596348  1.560467  1.773882   \n",
       "3    0.878520  1.678298  1.317046  ...  1.354441  1.409476  1.510552   \n",
       "4    0.893563  1.437475  1.163565  ...  1.115365  1.220959  1.250514   \n",
       "..        ...       ...       ...  ...       ...       ...       ...   \n",
       "123  0.942026  1.364450  1.123809  ...  1.030905  1.450236  1.166254   \n",
       "124  0.956829  1.589209  1.274539  ...  1.298884  1.506406  1.380864   \n",
       "125  1.077517  1.821819  1.428121  ...  1.538491  1.654023  1.604449   \n",
       "126  1.112765  2.098101  1.582936  ...  1.811339  1.727622  1.831709   \n",
       "127  1.221180  2.328623  1.737753  ...  2.049471  1.851868  2.063867   \n",
       "\n",
       "       signal    signal    signal    signal    signal    signal    signal  \n",
       "0    1.105336  2.400193  1.561270  1.831127  2.017808  1.480454  2.029774  \n",
       "1    0.874770  2.306958  1.396646  1.756485  1.900499  1.501426  1.937142  \n",
       "2    0.711361  2.077942  1.031708  1.585476  1.717914  1.363446  1.747168  \n",
       "3    0.666357  1.849518  0.750588  1.390242  1.498596  1.147401  1.588045  \n",
       "4    0.498493  1.635240  0.427466  1.208922  1.317637  0.910140  1.434243  \n",
       "..        ...       ...       ...       ...       ...       ...       ...  \n",
       "123  0.534385  1.392409  0.394340  1.144440  1.204545  0.990679  1.285692  \n",
       "124  0.653251  1.563047  0.703115  1.270413  1.377471  0.821239  1.452826  \n",
       "125  0.715053  1.830966  1.022441  1.455076  1.591168  1.050893  1.625392  \n",
       "126  0.871126  2.082068  1.330447  1.624659  1.772116  1.288864  1.822252  \n",
       "127  1.096391  2.343582  1.521826  1.805557  1.983915  1.437968  1.999255  \n",
       "\n",
       "[128 rows x 499 columns]"
      ]
     },
     "execution_count": 3,
     "metadata": {},
     "output_type": "execute_result"
    }
   ],
   "source": [
    "X_train"
   ]
  },
  {
   "cell_type": "code",
   "execution_count": 4,
   "id": "b20572ea-b146-40a9-a3ad-5ac3bc835426",
   "metadata": {},
   "outputs": [
    {
     "data": {
      "text/plain": [
       "pattern_main_id    11\n",
       "pattern_main_id    13\n",
       "pattern_main_id     4\n",
       "pattern_main_id    13\n",
       "pattern_main_id     8\n",
       "                   ..\n",
       "pattern_main_id     9\n",
       "pattern_main_id    12\n",
       "pattern_main_id    11\n",
       "pattern_main_id     4\n",
       "pattern_main_id    13\n",
       "Name: 0, Length: 499, dtype: int64"
      ]
     },
     "execution_count": 4,
     "metadata": {},
     "output_type": "execute_result"
    }
   ],
   "source": [
    "y_train"
   ]
  },
  {
   "cell_type": "code",
   "execution_count": 5,
   "id": "77955795-190f-4985-b3f6-be64721fb4e8",
   "metadata": {},
   "outputs": [],
   "source": [
    "path = \"../../../0_data/UCRArchive_2018/SwedishLeaf/test\"\n",
    "df_list_test = load_parquet_to_df_list(path)\n",
    "\n",
    "X_test = pd.concat([df[\"signal\"].to_frame() for df in df_list_test], axis=1)\n",
    "X_test = z_normalize(X_test)\n",
    "\n",
    "y_test = pd.concat([df[\"pattern_main_id\"].to_frame() for df in df_list_test], axis=1).T.iloc[:, 0]"
   ]
  },
  {
   "cell_type": "code",
   "execution_count": 6,
   "id": "b8d12c42-6496-4b57-b3e2-95f1bf3a1c5f",
   "metadata": {},
   "outputs": [
    {
     "data": {
      "text/html": [
       "<div>\n",
       "<style scoped>\n",
       "    .dataframe tbody tr th:only-of-type {\n",
       "        vertical-align: middle;\n",
       "    }\n",
       "\n",
       "    .dataframe tbody tr th {\n",
       "        vertical-align: top;\n",
       "    }\n",
       "\n",
       "    .dataframe thead th {\n",
       "        text-align: right;\n",
       "    }\n",
       "</style>\n",
       "<table border=\"1\" class=\"dataframe\">\n",
       "  <thead>\n",
       "    <tr style=\"text-align: right;\">\n",
       "      <th></th>\n",
       "      <th>signal</th>\n",
       "      <th>signal</th>\n",
       "      <th>signal</th>\n",
       "      <th>signal</th>\n",
       "      <th>signal</th>\n",
       "      <th>signal</th>\n",
       "      <th>signal</th>\n",
       "      <th>signal</th>\n",
       "      <th>signal</th>\n",
       "      <th>signal</th>\n",
       "      <th>...</th>\n",
       "      <th>signal</th>\n",
       "      <th>signal</th>\n",
       "      <th>signal</th>\n",
       "      <th>signal</th>\n",
       "      <th>signal</th>\n",
       "      <th>signal</th>\n",
       "      <th>signal</th>\n",
       "      <th>signal</th>\n",
       "      <th>signal</th>\n",
       "      <th>signal</th>\n",
       "    </tr>\n",
       "  </thead>\n",
       "  <tbody>\n",
       "    <tr>\n",
       "      <th>0</th>\n",
       "      <td>2.162152</td>\n",
       "      <td>1.040231</td>\n",
       "      <td>1.849930</td>\n",
       "      <td>2.335520</td>\n",
       "      <td>2.170675</td>\n",
       "      <td>2.027826</td>\n",
       "      <td>2.172573</td>\n",
       "      <td>1.695486</td>\n",
       "      <td>2.489041</td>\n",
       "      <td>2.018219</td>\n",
       "      <td>...</td>\n",
       "      <td>1.327456</td>\n",
       "      <td>1.750923</td>\n",
       "      <td>1.914202</td>\n",
       "      <td>2.874893</td>\n",
       "      <td>1.732240</td>\n",
       "      <td>1.935666</td>\n",
       "      <td>1.935335</td>\n",
       "      <td>1.292308</td>\n",
       "      <td>1.941479</td>\n",
       "      <td>1.725513</td>\n",
       "    </tr>\n",
       "    <tr>\n",
       "      <th>1</th>\n",
       "      <td>2.036360</td>\n",
       "      <td>0.892989</td>\n",
       "      <td>1.718134</td>\n",
       "      <td>2.357797</td>\n",
       "      <td>1.995238</td>\n",
       "      <td>1.972550</td>\n",
       "      <td>2.024032</td>\n",
       "      <td>1.556402</td>\n",
       "      <td>2.211304</td>\n",
       "      <td>1.835082</td>\n",
       "      <td>...</td>\n",
       "      <td>1.181344</td>\n",
       "      <td>1.663702</td>\n",
       "      <td>1.745763</td>\n",
       "      <td>2.528809</td>\n",
       "      <td>1.660138</td>\n",
       "      <td>1.743936</td>\n",
       "      <td>1.768331</td>\n",
       "      <td>1.003852</td>\n",
       "      <td>1.834891</td>\n",
       "      <td>1.616557</td>\n",
       "    </tr>\n",
       "    <tr>\n",
       "      <th>2</th>\n",
       "      <td>1.840785</td>\n",
       "      <td>0.901660</td>\n",
       "      <td>1.523994</td>\n",
       "      <td>2.136531</td>\n",
       "      <td>1.751554</td>\n",
       "      <td>1.750400</td>\n",
       "      <td>1.865230</td>\n",
       "      <td>1.412308</td>\n",
       "      <td>1.860722</td>\n",
       "      <td>1.640892</td>\n",
       "      <td>...</td>\n",
       "      <td>1.107565</td>\n",
       "      <td>1.535791</td>\n",
       "      <td>1.487472</td>\n",
       "      <td>2.181560</td>\n",
       "      <td>1.534406</td>\n",
       "      <td>1.469411</td>\n",
       "      <td>1.575306</td>\n",
       "      <td>0.720781</td>\n",
       "      <td>1.664505</td>\n",
       "      <td>1.487703</td>\n",
       "    </tr>\n",
       "    <tr>\n",
       "      <th>3</th>\n",
       "      <td>1.647789</td>\n",
       "      <td>1.004883</td>\n",
       "      <td>1.348548</td>\n",
       "      <td>1.910477</td>\n",
       "      <td>1.467312</td>\n",
       "      <td>1.582052</td>\n",
       "      <td>1.666041</td>\n",
       "      <td>1.247383</td>\n",
       "      <td>1.548279</td>\n",
       "      <td>1.422949</td>\n",
       "      <td>...</td>\n",
       "      <td>1.075429</td>\n",
       "      <td>1.364029</td>\n",
       "      <td>1.248747</td>\n",
       "      <td>1.836429</td>\n",
       "      <td>1.407509</td>\n",
       "      <td>1.219985</td>\n",
       "      <td>1.379208</td>\n",
       "      <td>0.825378</td>\n",
       "      <td>1.498274</td>\n",
       "      <td>1.380011</td>\n",
       "    </tr>\n",
       "    <tr>\n",
       "      <th>4</th>\n",
       "      <td>1.426051</td>\n",
       "      <td>0.970334</td>\n",
       "      <td>1.150523</td>\n",
       "      <td>1.761193</td>\n",
       "      <td>1.184455</td>\n",
       "      <td>1.368476</td>\n",
       "      <td>1.467946</td>\n",
       "      <td>1.083039</td>\n",
       "      <td>1.240665</td>\n",
       "      <td>1.209082</td>\n",
       "      <td>...</td>\n",
       "      <td>0.987727</td>\n",
       "      <td>1.238859</td>\n",
       "      <td>1.017321</td>\n",
       "      <td>1.492533</td>\n",
       "      <td>1.305871</td>\n",
       "      <td>0.952649</td>\n",
       "      <td>1.162651</td>\n",
       "      <td>0.597013</td>\n",
       "      <td>1.337947</td>\n",
       "      <td>1.250775</td>\n",
       "    </tr>\n",
       "    <tr>\n",
       "      <th>...</th>\n",
       "      <td>...</td>\n",
       "      <td>...</td>\n",
       "      <td>...</td>\n",
       "      <td>...</td>\n",
       "      <td>...</td>\n",
       "      <td>...</td>\n",
       "      <td>...</td>\n",
       "      <td>...</td>\n",
       "      <td>...</td>\n",
       "      <td>...</td>\n",
       "      <td>...</td>\n",
       "      <td>...</td>\n",
       "      <td>...</td>\n",
       "      <td>...</td>\n",
       "      <td>...</td>\n",
       "      <td>...</td>\n",
       "      <td>...</td>\n",
       "      <td>...</td>\n",
       "      <td>...</td>\n",
       "      <td>...</td>\n",
       "      <td>...</td>\n",
       "    </tr>\n",
       "    <tr>\n",
       "      <th>123</th>\n",
       "      <td>1.307015</td>\n",
       "      <td>0.863488</td>\n",
       "      <td>1.188371</td>\n",
       "      <td>1.825534</td>\n",
       "      <td>0.939306</td>\n",
       "      <td>1.128095</td>\n",
       "      <td>1.299647</td>\n",
       "      <td>1.022101</td>\n",
       "      <td>1.159708</td>\n",
       "      <td>1.105717</td>\n",
       "      <td>...</td>\n",
       "      <td>0.923313</td>\n",
       "      <td>1.057298</td>\n",
       "      <td>0.944996</td>\n",
       "      <td>1.474763</td>\n",
       "      <td>1.230406</td>\n",
       "      <td>0.821101</td>\n",
       "      <td>1.095417</td>\n",
       "      <td>0.409000</td>\n",
       "      <td>1.288413</td>\n",
       "      <td>1.256939</td>\n",
       "    </tr>\n",
       "    <tr>\n",
       "      <th>124</th>\n",
       "      <td>1.535369</td>\n",
       "      <td>0.760207</td>\n",
       "      <td>1.318018</td>\n",
       "      <td>2.007155</td>\n",
       "      <td>1.240424</td>\n",
       "      <td>1.352604</td>\n",
       "      <td>1.514237</td>\n",
       "      <td>1.168423</td>\n",
       "      <td>1.469902</td>\n",
       "      <td>1.330618</td>\n",
       "      <td>...</td>\n",
       "      <td>0.927388</td>\n",
       "      <td>1.186494</td>\n",
       "      <td>1.182548</td>\n",
       "      <td>1.806632</td>\n",
       "      <td>1.330196</td>\n",
       "      <td>1.103549</td>\n",
       "      <td>1.316834</td>\n",
       "      <td>0.760683</td>\n",
       "      <td>1.365023</td>\n",
       "      <td>1.375263</td>\n",
       "    </tr>\n",
       "    <tr>\n",
       "      <th>125</th>\n",
       "      <td>1.732581</td>\n",
       "      <td>0.806228</td>\n",
       "      <td>1.453810</td>\n",
       "      <td>2.094186</td>\n",
       "      <td>1.546472</td>\n",
       "      <td>1.514708</td>\n",
       "      <td>1.729670</td>\n",
       "      <td>1.342686</td>\n",
       "      <td>1.784062</td>\n",
       "      <td>1.559403</td>\n",
       "      <td>...</td>\n",
       "      <td>1.098359</td>\n",
       "      <td>1.357995</td>\n",
       "      <td>1.394086</td>\n",
       "      <td>2.143762</td>\n",
       "      <td>1.454664</td>\n",
       "      <td>1.363256</td>\n",
       "      <td>1.514648</td>\n",
       "      <td>0.649477</td>\n",
       "      <td>1.549665</td>\n",
       "      <td>1.476870</td>\n",
       "    </tr>\n",
       "    <tr>\n",
       "      <th>126</th>\n",
       "      <td>1.930275</td>\n",
       "      <td>0.887652</td>\n",
       "      <td>1.632208</td>\n",
       "      <td>2.191577</td>\n",
       "      <td>1.796239</td>\n",
       "      <td>1.744598</td>\n",
       "      <td>1.904233</td>\n",
       "      <td>1.492241</td>\n",
       "      <td>2.134082</td>\n",
       "      <td>1.762769</td>\n",
       "      <td>...</td>\n",
       "      <td>1.145855</td>\n",
       "      <td>1.530179</td>\n",
       "      <td>1.664956</td>\n",
       "      <td>2.486302</td>\n",
       "      <td>1.580536</td>\n",
       "      <td>1.644537</td>\n",
       "      <td>1.711810</td>\n",
       "      <td>0.935550</td>\n",
       "      <td>1.713607</td>\n",
       "      <td>1.600343</td>\n",
       "    </tr>\n",
       "    <tr>\n",
       "      <th>127</th>\n",
       "      <td>2.128601</td>\n",
       "      <td>1.020072</td>\n",
       "      <td>1.829711</td>\n",
       "      <td>2.308876</td>\n",
       "      <td>2.115810</td>\n",
       "      <td>1.971154</td>\n",
       "      <td>2.125951</td>\n",
       "      <td>1.669073</td>\n",
       "      <td>2.452799</td>\n",
       "      <td>1.990882</td>\n",
       "      <td>...</td>\n",
       "      <td>1.296334</td>\n",
       "      <td>1.706600</td>\n",
       "      <td>1.882217</td>\n",
       "      <td>2.831223</td>\n",
       "      <td>1.706660</td>\n",
       "      <td>1.908158</td>\n",
       "      <td>1.909855</td>\n",
       "      <td>1.279126</td>\n",
       "      <td>1.909022</td>\n",
       "      <td>1.704551</td>\n",
       "    </tr>\n",
       "  </tbody>\n",
       "</table>\n",
       "<p>128 rows × 624 columns</p>\n",
       "</div>"
      ],
      "text/plain": [
       "       signal    signal    signal    signal    signal    signal    signal  \\\n",
       "0    2.162152  1.040231  1.849930  2.335520  2.170675  2.027826  2.172573   \n",
       "1    2.036360  0.892989  1.718134  2.357797  1.995238  1.972550  2.024032   \n",
       "2    1.840785  0.901660  1.523994  2.136531  1.751554  1.750400  1.865230   \n",
       "3    1.647789  1.004883  1.348548  1.910477  1.467312  1.582052  1.666041   \n",
       "4    1.426051  0.970334  1.150523  1.761193  1.184455  1.368476  1.467946   \n",
       "..        ...       ...       ...       ...       ...       ...       ...   \n",
       "123  1.307015  0.863488  1.188371  1.825534  0.939306  1.128095  1.299647   \n",
       "124  1.535369  0.760207  1.318018  2.007155  1.240424  1.352604  1.514237   \n",
       "125  1.732581  0.806228  1.453810  2.094186  1.546472  1.514708  1.729670   \n",
       "126  1.930275  0.887652  1.632208  2.191577  1.796239  1.744598  1.904233   \n",
       "127  2.128601  1.020072  1.829711  2.308876  2.115810  1.971154  2.125951   \n",
       "\n",
       "       signal    signal    signal  ...    signal    signal    signal  \\\n",
       "0    1.695486  2.489041  2.018219  ...  1.327456  1.750923  1.914202   \n",
       "1    1.556402  2.211304  1.835082  ...  1.181344  1.663702  1.745763   \n",
       "2    1.412308  1.860722  1.640892  ...  1.107565  1.535791  1.487472   \n",
       "3    1.247383  1.548279  1.422949  ...  1.075429  1.364029  1.248747   \n",
       "4    1.083039  1.240665  1.209082  ...  0.987727  1.238859  1.017321   \n",
       "..        ...       ...       ...  ...       ...       ...       ...   \n",
       "123  1.022101  1.159708  1.105717  ...  0.923313  1.057298  0.944996   \n",
       "124  1.168423  1.469902  1.330618  ...  0.927388  1.186494  1.182548   \n",
       "125  1.342686  1.784062  1.559403  ...  1.098359  1.357995  1.394086   \n",
       "126  1.492241  2.134082  1.762769  ...  1.145855  1.530179  1.664956   \n",
       "127  1.669073  2.452799  1.990882  ...  1.296334  1.706600  1.882217   \n",
       "\n",
       "       signal    signal    signal    signal    signal    signal    signal  \n",
       "0    2.874893  1.732240  1.935666  1.935335  1.292308  1.941479  1.725513  \n",
       "1    2.528809  1.660138  1.743936  1.768331  1.003852  1.834891  1.616557  \n",
       "2    2.181560  1.534406  1.469411  1.575306  0.720781  1.664505  1.487703  \n",
       "3    1.836429  1.407509  1.219985  1.379208  0.825378  1.498274  1.380011  \n",
       "4    1.492533  1.305871  0.952649  1.162651  0.597013  1.337947  1.250775  \n",
       "..        ...       ...       ...       ...       ...       ...       ...  \n",
       "123  1.474763  1.230406  0.821101  1.095417  0.409000  1.288413  1.256939  \n",
       "124  1.806632  1.330196  1.103549  1.316834  0.760683  1.365023  1.375263  \n",
       "125  2.143762  1.454664  1.363256  1.514648  0.649477  1.549665  1.476870  \n",
       "126  2.486302  1.580536  1.644537  1.711810  0.935550  1.713607  1.600343  \n",
       "127  2.831223  1.706660  1.908158  1.909855  1.279126  1.909022  1.704551  \n",
       "\n",
       "[128 rows x 624 columns]"
      ]
     },
     "execution_count": 6,
     "metadata": {},
     "output_type": "execute_result"
    }
   ],
   "source": [
    "X_test"
   ]
  },
  {
   "cell_type": "code",
   "execution_count": 7,
   "id": "7c02d63d-f352-4706-8be5-8b012366f55d",
   "metadata": {},
   "outputs": [
    {
     "data": {
      "text/plain": [
       "pattern_main_id    11\n",
       "pattern_main_id     8\n",
       "pattern_main_id    12\n",
       "pattern_main_id    14\n",
       "pattern_main_id     1\n",
       "                   ..\n",
       "pattern_main_id     1\n",
       "pattern_main_id     9\n",
       "pattern_main_id     2\n",
       "pattern_main_id    15\n",
       "pattern_main_id     7\n",
       "Name: 0, Length: 624, dtype: int64"
      ]
     },
     "execution_count": 7,
     "metadata": {},
     "output_type": "execute_result"
    }
   ],
   "source": [
    "y_test"
   ]
  },
  {
   "cell_type": "code",
   "execution_count": 8,
   "id": "0162a2f9-1ac8-4fce-be9e-250461de2d34",
   "metadata": {
    "tags": []
   },
   "outputs": [],
   "source": [
    "from discretization.sax.sax import SAX\n",
    "from discretization.sax.one_d_sax import OneDSAX\n",
    "from discretization.sax.adaptive_sax import AdaptiveSAX\n",
    "from discretization.sax.extended_sax import ExtendedSAX\n",
    "\n",
    "\n",
    "alphabet_size = 3\n",
    "alphabet_size_slope = 8\n",
    "\n",
    "sax = SAX(alphabet_size)\n",
    "one_d_sax = OneDSAX(alphabet_size, alphabet_size_slope)\n",
    "a_sax = AdaptiveSAX(alphabet_size)\n",
    "e_sax = ExtendedSAX(alphabet_size)"
   ]
  },
  {
   "cell_type": "code",
   "execution_count": 9,
   "id": "7a540ca4-a181-426a-a676-37236e6c8f3f",
   "metadata": {},
   "outputs": [],
   "source": [
    "window_size = 15\n",
    "sax_variant = sax"
   ]
  },
  {
   "cell_type": "code",
   "execution_count": 10,
   "id": "ffec8475-478a-452c-8e00-e883d16c06f0",
   "metadata": {},
   "outputs": [],
   "source": [
    "from discretization.sax.symbol_mapping import IntervalNormMedian, IntervalMean, MeanValuePoints, MedianValuePoints\n",
    "\n",
    "\n",
    "# standard normal distribution is stretched across y-axix, median of each interval is taken\n",
    "# symbol_mapping = IntervalNormMedian(alphabet_size=sax_variant.alphabet_size)\n",
    "\n",
    "# method to find a good lower bound\n",
    "symbol_mapping = IntervalMean(lower_bound=-1.5)\n",
    "\n",
    "# symbol_mapping = MeanValuePoints(X_train)\n",
    "\n",
    "# symbol_mapping = MedianValuePoints(X_train)"
   ]
  },
  {
   "cell_type": "markdown",
   "id": "5ca5985e-185e-42ce-9ef2-42f71a3e331d",
   "metadata": {},
   "source": [
    "### Symbol Mappings for slopes of 1d-SAX"
   ]
  },
  {
   "cell_type": "code",
   "execution_count": 11,
   "id": "8ce03189-892d-4a8d-9066-d031784bd86b",
   "metadata": {},
   "outputs": [],
   "source": [
    "from discretization.sax.one_d_sax import OneDSAX, compute_slopes\n",
    "\n",
    "df_slope = compute_slopes(X_train, window_size)"
   ]
  },
  {
   "cell_type": "code",
   "execution_count": 12,
   "id": "d83e1024-03db-43f3-96fa-bb63cd0c4b55",
   "metadata": {},
   "outputs": [],
   "source": [
    "# lower_bound = df_slope.to_numpy().min()\n",
    "# symbol_mapping_slope = IntervalMean(lower_bound)\n",
    "\n",
    "# symbol_mapping_slope = MeanValuePoints(df_slope)\n",
    "\n",
    "# symbol_mapping_slope = MedianValuePoints(df_slope)\n",
    "\n",
    "# var_slope only available after it breakpoints_slope are set which needs window size to be known\n",
    "one_d_sax.set_breakpoints_slope(window_size)\n",
    "symbol_mapping_slope = IntervalNormMedian(alphabet_size=one_d_sax.alphabet_size_slope, var=one_d_sax.var_slope)"
   ]
  },
  {
   "cell_type": "code",
   "execution_count": 13,
   "id": "fe5a0128-bae9-4a3b-a284-c21fcb937b89",
   "metadata": {},
   "outputs": [],
   "source": [
    "from pattern_recognition.classification.eval_metrics import CLASSIFICATION_METRICS_MODULE\n",
    "from utils import get_metric_instance\n",
    "\n",
    "\n",
    "eval_metrics = [\"Accuracy\", \"BalancedAccuracy\", \"F1\", \"Precision\", \"Recall\", \"JaccardSimilarityCoefficient\"]\n",
    "\n",
    "eval_metric_instances = [get_metric_instance(CLASSIFICATION_METRICS_MODULE, metric) for metric in eval_metrics]"
   ]
  },
  {
   "cell_type": "code",
   "execution_count": 14,
   "id": "fc40733c-fc4d-4947-a234-ecfae4e466ad",
   "metadata": {
    "tags": []
   },
   "outputs": [],
   "source": [
    "from pattern_recognition.classification.classifiers import KNeighborsTimeSeriesClassifier"
   ]
  },
  {
   "cell_type": "code",
   "execution_count": 15,
   "id": "3a0d9451-c9a0-4f49-b4e6-704d57732132",
   "metadata": {},
   "outputs": [],
   "source": [
    "neigh = KNeighborsTimeSeriesClassifier().fit(X_train, y_train)\n",
    "score = neigh.eval(X_train, y_train, eval_metric_instances)"
   ]
  },
  {
   "cell_type": "code",
   "execution_count": 16,
   "id": "76f3736d-d76d-4076-b3fe-80bd46a316e9",
   "metadata": {},
   "outputs": [
    {
     "name": "stderr",
     "output_type": "stream",
     "text": [
      "C:\\Users\\danie\\Documents\\Karlsruhe\\03_KIT_Studium\\07_Semester\\Bachelorarbeit\\Bachelorarbeit\\Repo\\implementation\\venv\\lib\\site-packages\\sklearn\\metrics\\_classification.py:1334: UndefinedMetricWarning: Precision is ill-defined and being set to 0.0 in labels with no predicted samples. Use `zero_division` parameter to control this behavior.\n",
      "  _warn_prf(average, modifier, msg_start, len(result))\n"
     ]
    }
   ],
   "source": [
    "neigh.fit_inverse_transformed(X_train, y_train, window_size, sax_variant, symbol_mapping=symbol_mapping)\n",
    "score_discretized = neigh.eval(X_train, y_train, eval_metric_instances)"
   ]
  },
  {
   "cell_type": "code",
   "execution_count": 17,
   "id": "d6ac888f-d39a-4bc1-bbe9-e68b4e40aca5",
   "metadata": {},
   "outputs": [],
   "source": [
    "from pattern_recognition.classification.classifiers import MLPTimeSeriesClassifier"
   ]
  },
  {
   "cell_type": "code",
   "execution_count": 18,
   "id": "6e6c0f1c-4f2e-41de-9eb5-847625472cef",
   "metadata": {},
   "outputs": [
    {
     "data": {
      "text/plain": [
       "{'Accuracy': 1.0,\n",
       " 'bAccuracy': 1.0,\n",
       " 'F1': 1.0,\n",
       " 'Precision': 1.0,\n",
       " 'Recall': 1.0,\n",
       " 'Jaccard': 1.0}"
      ]
     },
     "execution_count": 18,
     "metadata": {},
     "output_type": "execute_result"
    }
   ],
   "source": [
    "mlp = MLPTimeSeriesClassifier(random_state=1, max_iter=800).fit(X_train, y_train)\n",
    "mlp.eval(X_train, y_train, eval_metric_instances)"
   ]
  },
  {
   "cell_type": "code",
   "execution_count": 19,
   "id": "54d7a9b3-4ad1-4810-92ed-c91ec4c4792d",
   "metadata": {},
   "outputs": [
    {
     "name": "stderr",
     "output_type": "stream",
     "text": [
      "C:\\Users\\danie\\Documents\\Karlsruhe\\03_KIT_Studium\\07_Semester\\Bachelorarbeit\\Bachelorarbeit\\Repo\\implementation\\venv\\lib\\site-packages\\sklearn\\metrics\\_classification.py:1334: UndefinedMetricWarning: Precision is ill-defined and being set to 0.0 in labels with no predicted samples. Use `zero_division` parameter to control this behavior.\n",
      "  _warn_prf(average, modifier, msg_start, len(result))\n"
     ]
    },
    {
     "data": {
      "text/plain": [
       "{'Accuracy': 0.4468937875751503,\n",
       " 'bAccuracy': 0.4430271306145084,\n",
       " 'F1': 0.3761397526284945,\n",
       " 'Precision': 0.4780159449529197,\n",
       " 'Recall': 0.4430271306145084,\n",
       " 'Jaccard': 0.2721005449340755}"
      ]
     },
     "execution_count": 19,
     "metadata": {},
     "output_type": "execute_result"
    }
   ],
   "source": [
    "mlp.fit_inverse_transformed(X_train, y_train, window_size, sax_variant, symbol_mapping=symbol_mapping)\n",
    "mlp.eval(X_train, y_train, eval_metric_instances)"
   ]
  },
  {
   "cell_type": "code",
   "execution_count": 20,
   "id": "0e60cce1-0a6c-4277-92c2-cacc8c634850",
   "metadata": {},
   "outputs": [],
   "source": [
    "from pattern_recognition.classification.classifiers import DecisionTreeTimeSeriesClassifier"
   ]
  },
  {
   "cell_type": "code",
   "execution_count": 21,
   "id": "de898cb0-c592-4935-89a5-db3a26cfea56",
   "metadata": {},
   "outputs": [
    {
     "data": {
      "text/plain": [
       "{'Accuracy': 1.0,\n",
       " 'bAccuracy': 1.0,\n",
       " 'F1': 1.0,\n",
       " 'Precision': 1.0,\n",
       " 'Recall': 1.0,\n",
       " 'Jaccard': 1.0}"
      ]
     },
     "execution_count": 21,
     "metadata": {},
     "output_type": "execute_result"
    }
   ],
   "source": [
    "tree = DecisionTreeTimeSeriesClassifier(random_state=0).fit(X_train, y_train)\n",
    "tree.eval(X_train, y_train, eval_metric_instances)"
   ]
  },
  {
   "cell_type": "code",
   "execution_count": 22,
   "id": "235d94ed-ca36-4716-848e-7ed585c5769e",
   "metadata": {},
   "outputs": [
    {
     "name": "stderr",
     "output_type": "stream",
     "text": [
      "C:\\Users\\danie\\Documents\\Karlsruhe\\03_KIT_Studium\\07_Semester\\Bachelorarbeit\\Bachelorarbeit\\Repo\\implementation\\venv\\lib\\site-packages\\sklearn\\metrics\\_classification.py:1334: UndefinedMetricWarning: Precision is ill-defined and being set to 0.0 in labels with no predicted samples. Use `zero_division` parameter to control this behavior.\n",
      "  _warn_prf(average, modifier, msg_start, len(result))\n"
     ]
    },
    {
     "data": {
      "text/plain": [
       "{'Accuracy': 0.12424849699398798,\n",
       " 'bAccuracy': 0.12315103241161435,\n",
       " 'F1': 0.09326570023509341,\n",
       " 'Precision': 0.14462400172926493,\n",
       " 'Recall': 0.12315103241161435,\n",
       " 'Jaccard': 0.05528437738483401}"
      ]
     },
     "execution_count": 22,
     "metadata": {},
     "output_type": "execute_result"
    }
   ],
   "source": [
    "tree.fit_inverse_transformed(X_train, y_train, window_size, sax_variant, symbol_mapping=symbol_mapping)\n",
    "tree.eval(X_train, y_train, eval_metric_instances)"
   ]
  },
  {
   "cell_type": "code",
   "execution_count": 23,
   "id": "6e01f0f1-63e6-4a05-bc6b-2c3864ab21e7",
   "metadata": {},
   "outputs": [],
   "source": [
    "from pattern_recognition.clustering.clusterings import TimeSeriesKMeans, TimeSeriesBirch, TimeSeriesAffinityPropagation"
   ]
  },
  {
   "cell_type": "code",
   "execution_count": 24,
   "id": "3dbed30b-9f36-4896-b207-23080da1514a",
   "metadata": {},
   "outputs": [],
   "source": [
    "from pattern_recognition.clustering.eval_metrics import CLUSTERING_METRICS_MODULE\n",
    "from utils import get_metric_instance\n",
    "\n",
    "\n",
    "eval_metrics = [\"RandIndex\", \"AdjustedRandIndex\", \"MutualInformation\", \"AdjustedMutualInformation\", \"NormalizedMutualInformation\", \"Homogeneity\", \"Completeness\", \"VMeasure\",\n",
    "               \"FowlkesMallowsIndex\"]\n",
    "\n",
    "eval_metric_instances = [get_metric_instance(CLUSTERING_METRICS_MODULE, metric) for metric in eval_metrics]"
   ]
  },
  {
   "cell_type": "code",
   "execution_count": 25,
   "id": "f5ac5ead-7d7a-40da-b796-860913587585",
   "metadata": {},
   "outputs": [
    {
     "data": {
      "text/plain": [
       "{'Rand': 0.8626650892145737,\n",
       " 'AdjRand': 0.287131277255741,\n",
       " 'MI': 1.3663221761701458,\n",
       " 'AdjMI': 0.5176576515131696,\n",
       " 'NormMI': 0.5585676375674139,\n",
       " 'Homogeneity': 0.5058511232100122,\n",
       " 'Completeness': 0.6235499591781215,\n",
       " 'V': 0.558567637567414,\n",
       " 'Fowlkes-Mallows': 0.38021361680024895}"
      ]
     },
     "execution_count": 25,
     "metadata": {},
     "output_type": "execute_result"
    }
   ],
   "source": [
    "kmeans = TimeSeriesKMeans(n_clusters=15, random_state=15).fit(X_train)\n",
    "kmeans.ground_truth_eval(y_train, eval_metric_instances)"
   ]
  },
  {
   "cell_type": "code",
   "execution_count": 27,
   "id": "ee9d199f-013e-442c-b703-310b7e92e9ea",
   "metadata": {},
   "outputs": [
    {
     "data": {
      "text/plain": [
       "{'Rand': 0.8561862681185665,\n",
       " 'AdjRand': 0.158582989618368,\n",
       " 'MI': 0.9806443423135109,\n",
       " 'AdjMI': 0.33925565449760625,\n",
       " 'NormMI': 0.3934281066681383,\n",
       " 'Homogeneity': 0.3630622781951097,\n",
       " 'Completeness': 0.429337027287919,\n",
       " 'V': 0.3934281066681383,\n",
       " 'Fowlkes-Mallows': 0.24111725439986603}"
      ]
     },
     "execution_count": 27,
     "metadata": {},
     "output_type": "execute_result"
    }
   ],
   "source": [
    "kmeans.fit_inverse_transformed(X_train, window_size, sax_variant, symbol_mapping=symbol_mapping)\n",
    "kmeans.ground_truth_eval(y_train, eval_metric_instances)"
   ]
  },
  {
   "cell_type": "code",
   "execution_count": 29,
   "id": "14ed2a7f-2b4d-4025-890b-1dc2d06ab653",
   "metadata": {},
   "outputs": [],
   "source": [
    "birch = TimeSeriesBirch(n_clusters=15).fit(X_train)\n",
    "birch_scores = birch.ground_truth_eval(y_train, eval_metric_instances)"
   ]
  },
  {
   "cell_type": "code",
   "execution_count": 31,
   "id": "a5cc3226-8fcf-4004-8f49-994784f334ef",
   "metadata": {},
   "outputs": [],
   "source": [
    "birch.fit_inverse_transformed(X_train, window_size, sax_variant, symbol_mapping=symbol_mapping)\n",
    "birch_scores_discretized = birch.ground_truth_eval(y_train, eval_metric_instances)"
   ]
  },
  {
   "cell_type": "code",
   "execution_count": 34,
   "id": "55e4fc65-0a44-4175-9d16-995db42fffb7",
   "metadata": {},
   "outputs": [
    {
     "data": {
      "text/plain": [
       "{'Rand': 0.925666594232642,\n",
       " 'AdjRand': 0.3030645534874631,\n",
       " 'MI': 1.7532533927159417,\n",
       " 'AdjMI': 0.48555058600348183,\n",
       " 'NormMI': 0.5824069746984221,\n",
       " 'Homogeneity': 0.6491040059549479,\n",
       " 'Completeness': 0.5281393581735759,\n",
       " 'V': 0.5824069746984221,\n",
       " 'Fowlkes-Mallows': 0.3460572650179823}"
      ]
     },
     "execution_count": 34,
     "metadata": {},
     "output_type": "execute_result"
    }
   ],
   "source": [
    "aff_prop = TimeSeriesAffinityPropagation().fit(X_train)\n",
    "aff_prop.ground_truth_eval(y_train, eval_metric_instances)"
   ]
  },
  {
   "cell_type": "code",
   "execution_count": 38,
   "id": "030c613e-17d6-4c35-a232-f61f7c9a2258",
   "metadata": {},
   "outputs": [
    {
     "name": "stderr",
     "output_type": "stream",
     "text": [
      "C:\\Users\\danie\\Documents\\Karlsruhe\\03_KIT_Studium\\07_Semester\\Bachelorarbeit\\Bachelorarbeit\\Repo\\implementation\\venv\\lib\\site-packages\\sklearn\\cluster\\_affinity_propagation.py:236: ConvergenceWarning: Affinity propagation did not converge, this model may return degenerate cluster centers and labels.\n",
      "  warnings.warn(\n"
     ]
    },
    {
     "data": {
      "text/plain": [
       "{'Rand': 0.9120168046937248,\n",
       " 'AdjRand': 0.08568112154307873,\n",
       " 'MI': 1.7726656365233007,\n",
       " 'AdjMI': 0.20955131932656426,\n",
       " 'NormMI': 0.5037147796350163,\n",
       " 'Homogeneity': 0.656290967789604,\n",
       " 'Completeness': 0.4086993244653399,\n",
       " 'V': 0.5037147796350162,\n",
       " 'Fowlkes-Mallows': 0.13385139292277498}"
      ]
     },
     "execution_count": 38,
     "metadata": {},
     "output_type": "execute_result"
    }
   ],
   "source": [
    "aff_prop.fit_inverse_transformed(X_train, window_size, sax_variant, symbol_mapping=symbol_mapping)\n",
    "aff_prop.ground_truth_eval(y_train, eval_metric_instances)"
   ]
  },
  {
   "cell_type": "code",
   "execution_count": 39,
   "id": "ee4caa5a-a0db-4fde-9bdf-1789273db4fb",
   "metadata": {},
   "outputs": [],
   "source": [
    "internal_eval_metrics = [\"SilhouetteCoefficient\", \"CalinskiHarabaszIndex\", \"DaviesBouldinIndex\"]\n",
    "\n",
    "internal_eval_metric_instances = [get_metric_instance(CLUSTERING_METRICS_MODULE, metric) for metric in internal_eval_metrics]"
   ]
  },
  {
   "cell_type": "code",
   "execution_count": 40,
   "id": "2ff5a509-b094-4498-bbb5-caadccc29bfe",
   "metadata": {},
   "outputs": [],
   "source": [
    "ssq_error, s, c_h, d_b = [], [], [], []\n",
    "for k in range(2,31):\n",
    "    kmeans = TimeSeriesKMeans(n_clusters=k, random_state=15).fit(X_train)\n",
    "    scores = kmeans.internal_eval(X_train, internal_eval_metric_instances)\n",
    "    ssq_error.append(scores[\"SSQ-Error\"])\n",
    "    s.append(scores[\"Silhouette\"])\n",
    "    c_h.append(scores[\"Calinski-Harabasz\"])\n",
    "    d_b.append(scores[\"Davies-Bouldin\"])"
   ]
  },
  {
   "cell_type": "code",
   "execution_count": 41,
   "id": "3d479bd2-e5dc-48bb-a219-3ba391bdf2c2",
   "metadata": {},
   "outputs": [],
   "source": [
    "from graphics import plot_internal_clustering_metrics"
   ]
  },
  {
   "cell_type": "code",
   "execution_count": 42,
   "id": "c613d7c6-8d0b-468c-8697-061271da9c19",
   "metadata": {},
   "outputs": [
    {
     "data": {
      "image/png": "[encoded data removed]",
      "text/plain": [
       "<Figure size 1500x500 with 4 Axes>"
      ]
     },
     "metadata": {},
     "output_type": "display_data"
    }
   ],
   "source": [
    "plot_internal_clustering_metrics(np.array(s), np.array(c_h), np.array(d_b), 2, ssq_error)"
   ]
  }
 ],
 "metadata": {
  "kernelspec": {
   "display_name": "bachelor-thesis-kernel",
   "language": "python",
   "name": "bachelor-thesis-kernel"
  },
  "language_info": {
   "codemirror_mode": {
    "name": "ipython",
    "version": 3
   },
   "file_extension": ".py",
   "mimetype": "text/x-python",
   "name": "python",
   "nbconvert_exporter": "python",
   "pygments_lexer": "ipython3",
   "version": "3.9.13"
  }
 },
 "nbformat": 4,
 "nbformat_minor": 5
}
