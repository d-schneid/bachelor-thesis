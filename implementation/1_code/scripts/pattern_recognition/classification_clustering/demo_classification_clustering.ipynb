{
 "cells": [
  {
   "cell_type": "code",
   "execution_count": 1,
   "id": "1906d8eb-1ff2-4031-969b-1e4b0760d883",
   "metadata": {},
   "outputs": [],
   "source": [
    "import pandas as pd\n",
    "import numpy as np\n",
    "\n",
    "from utils import load_parquet_to_df_list, z_normalize"
   ]
  },
  {
   "cell_type": "markdown",
   "id": "820371cb-da5c-46ef-8ea1-5352d45fafc7",
   "metadata": {},
   "source": [
    "### Load training data"
   ]
  },
  {
   "cell_type": "code",
   "execution_count": 2,
   "id": "6af3bd46-7828-4343-92eb-f538f579df65",
   "metadata": {},
   "outputs": [],
   "source": [
    "path = \"../../../../0_data/UCRArchive_2018/SwedishLeaf/train\"\n",
    "df_list_train = load_parquet_to_df_list(path)\n",
    "\n",
    "X_train = pd.concat([df[\"signal\"].to_frame() for df in df_list_train], axis=1)\n",
    "X_train = z_normalize(X_train)\n",
    "\n",
    "y_train = pd.concat([df[\"pattern_main_id\"].to_frame() for df in df_list_train], axis=1).iloc[0, :]"
   ]
  },
  {
   "cell_type": "code",
   "execution_count": 3,
   "id": "27b0786f-1b21-4193-abfb-b7e6c009f4ad",
   "metadata": {},
   "outputs": [
    {
     "data": {
      "text/html": [
       "<div>\n",
       "<style scoped>\n",
       "    .dataframe tbody tr th:only-of-type {\n",
       "        vertical-align: middle;\n",
       "    }\n",
       "\n",
       "    .dataframe tbody tr th {\n",
       "        vertical-align: top;\n",
       "    }\n",
       "\n",
       "    .dataframe thead th {\n",
       "        text-align: right;\n",
       "    }\n",
       "</style>\n",
       "<table border=\"1\" class=\"dataframe\">\n",
       "  <thead>\n",
       "    <tr style=\"text-align: right;\">\n",
       "      <th></th>\n",
       "      <th>pattern_main_id</th>\n",
       "      <th>signal</th>\n",
       "    </tr>\n",
       "  </thead>\n",
       "  <tbody>\n",
       "    <tr>\n",
       "      <th>0</th>\n",
       "      <td>11</td>\n",
       "      <td>2.21493</td>\n",
       "    </tr>\n",
       "    <tr>\n",
       "      <th>1</th>\n",
       "      <td>11</td>\n",
       "      <td>2.05051</td>\n",
       "    </tr>\n",
       "    <tr>\n",
       "      <th>2</th>\n",
       "      <td>11</td>\n",
       "      <td>1.84235</td>\n",
       "    </tr>\n",
       "    <tr>\n",
       "      <th>3</th>\n",
       "      <td>11</td>\n",
       "      <td>1.63590</td>\n",
       "    </tr>\n",
       "    <tr>\n",
       "      <th>4</th>\n",
       "      <td>11</td>\n",
       "      <td>1.43259</td>\n",
       "    </tr>\n",
       "    <tr>\n",
       "      <th>...</th>\n",
       "      <td>...</td>\n",
       "      <td>...</td>\n",
       "    </tr>\n",
       "    <tr>\n",
       "      <th>123</th>\n",
       "      <td>11</td>\n",
       "      <td>1.33993</td>\n",
       "    </tr>\n",
       "    <tr>\n",
       "      <th>124</th>\n",
       "      <td>11</td>\n",
       "      <td>1.54185</td>\n",
       "    </tr>\n",
       "    <tr>\n",
       "      <th>125</th>\n",
       "      <td>11</td>\n",
       "      <td>1.75360</td>\n",
       "    </tr>\n",
       "    <tr>\n",
       "      <th>126</th>\n",
       "      <td>11</td>\n",
       "      <td>1.96243</td>\n",
       "    </tr>\n",
       "    <tr>\n",
       "      <th>127</th>\n",
       "      <td>11</td>\n",
       "      <td>2.16735</td>\n",
       "    </tr>\n",
       "  </tbody>\n",
       "</table>\n",
       "<p>128 rows × 2 columns</p>\n",
       "</div>"
      ],
      "text/plain": [
       "     pattern_main_id   signal\n",
       "0                 11  2.21493\n",
       "1                 11  2.05051\n",
       "2                 11  1.84235\n",
       "3                 11  1.63590\n",
       "4                 11  1.43259\n",
       "..               ...      ...\n",
       "123               11  1.33993\n",
       "124               11  1.54185\n",
       "125               11  1.75360\n",
       "126               11  1.96243\n",
       "127               11  2.16735\n",
       "\n",
       "[128 rows x 2 columns]"
      ]
     },
     "execution_count": 3,
     "metadata": {},
     "output_type": "execute_result"
    }
   ],
   "source": [
    "df_list_train[0]"
   ]
  },
  {
   "cell_type": "code",
   "execution_count": 4,
   "id": "9af39acf-3587-4f92-b2b2-ab6affc0d44e",
   "metadata": {},
   "outputs": [
    {
     "data": {
      "text/html": [
       "<div>\n",
       "<style scoped>\n",
       "    .dataframe tbody tr th:only-of-type {\n",
       "        vertical-align: middle;\n",
       "    }\n",
       "\n",
       "    .dataframe tbody tr th {\n",
       "        vertical-align: top;\n",
       "    }\n",
       "\n",
       "    .dataframe thead th {\n",
       "        text-align: right;\n",
       "    }\n",
       "</style>\n",
       "<table border=\"1\" class=\"dataframe\">\n",
       "  <thead>\n",
       "    <tr style=\"text-align: right;\">\n",
       "      <th></th>\n",
       "      <th>signal</th>\n",
       "      <th>signal</th>\n",
       "      <th>signal</th>\n",
       "      <th>signal</th>\n",
       "      <th>signal</th>\n",
       "      <th>signal</th>\n",
       "      <th>signal</th>\n",
       "      <th>signal</th>\n",
       "      <th>signal</th>\n",
       "      <th>signal</th>\n",
       "      <th>...</th>\n",
       "      <th>signal</th>\n",
       "      <th>signal</th>\n",
       "      <th>signal</th>\n",
       "      <th>signal</th>\n",
       "      <th>signal</th>\n",
       "      <th>signal</th>\n",
       "      <th>signal</th>\n",
       "      <th>signal</th>\n",
       "      <th>signal</th>\n",
       "      <th>signal</th>\n",
       "    </tr>\n",
       "  </thead>\n",
       "  <tbody>\n",
       "    <tr>\n",
       "      <th>0</th>\n",
       "      <td>2.223633</td>\n",
       "      <td>1.879365</td>\n",
       "      <td>1.737821</td>\n",
       "      <td>1.849911</td>\n",
       "      <td>1.272420</td>\n",
       "      <td>1.855131</td>\n",
       "      <td>1.980311</td>\n",
       "      <td>1.256096</td>\n",
       "      <td>2.372685</td>\n",
       "      <td>1.757239</td>\n",
       "      <td>...</td>\n",
       "      <td>2.083123</td>\n",
       "      <td>1.895428</td>\n",
       "      <td>2.103342</td>\n",
       "      <td>1.105336</td>\n",
       "      <td>2.400193</td>\n",
       "      <td>1.561270</td>\n",
       "      <td>1.831127</td>\n",
       "      <td>2.017808</td>\n",
       "      <td>1.480454</td>\n",
       "      <td>2.029774</td>\n",
       "    </tr>\n",
       "    <tr>\n",
       "      <th>1</th>\n",
       "      <td>2.058567</td>\n",
       "      <td>1.733153</td>\n",
       "      <td>1.708888</td>\n",
       "      <td>1.756304</td>\n",
       "      <td>1.242152</td>\n",
       "      <td>1.699672</td>\n",
       "      <td>1.945595</td>\n",
       "      <td>1.177800</td>\n",
       "      <td>2.214034</td>\n",
       "      <td>1.623284</td>\n",
       "      <td>...</td>\n",
       "      <td>1.873362</td>\n",
       "      <td>1.724198</td>\n",
       "      <td>2.002517</td>\n",
       "      <td>0.874770</td>\n",
       "      <td>2.306958</td>\n",
       "      <td>1.396646</td>\n",
       "      <td>1.756485</td>\n",
       "      <td>1.900499</td>\n",
       "      <td>1.501426</td>\n",
       "      <td>1.937142</td>\n",
       "    </tr>\n",
       "    <tr>\n",
       "      <th>2</th>\n",
       "      <td>1.849589</td>\n",
       "      <td>1.579823</td>\n",
       "      <td>1.559112</td>\n",
       "      <td>1.599822</td>\n",
       "      <td>1.160121</td>\n",
       "      <td>1.447596</td>\n",
       "      <td>1.994798</td>\n",
       "      <td>1.032340</td>\n",
       "      <td>1.920566</td>\n",
       "      <td>1.469904</td>\n",
       "      <td>...</td>\n",
       "      <td>1.596348</td>\n",
       "      <td>1.560467</td>\n",
       "      <td>1.773882</td>\n",
       "      <td>0.711361</td>\n",
       "      <td>2.077942</td>\n",
       "      <td>1.031708</td>\n",
       "      <td>1.585476</td>\n",
       "      <td>1.717914</td>\n",
       "      <td>1.363446</td>\n",
       "      <td>1.747168</td>\n",
       "    </tr>\n",
       "    <tr>\n",
       "      <th>3</th>\n",
       "      <td>1.642328</td>\n",
       "      <td>1.402389</td>\n",
       "      <td>1.392660</td>\n",
       "      <td>1.426092</td>\n",
       "      <td>1.058091</td>\n",
       "      <td>1.250063</td>\n",
       "      <td>1.917555</td>\n",
       "      <td>0.878520</td>\n",
       "      <td>1.678298</td>\n",
       "      <td>1.317046</td>\n",
       "      <td>...</td>\n",
       "      <td>1.354441</td>\n",
       "      <td>1.409476</td>\n",
       "      <td>1.510552</td>\n",
       "      <td>0.666357</td>\n",
       "      <td>1.849518</td>\n",
       "      <td>0.750588</td>\n",
       "      <td>1.390242</td>\n",
       "      <td>1.498596</td>\n",
       "      <td>1.147401</td>\n",
       "      <td>1.588045</td>\n",
       "    </tr>\n",
       "    <tr>\n",
       "      <th>4</th>\n",
       "      <td>1.438219</td>\n",
       "      <td>1.257130</td>\n",
       "      <td>1.149077</td>\n",
       "      <td>1.273384</td>\n",
       "      <td>1.028827</td>\n",
       "      <td>1.098138</td>\n",
       "      <td>1.882779</td>\n",
       "      <td>0.893563</td>\n",
       "      <td>1.437475</td>\n",
       "      <td>1.163565</td>\n",
       "      <td>...</td>\n",
       "      <td>1.115365</td>\n",
       "      <td>1.220959</td>\n",
       "      <td>1.250514</td>\n",
       "      <td>0.498493</td>\n",
       "      <td>1.635240</td>\n",
       "      <td>0.427466</td>\n",
       "      <td>1.208922</td>\n",
       "      <td>1.317637</td>\n",
       "      <td>0.910140</td>\n",
       "      <td>1.434243</td>\n",
       "    </tr>\n",
       "    <tr>\n",
       "      <th>...</th>\n",
       "      <td>...</td>\n",
       "      <td>...</td>\n",
       "      <td>...</td>\n",
       "      <td>...</td>\n",
       "      <td>...</td>\n",
       "      <td>...</td>\n",
       "      <td>...</td>\n",
       "      <td>...</td>\n",
       "      <td>...</td>\n",
       "      <td>...</td>\n",
       "      <td>...</td>\n",
       "      <td>...</td>\n",
       "      <td>...</td>\n",
       "      <td>...</td>\n",
       "      <td>...</td>\n",
       "      <td>...</td>\n",
       "      <td>...</td>\n",
       "      <td>...</td>\n",
       "      <td>...</td>\n",
       "      <td>...</td>\n",
       "      <td>...</td>\n",
       "    </tr>\n",
       "    <tr>\n",
       "      <th>123</th>\n",
       "      <td>1.345195</td>\n",
       "      <td>1.162620</td>\n",
       "      <td>1.002372</td>\n",
       "      <td>1.193060</td>\n",
       "      <td>0.755275</td>\n",
       "      <td>1.037431</td>\n",
       "      <td>1.595726</td>\n",
       "      <td>0.942026</td>\n",
       "      <td>1.364450</td>\n",
       "      <td>1.123809</td>\n",
       "      <td>...</td>\n",
       "      <td>1.030905</td>\n",
       "      <td>1.450236</td>\n",
       "      <td>1.166254</td>\n",
       "      <td>0.534385</td>\n",
       "      <td>1.392409</td>\n",
       "      <td>0.394340</td>\n",
       "      <td>1.144440</td>\n",
       "      <td>1.204545</td>\n",
       "      <td>0.990679</td>\n",
       "      <td>1.285692</td>\n",
       "    </tr>\n",
       "    <tr>\n",
       "      <th>124</th>\n",
       "      <td>1.547908</td>\n",
       "      <td>1.314745</td>\n",
       "      <td>1.222534</td>\n",
       "      <td>1.343649</td>\n",
       "      <td>0.835097</td>\n",
       "      <td>1.199133</td>\n",
       "      <td>1.534958</td>\n",
       "      <td>0.956829</td>\n",
       "      <td>1.589209</td>\n",
       "      <td>1.274539</td>\n",
       "      <td>...</td>\n",
       "      <td>1.298884</td>\n",
       "      <td>1.506406</td>\n",
       "      <td>1.380864</td>\n",
       "      <td>0.653251</td>\n",
       "      <td>1.563047</td>\n",
       "      <td>0.703115</td>\n",
       "      <td>1.270413</td>\n",
       "      <td>1.377471</td>\n",
       "      <td>0.821239</td>\n",
       "      <td>1.452826</td>\n",
       "    </tr>\n",
       "    <tr>\n",
       "      <th>125</th>\n",
       "      <td>1.760490</td>\n",
       "      <td>1.500432</td>\n",
       "      <td>1.344060</td>\n",
       "      <td>1.516737</td>\n",
       "      <td>0.896891</td>\n",
       "      <td>1.402509</td>\n",
       "      <td>1.692896</td>\n",
       "      <td>1.077517</td>\n",
       "      <td>1.821819</td>\n",
       "      <td>1.428121</td>\n",
       "      <td>...</td>\n",
       "      <td>1.538491</td>\n",
       "      <td>1.654023</td>\n",
       "      <td>1.604449</td>\n",
       "      <td>0.715053</td>\n",
       "      <td>1.830966</td>\n",
       "      <td>1.022441</td>\n",
       "      <td>1.455076</td>\n",
       "      <td>1.591168</td>\n",
       "      <td>1.050893</td>\n",
       "      <td>1.625392</td>\n",
       "    </tr>\n",
       "    <tr>\n",
       "      <th>126</th>\n",
       "      <td>1.970141</td>\n",
       "      <td>1.657326</td>\n",
       "      <td>1.589952</td>\n",
       "      <td>1.672155</td>\n",
       "      <td>1.032240</td>\n",
       "      <td>1.634548</td>\n",
       "      <td>1.739579</td>\n",
       "      <td>1.112765</td>\n",
       "      <td>2.098101</td>\n",
       "      <td>1.582936</td>\n",
       "      <td>...</td>\n",
       "      <td>1.811339</td>\n",
       "      <td>1.727622</td>\n",
       "      <td>1.831709</td>\n",
       "      <td>0.871126</td>\n",
       "      <td>2.082068</td>\n",
       "      <td>1.330447</td>\n",
       "      <td>1.624659</td>\n",
       "      <td>1.772116</td>\n",
       "      <td>1.288864</td>\n",
       "      <td>1.822252</td>\n",
       "    </tr>\n",
       "    <tr>\n",
       "      <th>127</th>\n",
       "      <td>2.175866</td>\n",
       "      <td>1.846657</td>\n",
       "      <td>1.695194</td>\n",
       "      <td>1.829802</td>\n",
       "      <td>1.242152</td>\n",
       "      <td>1.832282</td>\n",
       "      <td>1.930215</td>\n",
       "      <td>1.221180</td>\n",
       "      <td>2.328623</td>\n",
       "      <td>1.737753</td>\n",
       "      <td>...</td>\n",
       "      <td>2.049471</td>\n",
       "      <td>1.851868</td>\n",
       "      <td>2.063867</td>\n",
       "      <td>1.096391</td>\n",
       "      <td>2.343582</td>\n",
       "      <td>1.521826</td>\n",
       "      <td>1.805557</td>\n",
       "      <td>1.983915</td>\n",
       "      <td>1.437968</td>\n",
       "      <td>1.999255</td>\n",
       "    </tr>\n",
       "  </tbody>\n",
       "</table>\n",
       "<p>128 rows × 499 columns</p>\n",
       "</div>"
      ],
      "text/plain": [
       "       signal    signal    signal    signal    signal    signal    signal  \\\n",
       "0    2.223633  1.879365  1.737821  1.849911  1.272420  1.855131  1.980311   \n",
       "1    2.058567  1.733153  1.708888  1.756304  1.242152  1.699672  1.945595   \n",
       "2    1.849589  1.579823  1.559112  1.599822  1.160121  1.447596  1.994798   \n",
       "3    1.642328  1.402389  1.392660  1.426092  1.058091  1.250063  1.917555   \n",
       "4    1.438219  1.257130  1.149077  1.273384  1.028827  1.098138  1.882779   \n",
       "..        ...       ...       ...       ...       ...       ...       ...   \n",
       "123  1.345195  1.162620  1.002372  1.193060  0.755275  1.037431  1.595726   \n",
       "124  1.547908  1.314745  1.222534  1.343649  0.835097  1.199133  1.534958   \n",
       "125  1.760490  1.500432  1.344060  1.516737  0.896891  1.402509  1.692896   \n",
       "126  1.970141  1.657326  1.589952  1.672155  1.032240  1.634548  1.739579   \n",
       "127  2.175866  1.846657  1.695194  1.829802  1.242152  1.832282  1.930215   \n",
       "\n",
       "       signal    signal    signal  ...    signal    signal    signal  \\\n",
       "0    1.256096  2.372685  1.757239  ...  2.083123  1.895428  2.103342   \n",
       "1    1.177800  2.214034  1.623284  ...  1.873362  1.724198  2.002517   \n",
       "2    1.032340  1.920566  1.469904  ...  1.596348  1.560467  1.773882   \n",
       "3    0.878520  1.678298  1.317046  ...  1.354441  1.409476  1.510552   \n",
       "4    0.893563  1.437475  1.163565  ...  1.115365  1.220959  1.250514   \n",
       "..        ...       ...       ...  ...       ...       ...       ...   \n",
       "123  0.942026  1.364450  1.123809  ...  1.030905  1.450236  1.166254   \n",
       "124  0.956829  1.589209  1.274539  ...  1.298884  1.506406  1.380864   \n",
       "125  1.077517  1.821819  1.428121  ...  1.538491  1.654023  1.604449   \n",
       "126  1.112765  2.098101  1.582936  ...  1.811339  1.727622  1.831709   \n",
       "127  1.221180  2.328623  1.737753  ...  2.049471  1.851868  2.063867   \n",
       "\n",
       "       signal    signal    signal    signal    signal    signal    signal  \n",
       "0    1.105336  2.400193  1.561270  1.831127  2.017808  1.480454  2.029774  \n",
       "1    0.874770  2.306958  1.396646  1.756485  1.900499  1.501426  1.937142  \n",
       "2    0.711361  2.077942  1.031708  1.585476  1.717914  1.363446  1.747168  \n",
       "3    0.666357  1.849518  0.750588  1.390242  1.498596  1.147401  1.588045  \n",
       "4    0.498493  1.635240  0.427466  1.208922  1.317637  0.910140  1.434243  \n",
       "..        ...       ...       ...       ...       ...       ...       ...  \n",
       "123  0.534385  1.392409  0.394340  1.144440  1.204545  0.990679  1.285692  \n",
       "124  0.653251  1.563047  0.703115  1.270413  1.377471  0.821239  1.452826  \n",
       "125  0.715053  1.830966  1.022441  1.455076  1.591168  1.050893  1.625392  \n",
       "126  0.871126  2.082068  1.330447  1.624659  1.772116  1.288864  1.822252  \n",
       "127  1.096391  2.343582  1.521826  1.805557  1.983915  1.437968  1.999255  \n",
       "\n",
       "[128 rows x 499 columns]"
      ]
     },
     "execution_count": 4,
     "metadata": {},
     "output_type": "execute_result"
    }
   ],
   "source": [
    "X_train"
   ]
  },
  {
   "cell_type": "code",
   "execution_count": 5,
   "id": "d0785342-e291-4f20-8ae7-7778a5044eba",
   "metadata": {},
   "outputs": [
    {
     "data": {
      "text/plain": [
       "pattern_main_id    11\n",
       "pattern_main_id    13\n",
       "pattern_main_id     4\n",
       "pattern_main_id    13\n",
       "pattern_main_id     8\n",
       "                   ..\n",
       "pattern_main_id     9\n",
       "pattern_main_id    12\n",
       "pattern_main_id    11\n",
       "pattern_main_id     4\n",
       "pattern_main_id    13\n",
       "Name: 0, Length: 499, dtype: int64"
      ]
     },
     "execution_count": 5,
     "metadata": {},
     "output_type": "execute_result"
    }
   ],
   "source": [
    "y_train"
   ]
  },
  {
   "cell_type": "markdown",
   "id": "243830c0-13bb-48dd-b298-6824a5d1e780",
   "metadata": {},
   "source": [
    "### Load test data"
   ]
  },
  {
   "cell_type": "code",
   "execution_count": 6,
   "id": "c3c8a176-f829-4fb5-ad7c-787034d32a40",
   "metadata": {},
   "outputs": [],
   "source": [
    "path = \"../../../../0_data/UCRArchive_2018/SwedishLeaf/test\"\n",
    "df_list_test = load_parquet_to_df_list(path)\n",
    "\n",
    "X_test = pd.concat([df[\"signal\"].to_frame() for df in df_list_test], axis=1)\n",
    "X_test = z_normalize(X_test)\n",
    "\n",
    "y_test = pd.concat([df[\"pattern_main_id\"].to_frame() for df in df_list_test], axis=1).T.iloc[:, 0]"
   ]
  },
  {
   "cell_type": "markdown",
   "id": "706fee72-7116-4763-9df2-8a99cf90a704",
   "metadata": {},
   "source": [
    "### SAX variants"
   ]
  },
  {
   "cell_type": "code",
   "execution_count": 29,
   "id": "4f7e5353-b308-4853-b7c2-ad743badbe4a",
   "metadata": {},
   "outputs": [],
   "source": [
    "from discretization.sax.sax import SAX\n",
    "from discretization.sax.one_d_sax import OneDSAX\n",
    "from discretization.sax.adaptive_sax import AdaptiveSAX\n",
    "from discretization.sax.extended_sax import ExtendedSAX\n",
    "from discretization.persist.persist import Persist\n",
    "\n",
    "\n",
    "window_size = 5\n",
    "alphabet_size = 6\n",
    "alphabet_size_slope = 8\n",
    "\n",
    "sax = SAX(alphabet_size)\n",
    "one_d_sax = OneDSAX(alphabet_size, alphabet_size_slope)\n",
    "a_sax = AdaptiveSAX(alphabet_size)\n",
    "e_sax = ExtendedSAX(alphabet_size)\n",
    "persist = Persist(alphabet_size)\n",
    "\n",
    "sax_variant = sax"
   ]
  },
  {
   "cell_type": "markdown",
   "id": "20460fcd-54a3-4baa-b154-e874300d9e71",
   "metadata": {},
   "source": [
    "### Symbol mapping strategies (for averages)"
   ]
  },
  {
   "cell_type": "code",
   "execution_count": 8,
   "id": "9ccc7c2f-a0fe-4b50-8345-d90371f49bcd",
   "metadata": {},
   "outputs": [],
   "source": [
    "from discretization.symbol_mapping import IntervalNormMedian, IntervalMean, MeanValuePoints, MedianValuePoints\n",
    "\n",
    "\n",
    "# standard normal distribution is stretched across y-axix, median of each interval is taken\n",
    "# symbol_mapping = IntervalNormMedian(alphabet_size=sax_variant.alphabet_size)\n",
    "\n",
    "# method to find a good lower bound\n",
    "# symbol_mapping = IntervalMean(lower_bound=-1.5)\n",
    "\n",
    "symbol_mapping = MeanValuePoints(X_train)\n",
    "\n",
    "# symbol_mapping = MedianValuePoints(X_train)"
   ]
  },
  {
   "cell_type": "markdown",
   "id": "2e4cd7dd-a016-42bc-b6c2-e21e1fa86953",
   "metadata": {},
   "source": [
    "### Symbol mapping strategies for slopes of 1d-SAX"
   ]
  },
  {
   "cell_type": "code",
   "execution_count": 9,
   "id": "c0f2c63d-2f6c-4614-a92c-e127791cf24f",
   "metadata": {},
   "outputs": [],
   "source": [
    "from discretization.sax.one_d_sax import OneDSAX, compute_slopes\n",
    "\n",
    "\n",
    "# need to compute slopes for both 'ValuePoints' symbol mapping strategies\n",
    "df_slope = compute_slopes(X_train, window_size)"
   ]
  },
  {
   "cell_type": "code",
   "execution_count": 10,
   "id": "31af1f8e-d62e-4dfd-8511-c0a57191c0c8",
   "metadata": {},
   "outputs": [],
   "source": [
    "# lower_bound = df_slope.to_numpy().min()\n",
    "# symbol_mapping_slope = IntervalMean(lower_bound)\n",
    "\n",
    "# symbol_mapping_slope = MeanValuePoints(df_slope)\n",
    "\n",
    "# symbol_mapping_slope = MedianValuePoints(df_slope)\n",
    "\n",
    "# var_slope only available after it breakpoints_slope are set which needs window size to be known\n",
    "one_d_sax.set_breakpoints_slope(window_size)\n",
    "symbol_mapping_slope = IntervalNormMedian(alphabet_size=one_d_sax.alphabet_size_slope, var=one_d_sax.var_slope)"
   ]
  },
  {
   "cell_type": "markdown",
   "id": "fb802d04-fbf2-44cc-8ecf-ec986a56833f",
   "metadata": {},
   "source": [
    "### Classification"
   ]
  },
  {
   "cell_type": "markdown",
   "id": "eba6d414-7aba-4d7c-a426-cc7d64c8ae7a",
   "metadata": {},
   "source": [
    "### Classification evaluation metrics"
   ]
  },
  {
   "cell_type": "code",
   "execution_count": 11,
   "id": "055013d5-e397-4a6e-a4d1-6613d0a0e901",
   "metadata": {},
   "outputs": [],
   "source": [
    "from pattern_recognition.classification.eval_metrics import CLASSIFICATION_METRICS_MODULE\n",
    "from utils import get_metric_instance\n",
    "\n",
    "\n",
    "classification_metrics = [\"Accuracy\", \"BalancedAccuracy\", \"F1\", \"Precision\", \"Recall\", \"JaccardSimilarityCoefficient\"]\n",
    "\n",
    "classification_metrics_lst = [get_metric_instance(CLASSIFICATION_METRICS_MODULE, metric) for metric in classification_metrics]"
   ]
  },
  {
   "cell_type": "markdown",
   "id": "776cee43-d86d-4ee5-b9f2-9d437ccef9d1",
   "metadata": {},
   "source": [
    "### Classifiers"
   ]
  },
  {
   "cell_type": "code",
   "execution_count": 12,
   "id": "bc28dcfc-b513-4551-bfbf-d54f8c2597f1",
   "metadata": {},
   "outputs": [],
   "source": [
    "from pattern_recognition.classification.classifiers import KNeighborsTimeSeriesClassifier, MLPTimeSeriesClassifier, DecisionTreeTimeSeriesClassifier\n",
    "from pattern_recognition.graphics import plot_eval_metrics_comparison"
   ]
  },
  {
   "cell_type": "code",
   "execution_count": 13,
   "id": "e15ecbda-6753-4845-a4aa-29a1b334759f",
   "metadata": {},
   "outputs": [],
   "source": [
    "neigh = KNeighborsTimeSeriesClassifier(n_neighbors=1)\n",
    "neigh.fit(X_train, y_train)\n",
    "score_raw = neigh.eval(X_test, y_test, classification_metrics_lst)"
   ]
  },
  {
   "cell_type": "markdown",
   "id": "82097d59-4553-41fb-99b1-c76c3e520249",
   "metadata": {},
   "source": [
    "### First approach: Fit classifier with inverse transformed training data\n",
    "1. Discretize training data as symbolic representation\n",
    "2. Inverse transform discretized training data\n",
    "3. Fit classifier with inverse transformed training data"
   ]
  },
  {
   "cell_type": "code",
   "execution_count": 14,
   "id": "f6a341d9-ff25-4117-98d3-73bcd7464ffe",
   "metadata": {},
   "outputs": [],
   "source": [
    "neigh.fit_inverse_transformed(X_train, y_train, window_size, sax_variant, symbol_mapping=symbol_mapping)\n",
    "score_inverse_transformed = neigh.eval(X_test, y_test, classification_metrics_lst)"
   ]
  },
  {
   "cell_type": "markdown",
   "id": "fecf4679-b29a-42a6-b479-3fac43b55806",
   "metadata": {},
   "source": [
    "### Second approach: Fit and evaluate classifier with discretized data\n",
    "1. Discretize training and test data as symbolic representation\n",
    "2. Encode symbolic representation for fitting and evaluation"
   ]
  },
  {
   "cell_type": "code",
   "execution_count": 15,
   "id": "3a077efc-d757-429f-9d77-03fbdcfe9b2a",
   "metadata": {},
   "outputs": [],
   "source": [
    "from pattern_recognition.utils import get_linearized_encoded_sax\n",
    "\n",
    "\n",
    "# Discretize test data\n",
    "X_test_linearized_encoded, X_test_sax = get_linearized_encoded_sax(X_test, window_size, sax_variant)"
   ]
  },
  {
   "cell_type": "code",
   "execution_count": 16,
   "id": "9316cb27-2169-4e7c-8e8d-1d5ad16d8664",
   "metadata": {},
   "outputs": [],
   "source": [
    "neigh.fit_discretized_encoded(X_train, y_train, window_size, sax_variant)\n",
    "score_linearized_encoded = neigh.eval(X_test_linearized_encoded, y_test, classification_metrics_lst)"
   ]
  },
  {
   "cell_type": "code",
   "execution_count": 17,
   "id": "60e26e60-92e2-4315-9b31-a525256c51c9",
   "metadata": {},
   "outputs": [
    {
     "data": {
      "image/png": "[encoded data removed]",
      "text/plain": [
       "<Figure size 1500x500 with 1 Axes>"
      ]
     },
     "metadata": {},
     "output_type": "display_data"
    }
   ],
   "source": [
    "from pattern_recognition.graphics import plot_eval_metrics_comparison\n",
    "\n",
    "\n",
    "plot_eval_metrics_comparison(score_raw, score_inverse_transformed, score_linearized_encoded)"
   ]
  },
  {
   "cell_type": "markdown",
   "id": "488a2765-0059-47a1-947c-eb5a808da560",
   "metadata": {},
   "source": [
    "### Clustering algorithms"
   ]
  },
  {
   "cell_type": "markdown",
   "id": "4d502f2d-77d4-46d4-9c49-5496d6afa500",
   "metadata": {},
   "source": [
    "### Ground truth clustering evaluation metrics"
   ]
  },
  {
   "cell_type": "code",
   "execution_count": 18,
   "id": "1d2b4e4a-92ea-4709-b100-b11e5495a611",
   "metadata": {},
   "outputs": [],
   "source": [
    "from pattern_recognition.clustering.eval_metrics import CLUSTERING_METRICS_MODULE\n",
    "from utils import get_metric_instance\n",
    "\n",
    "\n",
    "ground_truth_clustering_metrics = [\"RandIndex\", \"AdjustedRandIndex\", \"MutualInformation\", \"AdjustedMutualInformation\", \"NormalizedMutualInformation\", \"Homogeneity\",\n",
    "                                   \"Completeness\", \"VMeasure\", \"FowlkesMallowsIndex\"]\n",
    "\n",
    "ground_truth_clustering_metrics_lst = [get_metric_instance(CLUSTERING_METRICS_MODULE, metric) for metric in ground_truth_clustering_metrics]"
   ]
  },
  {
   "cell_type": "markdown",
   "id": "0e145184-bff5-42b5-b001-ef1d88c49b7a",
   "metadata": {},
   "source": [
    "### Internal clustering evaluation metrics (without ground truth)"
   ]
  },
  {
   "cell_type": "code",
   "execution_count": 19,
   "id": "b7d92795-cdba-4ac9-a383-873b4ad785f5",
   "metadata": {},
   "outputs": [],
   "source": [
    "internal_clustering_metrics = [\"SilhouetteCoefficient\", \"CalinskiHarabaszIndex\", \"DaviesBouldinIndex\"]\n",
    "\n",
    "internal_clustering_metrics_lst = [get_metric_instance(CLUSTERING_METRICS_MODULE, metric) for metric in internal_clustering_metrics]"
   ]
  },
  {
   "cell_type": "markdown",
   "id": "0adcba64-8358-4f64-9184-2d6bb6fff6cd",
   "metadata": {},
   "source": [
    "### Fit clustering with raw data"
   ]
  },
  {
   "cell_type": "code",
   "execution_count": 20,
   "id": "120d7960-a804-434c-9aa1-3fbe7fed1628",
   "metadata": {},
   "outputs": [],
   "source": [
    "from pattern_recognition.clustering.clusterings import TimeSeriesKMeans, TimeSeriesBirch, TimeSeriesAffinityPropagation\n",
    "\n",
    "\n",
    "kmeans = TimeSeriesKMeans(n_clusters=15, random_state=1)\n",
    "kmeans.fit(X_train)\n",
    "score_ground_truth_raw = kmeans.ground_truth_eval(y_train, ground_truth_clustering_metrics_lst)"
   ]
  },
  {
   "cell_type": "markdown",
   "id": "a311a910-1103-43b2-b543-25d2e8bdab5a",
   "metadata": {},
   "source": [
    "### First approach: Fit clustering with inverse transformed training data\n",
    "1. Discretize training data as symbolic representation\n",
    "2. Inverse transform discretized training data"
   ]
  },
  {
   "cell_type": "code",
   "execution_count": 21,
   "id": "ba47d00b-c64a-4901-bd8b-5b6b1ade200e",
   "metadata": {},
   "outputs": [],
   "source": [
    "kmeans.fit_inverse_transformed(X_train, window_size, sax_variant, symbol_mapping=symbol_mapping)\n",
    "score_ground_truth_inverse_transformed = kmeans.ground_truth_eval(y_train, ground_truth_clustering_metrics_lst)"
   ]
  },
  {
   "cell_type": "markdown",
   "id": "5d7c08b8-7469-4996-9e50-abbd3c895489",
   "metadata": {
    "tags": []
   },
   "source": [
    "### Second approach: Fit and evaluate clustering with discretized data\n",
    "1. Discretize training and test data as symbolic representation\n",
    "2. Encode symbolic representation for fitting and evaluation"
   ]
  },
  {
   "cell_type": "code",
   "execution_count": 22,
   "id": "e53ace43-6500-4b3d-98c9-664e82085bd5",
   "metadata": {},
   "outputs": [],
   "source": [
    "kmeans.fit_discretized_encoded(X_train, window_size, sax_variant)\n",
    "score_ground_truth_linearized_encoded = kmeans.ground_truth_eval(y_train, ground_truth_clustering_metrics_lst)"
   ]
  },
  {
   "cell_type": "code",
   "execution_count": 23,
   "id": "0a31b28a-f5f0-4867-81a9-ceaeb48f5fd4",
   "metadata": {},
   "outputs": [
    {
     "data": {
      "image/png": "[encoded data removed]",
      "text/plain": [
       "<Figure size 1500x500 with 1 Axes>"
      ]
     },
     "metadata": {},
     "output_type": "display_data"
    }
   ],
   "source": [
    "plot_eval_metrics_comparison(score_ground_truth_raw, score_ground_truth_inverse_transformed, score_ground_truth_linearized_encoded)"
   ]
  },
  {
   "cell_type": "markdown",
   "id": "7716043c-292b-40ea-bf60-4275871e2303",
   "metadata": {},
   "source": [
    "### Find best clustering for different number of clusters\n",
    "Available for all available clustering algorithms with the three internal evaluation metrics mentioned above\n",
    "\n",
    "In addition, ssq error available for k-means"
   ]
  },
  {
   "cell_type": "code",
   "execution_count": 27,
   "id": "5706263a-6f5a-49bb-8c57-12a116416dd9",
   "metadata": {},
   "outputs": [],
   "source": [
    "ssq_error, silhouette, calinski_harabasz, davies_bouldin = [], [], [], []\n",
    "for k in range(2,31):\n",
    "    kmeans = TimeSeriesKMeans(n_clusters=k, random_state=1)\n",
    "    kmeans.fit(X_train)\n",
    "    scores = kmeans.internal_eval(X_train, internal_clustering_metrics_lst)\n",
    "    ssq_error.append(scores[\"SSQ-Error\"])\n",
    "    silhouette.append(scores[\"Silhouette\"])\n",
    "    calinski_harabasz.append(scores[\"Calinski-Harabasz\"])\n",
    "    davies_bouldin.append(scores[\"Davies-Bouldin\"])"
   ]
  },
  {
   "cell_type": "code",
   "execution_count": 28,
   "id": "cc7aa20c-f18b-42fb-92cc-2270ccb6c0cd",
   "metadata": {},
   "outputs": [
    {
     "data": {
      "image/png": "[encoded data removed]",
      "text/plain": [
       "<Figure size 1500x500 with 4 Axes>"
      ]
     },
     "metadata": {},
     "output_type": "display_data"
    }
   ],
   "source": [
    "from graphics import plot_internal_clustering_metrics\n",
    "\n",
    "\n",
    "plot_internal_clustering_metrics(np.array(silhouette), np.array(calinski_harabasz), np.array(davies_bouldin), 2, ssq_error)"
   ]
  }
 ],
 "metadata": {
  "kernelspec": {
   "display_name": "bachelor-thesis-kernel",
   "language": "python",
   "name": "bachelor-thesis-kernel"
  },
  "language_info": {
   "codemirror_mode": {
    "name": "ipython",
    "version": 3
   },
   "file_extension": ".py",
   "mimetype": "text/x-python",
   "name": "python",
   "nbconvert_exporter": "python",
   "pygments_lexer": "ipython3",
   "version": "3.9.13"
  }
 },
 "nbformat": 4,
 "nbformat_minor": 5
}
