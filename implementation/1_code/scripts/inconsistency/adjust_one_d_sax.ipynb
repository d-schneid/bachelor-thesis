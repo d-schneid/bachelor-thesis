{
 "cells": [
  {
   "cell_type": "code",
   "execution_count": 1,
   "id": "602bbdf0-3bae-477d-b0aa-1234f478eff5",
   "metadata": {},
   "outputs": [],
   "source": [
    "import pandas as pd\n",
    "\n",
    "from utils import constant_segmentation, load_parquet_to_df_list, z_normalize, interpolate_segments\n",
    "from approximation.paa import PAA\n",
    "from discretization.sax.one_d_sax import OneDSAX, compute_slopes\n",
    "from discretization.sax.symbol_mapping import IntervalNormMedian, IntervalMean, MeanValuePoints, MedianValuePoints"
   ]
  },
  {
   "cell_type": "markdown",
   "id": "aa5a59fd-2fde-4d93-b7d4-606553e342b6",
   "metadata": {},
   "source": [
    "### Symmetric time series\n",
    "Every value is contained twice except 0\n",
    "\n",
    "Check if those values are discretized into the same bins"
   ]
  },
  {
   "cell_type": "code",
   "execution_count": 2,
   "id": "9a3299dc-80e1-4bbf-9624-2c37d7e17941",
   "metadata": {},
   "outputs": [
    {
     "data": {
      "text/plain": [
       "<AxesSubplot: >"
      ]
     },
     "execution_count": 2,
     "metadata": {},
     "output_type": "execute_result"
    },
    {
     "data": {
      "image/png": "[encoded data removed]",
      "text/plain": [
       "<Figure size 640x480 with 1 Axes>"
      ]
     },
     "metadata": {},
     "output_type": "display_data"
    }
   ],
   "source": [
    "df = pd.DataFrame([[2],[1.5],[1],[0.5],[0],[0.5],[1],[1.5],[2]])\n",
    "df.plot()"
   ]
  },
  {
   "cell_type": "code",
   "execution_count": 3,
   "id": "f5470580-51aa-4b42-b041-ff80e53bbc9c",
   "metadata": {},
   "outputs": [],
   "source": [
    "paa = PAA(window_size=3)\n",
    "df_paa = paa.transform(df)"
   ]
  },
  {
   "cell_type": "code",
   "execution_count": 4,
   "id": "a5fa120a-e7a2-42ba-a318-acd2804b4c98",
   "metadata": {},
   "outputs": [
    {
     "data": {
      "text/html": [
       "<div>\n",
       "<style scoped>\n",
       "    .dataframe tbody tr th:only-of-type {\n",
       "        vertical-align: middle;\n",
       "    }\n",
       "\n",
       "    .dataframe tbody tr th {\n",
       "        vertical-align: top;\n",
       "    }\n",
       "\n",
       "    .dataframe thead th {\n",
       "        text-align: right;\n",
       "    }\n",
       "</style>\n",
       "<table border=\"1\" class=\"dataframe\">\n",
       "  <thead>\n",
       "    <tr style=\"text-align: right;\">\n",
       "      <th></th>\n",
       "      <th>0</th>\n",
       "    </tr>\n",
       "  </thead>\n",
       "  <tbody>\n",
       "    <tr>\n",
       "      <th>0</th>\n",
       "      <td>ba</td>\n",
       "    </tr>\n",
       "    <tr>\n",
       "      <th>1</th>\n",
       "      <td>bb</td>\n",
       "    </tr>\n",
       "    <tr>\n",
       "      <th>2</th>\n",
       "      <td>bc</td>\n",
       "    </tr>\n",
       "  </tbody>\n",
       "</table>\n",
       "</div>"
      ],
      "text/plain": [
       "    0\n",
       "0  ba\n",
       "1  bb\n",
       "2  bc"
      ]
     },
     "execution_count": 4,
     "metadata": {},
     "output_type": "execute_result"
    }
   ],
   "source": [
    "one_d_sax = OneDSAX(alphabet_size_avg = 2, alphabet_size_slope=3)\n",
    "df_one_d_sax = one_d_sax.transform(df_paa, df, paa.window_size)\n",
    "df_one_d_sax"
   ]
  },
  {
   "cell_type": "markdown",
   "id": "842cde45-e283-4b66-86dc-24cacf2c67d5",
   "metadata": {},
   "source": [
    "### Segment symbols are the bin for all points in the segment\n",
    "Need to account for decreasing and increasing slopes\n",
    "\n",
    "\"ba\" and \"bc\" is the same bin, because \"a\" and \"c\" are opposite symbols in used alphabet for slope values"
   ]
  },
  {
   "cell_type": "code",
   "execution_count": 5,
   "id": "bb10cbe1-1268-4c91-ad19-fd6c24e0006e",
   "metadata": {},
   "outputs": [
    {
     "data": {
      "text/html": [
       "<div>\n",
       "<style scoped>\n",
       "    .dataframe tbody tr th:only-of-type {\n",
       "        vertical-align: middle;\n",
       "    }\n",
       "\n",
       "    .dataframe tbody tr th {\n",
       "        vertical-align: top;\n",
       "    }\n",
       "\n",
       "    .dataframe thead th {\n",
       "        text-align: right;\n",
       "    }\n",
       "</style>\n",
       "<table border=\"1\" class=\"dataframe\">\n",
       "  <thead>\n",
       "    <tr style=\"text-align: right;\">\n",
       "      <th></th>\n",
       "      <th>0</th>\n",
       "    </tr>\n",
       "  </thead>\n",
       "  <tbody>\n",
       "    <tr>\n",
       "      <th>0</th>\n",
       "      <td>ba</td>\n",
       "    </tr>\n",
       "    <tr>\n",
       "      <th>1</th>\n",
       "      <td>ba</td>\n",
       "    </tr>\n",
       "    <tr>\n",
       "      <th>2</th>\n",
       "      <td>ba</td>\n",
       "    </tr>\n",
       "    <tr>\n",
       "      <th>3</th>\n",
       "      <td>bb</td>\n",
       "    </tr>\n",
       "    <tr>\n",
       "      <th>4</th>\n",
       "      <td>bb</td>\n",
       "    </tr>\n",
       "    <tr>\n",
       "      <th>5</th>\n",
       "      <td>bb</td>\n",
       "    </tr>\n",
       "    <tr>\n",
       "      <th>6</th>\n",
       "      <td>bc</td>\n",
       "    </tr>\n",
       "    <tr>\n",
       "      <th>7</th>\n",
       "      <td>bc</td>\n",
       "    </tr>\n",
       "    <tr>\n",
       "      <th>8</th>\n",
       "      <td>bc</td>\n",
       "    </tr>\n",
       "  </tbody>\n",
       "</table>\n",
       "</div>"
      ],
      "text/plain": [
       "    0\n",
       "0  ba\n",
       "1  ba\n",
       "2  ba\n",
       "3  bb\n",
       "4  bb\n",
       "5  bb\n",
       "6  bc\n",
       "7  bc\n",
       "8  bc"
      ]
     },
     "execution_count": 5,
     "metadata": {},
     "output_type": "execute_result"
    }
   ],
   "source": [
    "df_symbolic_ts = one_d_sax.transform_to_symbolic_ts(df_paa, df, paa.window_size)\n",
    "df_symbolic_ts"
   ]
  },
  {
   "cell_type": "markdown",
   "id": "459db836-15af-4c59-812a-09799b7b8825",
   "metadata": {},
   "source": [
    "### This can also be seen as they are inverse transformed to the same value despite the different slope symbols"
   ]
  },
  {
   "cell_type": "code",
   "execution_count": 6,
   "id": "8703ba1f-97a9-46f7-b520-d3e799dee1bf",
   "metadata": {},
   "outputs": [],
   "source": [
    "symbol_mapping_avg = IntervalNormMedian(alphabet_size=one_d_sax.alphabet_size_avg)\n",
    "# var_slope only available after transformation\n",
    "symbol_mapping_slope = IntervalNormMedian(alphabet_size=one_d_sax.alphabet_size_slope, var=one_d_sax.var_slope)"
   ]
  },
  {
   "cell_type": "code",
   "execution_count": 7,
   "id": "e19ae91e-b4ff-4189-99b3-07869a889138",
   "metadata": {},
   "outputs": [
    {
     "name": "stderr",
     "output_type": "stream",
     "text": [
      "c:\\users\\danie\\documents\\karlsruhe\\03_kit_studium\\07_semester\\bachelorarbeit\\bachelorarbeit\\repo\\implementation\\1_code\\src\\discretization\\sax\\one_d_sax.py:208: UserWarning: Make sure you have initialized the chosen 'symbol_mapping_slope' strategy with the variance of the Gaussian distribution that was used to determine the breakpoint intervals for the segment slopes.\n",
      "  warnings.warn(\"Make sure you have initialized the chosen \"\n"
     ]
    },
    {
     "data": {
      "text/html": [
       "<div>\n",
       "<style scoped>\n",
       "    .dataframe tbody tr th:only-of-type {\n",
       "        vertical-align: middle;\n",
       "    }\n",
       "\n",
       "    .dataframe tbody tr th {\n",
       "        vertical-align: top;\n",
       "    }\n",
       "\n",
       "    .dataframe thead th {\n",
       "        text-align: right;\n",
       "    }\n",
       "</style>\n",
       "<table border=\"1\" class=\"dataframe\">\n",
       "  <thead>\n",
       "    <tr style=\"text-align: right;\">\n",
       "      <th></th>\n",
       "      <th>0</th>\n",
       "    </tr>\n",
       "  </thead>\n",
       "  <tbody>\n",
       "    <tr>\n",
       "      <th>0</th>\n",
       "      <td>0.771232</td>\n",
       "    </tr>\n",
       "    <tr>\n",
       "      <th>1</th>\n",
       "      <td>0.67449</td>\n",
       "    </tr>\n",
       "    <tr>\n",
       "      <th>2</th>\n",
       "      <td>0.577748</td>\n",
       "    </tr>\n",
       "    <tr>\n",
       "      <th>3</th>\n",
       "      <td>0.67449</td>\n",
       "    </tr>\n",
       "    <tr>\n",
       "      <th>4</th>\n",
       "      <td>0.67449</td>\n",
       "    </tr>\n",
       "    <tr>\n",
       "      <th>5</th>\n",
       "      <td>0.67449</td>\n",
       "    </tr>\n",
       "    <tr>\n",
       "      <th>6</th>\n",
       "      <td>0.577748</td>\n",
       "    </tr>\n",
       "    <tr>\n",
       "      <th>7</th>\n",
       "      <td>0.67449</td>\n",
       "    </tr>\n",
       "    <tr>\n",
       "      <th>8</th>\n",
       "      <td>0.771232</td>\n",
       "    </tr>\n",
       "  </tbody>\n",
       "</table>\n",
       "</div>"
      ],
      "text/plain": [
       "          0\n",
       "0  0.771232\n",
       "1   0.67449\n",
       "2  0.577748\n",
       "3   0.67449\n",
       "4   0.67449\n",
       "5   0.67449\n",
       "6  0.577748\n",
       "7   0.67449\n",
       "8  0.771232"
      ]
     },
     "execution_count": 7,
     "metadata": {},
     "output_type": "execute_result"
    }
   ],
   "source": [
    "df_inv = one_d_sax.inv_transform(df, df_one_d_sax, paa.window_size, symbol_mapping_avg, symbol_mapping_slope)\n",
    "df_inv"
   ]
  }
 ],
 "metadata": {
  "kernelspec": {
   "display_name": "bachelor-thesis-kernel",
   "language": "python",
   "name": "bachelor-thesis-kernel"
  },
  "language_info": {
   "codemirror_mode": {
    "name": "ipython",
    "version": 3
   },
   "file_extension": ".py",
   "mimetype": "text/x-python",
   "name": "python",
   "nbconvert_exporter": "python",
   "pygments_lexer": "ipython3",
   "version": "3.9.13"
  }
 },
 "nbformat": 4,
 "nbformat_minor": 5
}
