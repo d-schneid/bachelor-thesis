{
 "cells": [
  {
   "cell_type": "code",
   "execution_count": 1,
   "id": "21ab6714-aefd-4f39-b4c9-244a9b0bfa6e",
   "metadata": {},
   "outputs": [],
   "source": [
    "import numpy as np\n",
    "import pandas as pd\n",
    "\n",
    "from utils import load_parquet_to_df_list, z_normalize, scale_min_max\n",
    "from approximation.paa import PAA\n",
    "from discretization.sax.sax import SAX\n",
    "from discretization.sax.one_d_sax import OneDSAX, compute_slopes\n",
    "from discretization.sax.adaptive_sax import AdaptiveSAX\n",
    "from discretization.sax.extended_sax import ExtendedSAX\n",
    "from discretization.persist.persist import Persist\n",
    "from information_embedding_cost.information_loss import compute_information_loss, _compute_reconstructed_ts\n",
    "from discretization.symbol_mapping import IntervalNormMedian, IntervalMean, MeanValuePoints, MedianValuePoints, EncodedMinMaxScaling"
   ]
  },
  {
   "cell_type": "code",
   "execution_count": 2,
   "id": "7c798d4c-6af1-4276-90b3-17603cde4023",
   "metadata": {},
   "outputs": [
    {
     "data": {
      "text/html": [
       "<div>\n",
       "<style scoped>\n",
       "    .dataframe tbody tr th:only-of-type {\n",
       "        vertical-align: middle;\n",
       "    }\n",
       "\n",
       "    .dataframe tbody tr th {\n",
       "        vertical-align: top;\n",
       "    }\n",
       "\n",
       "    .dataframe thead th {\n",
       "        text-align: right;\n",
       "    }\n",
       "</style>\n",
       "<table border=\"1\" class=\"dataframe\">\n",
       "  <thead>\n",
       "    <tr style=\"text-align: right;\">\n",
       "      <th></th>\n",
       "      <th>signal</th>\n",
       "      <th>signal</th>\n",
       "      <th>signal</th>\n",
       "      <th>signal</th>\n",
       "      <th>signal</th>\n",
       "      <th>signal</th>\n",
       "      <th>signal</th>\n",
       "      <th>signal</th>\n",
       "      <th>signal</th>\n",
       "      <th>signal</th>\n",
       "    </tr>\n",
       "  </thead>\n",
       "  <tbody>\n",
       "    <tr>\n",
       "      <th>0</th>\n",
       "      <td>2.223633</td>\n",
       "      <td>1.879365</td>\n",
       "      <td>1.737821</td>\n",
       "      <td>1.849911</td>\n",
       "      <td>1.272420</td>\n",
       "      <td>1.855131</td>\n",
       "      <td>1.980311</td>\n",
       "      <td>1.256096</td>\n",
       "      <td>2.372685</td>\n",
       "      <td>1.757239</td>\n",
       "    </tr>\n",
       "    <tr>\n",
       "      <th>1</th>\n",
       "      <td>2.058567</td>\n",
       "      <td>1.733153</td>\n",
       "      <td>1.708888</td>\n",
       "      <td>1.756304</td>\n",
       "      <td>1.242152</td>\n",
       "      <td>1.699672</td>\n",
       "      <td>1.945595</td>\n",
       "      <td>1.177800</td>\n",
       "      <td>2.214034</td>\n",
       "      <td>1.623284</td>\n",
       "    </tr>\n",
       "    <tr>\n",
       "      <th>2</th>\n",
       "      <td>1.849589</td>\n",
       "      <td>1.579823</td>\n",
       "      <td>1.559112</td>\n",
       "      <td>1.599822</td>\n",
       "      <td>1.160121</td>\n",
       "      <td>1.447596</td>\n",
       "      <td>1.994798</td>\n",
       "      <td>1.032340</td>\n",
       "      <td>1.920566</td>\n",
       "      <td>1.469904</td>\n",
       "    </tr>\n",
       "    <tr>\n",
       "      <th>3</th>\n",
       "      <td>1.642328</td>\n",
       "      <td>1.402389</td>\n",
       "      <td>1.392660</td>\n",
       "      <td>1.426092</td>\n",
       "      <td>1.058091</td>\n",
       "      <td>1.250063</td>\n",
       "      <td>1.917555</td>\n",
       "      <td>0.878520</td>\n",
       "      <td>1.678298</td>\n",
       "      <td>1.317046</td>\n",
       "    </tr>\n",
       "    <tr>\n",
       "      <th>4</th>\n",
       "      <td>1.438219</td>\n",
       "      <td>1.257130</td>\n",
       "      <td>1.149077</td>\n",
       "      <td>1.273384</td>\n",
       "      <td>1.028827</td>\n",
       "      <td>1.098138</td>\n",
       "      <td>1.882779</td>\n",
       "      <td>0.893563</td>\n",
       "      <td>1.437475</td>\n",
       "      <td>1.163565</td>\n",
       "    </tr>\n",
       "    <tr>\n",
       "      <th>...</th>\n",
       "      <td>...</td>\n",
       "      <td>...</td>\n",
       "      <td>...</td>\n",
       "      <td>...</td>\n",
       "      <td>...</td>\n",
       "      <td>...</td>\n",
       "      <td>...</td>\n",
       "      <td>...</td>\n",
       "      <td>...</td>\n",
       "      <td>...</td>\n",
       "    </tr>\n",
       "    <tr>\n",
       "      <th>123</th>\n",
       "      <td>1.345195</td>\n",
       "      <td>1.162620</td>\n",
       "      <td>1.002372</td>\n",
       "      <td>1.193060</td>\n",
       "      <td>0.755275</td>\n",
       "      <td>1.037431</td>\n",
       "      <td>1.595726</td>\n",
       "      <td>0.942026</td>\n",
       "      <td>1.364450</td>\n",
       "      <td>1.123809</td>\n",
       "    </tr>\n",
       "    <tr>\n",
       "      <th>124</th>\n",
       "      <td>1.547908</td>\n",
       "      <td>1.314745</td>\n",
       "      <td>1.222534</td>\n",
       "      <td>1.343649</td>\n",
       "      <td>0.835097</td>\n",
       "      <td>1.199133</td>\n",
       "      <td>1.534958</td>\n",
       "      <td>0.956829</td>\n",
       "      <td>1.589209</td>\n",
       "      <td>1.274539</td>\n",
       "    </tr>\n",
       "    <tr>\n",
       "      <th>125</th>\n",
       "      <td>1.760490</td>\n",
       "      <td>1.500432</td>\n",
       "      <td>1.344060</td>\n",
       "      <td>1.516737</td>\n",
       "      <td>0.896891</td>\n",
       "      <td>1.402509</td>\n",
       "      <td>1.692896</td>\n",
       "      <td>1.077517</td>\n",
       "      <td>1.821819</td>\n",
       "      <td>1.428121</td>\n",
       "    </tr>\n",
       "    <tr>\n",
       "      <th>126</th>\n",
       "      <td>1.970141</td>\n",
       "      <td>1.657326</td>\n",
       "      <td>1.589952</td>\n",
       "      <td>1.672155</td>\n",
       "      <td>1.032240</td>\n",
       "      <td>1.634548</td>\n",
       "      <td>1.739579</td>\n",
       "      <td>1.112765</td>\n",
       "      <td>2.098101</td>\n",
       "      <td>1.582936</td>\n",
       "    </tr>\n",
       "    <tr>\n",
       "      <th>127</th>\n",
       "      <td>2.175866</td>\n",
       "      <td>1.846657</td>\n",
       "      <td>1.695194</td>\n",
       "      <td>1.829802</td>\n",
       "      <td>1.242152</td>\n",
       "      <td>1.832282</td>\n",
       "      <td>1.930215</td>\n",
       "      <td>1.221180</td>\n",
       "      <td>2.328623</td>\n",
       "      <td>1.737753</td>\n",
       "    </tr>\n",
       "  </tbody>\n",
       "</table>\n",
       "<p>128 rows × 10 columns</p>\n",
       "</div>"
      ],
      "text/plain": [
       "       signal    signal    signal    signal    signal    signal    signal  \\\n",
       "0    2.223633  1.879365  1.737821  1.849911  1.272420  1.855131  1.980311   \n",
       "1    2.058567  1.733153  1.708888  1.756304  1.242152  1.699672  1.945595   \n",
       "2    1.849589  1.579823  1.559112  1.599822  1.160121  1.447596  1.994798   \n",
       "3    1.642328  1.402389  1.392660  1.426092  1.058091  1.250063  1.917555   \n",
       "4    1.438219  1.257130  1.149077  1.273384  1.028827  1.098138  1.882779   \n",
       "..        ...       ...       ...       ...       ...       ...       ...   \n",
       "123  1.345195  1.162620  1.002372  1.193060  0.755275  1.037431  1.595726   \n",
       "124  1.547908  1.314745  1.222534  1.343649  0.835097  1.199133  1.534958   \n",
       "125  1.760490  1.500432  1.344060  1.516737  0.896891  1.402509  1.692896   \n",
       "126  1.970141  1.657326  1.589952  1.672155  1.032240  1.634548  1.739579   \n",
       "127  2.175866  1.846657  1.695194  1.829802  1.242152  1.832282  1.930215   \n",
       "\n",
       "       signal    signal    signal  \n",
       "0    1.256096  2.372685  1.757239  \n",
       "1    1.177800  2.214034  1.623284  \n",
       "2    1.032340  1.920566  1.469904  \n",
       "3    0.878520  1.678298  1.317046  \n",
       "4    0.893563  1.437475  1.163565  \n",
       "..        ...       ...       ...  \n",
       "123  0.942026  1.364450  1.123809  \n",
       "124  0.956829  1.589209  1.274539  \n",
       "125  1.077517  1.821819  1.428121  \n",
       "126  1.112765  2.098101  1.582936  \n",
       "127  1.221180  2.328623  1.737753  \n",
       "\n",
       "[128 rows x 10 columns]"
      ]
     },
     "execution_count": 2,
     "metadata": {},
     "output_type": "execute_result"
    }
   ],
   "source": [
    "# load time series dataset into dataframe and z-normalize it\n",
    "path = \"../../../0_data/UCRArchive_2018/SwedishLeaf/train\"\n",
    "df_list = load_parquet_to_df_list(path)\n",
    "\n",
    "# concatenate all time series to one dataframe, because they all have the same length\n",
    "df_norm = pd.concat([z_normalize(df[\"signal\"].to_frame()) for df in df_list], axis=1).iloc[:,:10]\n",
    "df_norm"
   ]
  },
  {
   "cell_type": "code",
   "execution_count": 3,
   "id": "65e07a20-ab4f-4464-a650-476d42d69110",
   "metadata": {},
   "outputs": [],
   "source": [
    "window_size = 5\n",
    "\n",
    "alphabet_size = 6\n",
    "alphabet_size_avg = 3\n",
    "alphabet_size_slope = 2"
   ]
  },
  {
   "cell_type": "code",
   "execution_count": 4,
   "id": "0c1990a2-346e-4485-ad3d-e1fb1bf2fa2f",
   "metadata": {},
   "outputs": [],
   "source": [
    "df_paa = PAA(window_size).transform(df_norm)"
   ]
  },
  {
   "cell_type": "code",
   "execution_count": 5,
   "id": "cd2b42d0-ac05-4f9b-96f0-a94fe3f507a2",
   "metadata": {},
   "outputs": [],
   "source": [
    "sax = SAX(alphabet_size)\n",
    "one_d_sax = OneDSAX(alphabet_size_avg, alphabet_size_slope)\n",
    "a_sax = AdaptiveSAX(alphabet_size)\n",
    "e_sax = ExtendedSAX(alphabet_size)\n",
    "persist = Persist(alphabet_size, skip=5)"
   ]
  },
  {
   "cell_type": "code",
   "execution_count": 6,
   "id": "496289d0-a32f-42c0-a583-f496bd421b21",
   "metadata": {},
   "outputs": [],
   "source": [
    "symbol_mapping = IntervalNormMedian(alphabet_size=sax.alphabet_size)\n",
    "symbol_mapping = IntervalMean(lower_bound=-2)\n",
    "symbol_mapping = MeanValuePoints(df_norm)\n",
    "symbol_mapping = MedianValuePoints(df_norm)\n",
    "symbol_mapping = EncodedMinMaxScaling()\n",
    "\n",
    "\n",
    "df_slopes = compute_slopes(df_norm, window_size)\n",
    "symbol_mapping_slope = IntervalMean(lower_bound=compute_slopes(df_norm, window_size).iloc[:, 0].min())"
   ]
  },
  {
   "cell_type": "code",
   "execution_count": 7,
   "id": "255015f4-35e9-4464-878d-d1fd15b2e7cd",
   "metadata": {},
   "outputs": [],
   "source": [
    "df_reconstructed_sax = _compute_reconstructed_ts(df_paa, df_norm, window_size, sax, df_breakpoints=None, scale_slopes=False, symbol_mapping=symbol_mapping)"
   ]
  },
  {
   "cell_type": "code",
   "execution_count": 8,
   "id": "9b64d245-b173-4e4b-9d22-c7c0cc6bdccb",
   "metadata": {},
   "outputs": [
    {
     "data": {
      "text/plain": [
       "<AxesSubplot: >"
      ]
     },
     "execution_count": 8,
     "metadata": {},
     "output_type": "execute_result"
    },
    {
     "data": {
      "image/png": "[encoded data removed]",
      "text/plain": [
       "<Figure size 640x480 with 1 Axes>"
      ]
     },
     "metadata": {},
     "output_type": "display_data"
    }
   ],
   "source": [
    "df_reconstructed_sax.iloc[:, 0].plot()"
   ]
  },
  {
   "cell_type": "code",
   "execution_count": 9,
   "id": "3c813b6d-6396-461a-ba2c-644e445e10cd",
   "metadata": {},
   "outputs": [],
   "source": [
    "df_reconstructed_a_sax = _compute_reconstructed_ts(df_paa, df_norm, window_size, a_sax, df_breakpoints=None, scale_slopes=True, symbol_mapping=symbol_mapping)"
   ]
  },
  {
   "cell_type": "code",
   "execution_count": 10,
   "id": "eecd54f2-b978-4a15-b3d0-37c7c5950704",
   "metadata": {},
   "outputs": [
    {
     "data": {
      "text/plain": [
       "<AxesSubplot: >"
      ]
     },
     "execution_count": 10,
     "metadata": {},
     "output_type": "execute_result"
    },
    {
     "data": {
      "image/png": "[encoded data removed]",
      "text/plain": [
       "<Figure size 640x480 with 1 Axes>"
      ]
     },
     "metadata": {},
     "output_type": "display_data"
    }
   ],
   "source": [
    "df_reconstructed_a_sax.iloc[:, 0].plot()"
   ]
  },
  {
   "cell_type": "code",
   "execution_count": 11,
   "id": "3718795c-3613-4963-8d9a-6136871a01b8",
   "metadata": {},
   "outputs": [],
   "source": [
    "df_reconstructed_e_sax = _compute_reconstructed_ts(df_paa, df_norm, window_size, e_sax, df_breakpoints=None, scale_slopes=True, symbol_mapping_mean=symbol_mapping)"
   ]
  },
  {
   "cell_type": "code",
   "execution_count": 12,
   "id": "4222d59b-65ed-4d90-baf0-43998f424120",
   "metadata": {},
   "outputs": [
    {
     "data": {
      "text/plain": [
       "<AxesSubplot: >"
      ]
     },
     "execution_count": 12,
     "metadata": {},
     "output_type": "execute_result"
    },
    {
     "data": {
      "image/png": "[encoded data removed]",
      "text/plain": [
       "<Figure size 640x480 with 1 Axes>"
      ]
     },
     "metadata": {},
     "output_type": "display_data"
    }
   ],
   "source": [
    "df_reconstructed_e_sax.iloc[:, 0].plot()"
   ]
  },
  {
   "cell_type": "code",
   "execution_count": 13,
   "id": "0a43b6cb-1864-445f-81e5-92ea8d888f1e",
   "metadata": {},
   "outputs": [],
   "source": [
    "df_reconstructed_one_d_sax = _compute_reconstructed_ts(df_paa, df_norm, window_size, one_d_sax, df_breakpoints=None, scale_slopes=True,\n",
    "                                                       symbol_mapping_avg=symbol_mapping, symbol_mapping_slope=symbol_mapping_slope)"
   ]
  },
  {
   "cell_type": "code",
   "execution_count": 14,
   "id": "d3489a96-9110-458e-a96c-336e78787897",
   "metadata": {},
   "outputs": [
    {
     "data": {
      "text/plain": [
       "<AxesSubplot: >"
      ]
     },
     "execution_count": 14,
     "metadata": {},
     "output_type": "execute_result"
    },
    {
     "data": {
      "image/png": "[encoded data removed]",
      "text/plain": [
       "<Figure size 640x480 with 1 Axes>"
      ]
     },
     "metadata": {},
     "output_type": "display_data"
    }
   ],
   "source": [
    "df_reconstructed_one_d_sax.iloc[:, 0].plot()"
   ]
  },
  {
   "cell_type": "code",
   "execution_count": 15,
   "id": "efcb677b-a5c1-49d9-a621-56c089861a51",
   "metadata": {},
   "outputs": [
    {
     "data": {
      "text/plain": [
       "0.019564381878957163"
      ]
     },
     "execution_count": 15,
     "metadata": {},
     "output_type": "execute_result"
    }
   ],
   "source": [
    "compute_information_loss(df_paa, df_norm, window_size, sax, symbol_mapping=symbol_mapping).mean()"
   ]
  },
  {
   "cell_type": "code",
   "execution_count": 16,
   "id": "5869d44e-1dff-4ce4-9a03-481f86d75669",
   "metadata": {},
   "outputs": [
    {
     "data": {
      "text/plain": [
       "0.01704893543027024"
      ]
     },
     "execution_count": 16,
     "metadata": {},
     "output_type": "execute_result"
    }
   ],
   "source": [
    "compute_information_loss(df_paa, df_norm, window_size, a_sax, symbol_mapping=symbol_mapping).mean()"
   ]
  },
  {
   "cell_type": "code",
   "execution_count": 17,
   "id": "fa1039aa-0388-4461-8aaa-11526338176f",
   "metadata": {},
   "outputs": [
    {
     "data": {
      "text/plain": [
       "0.01815982120513897"
      ]
     },
     "execution_count": 17,
     "metadata": {},
     "output_type": "execute_result"
    }
   ],
   "source": [
    "compute_information_loss(df_paa, df_norm, window_size, e_sax, symbol_mapping_mean=symbol_mapping).mean()"
   ]
  },
  {
   "cell_type": "code",
   "execution_count": 18,
   "id": "a53e9a4c-453a-449d-b492-2979f69ac5a6",
   "metadata": {},
   "outputs": [
    {
     "data": {
      "text/plain": [
       "0.03125654213968353"
      ]
     },
     "execution_count": 18,
     "metadata": {},
     "output_type": "execute_result"
    }
   ],
   "source": [
    "compute_information_loss(df_paa, df_norm, window_size, one_d_sax, symbol_mapping_avg=symbol_mapping, symbol_mapping_slope=symbol_mapping_slope).mean()"
   ]
  },
  {
   "cell_type": "code",
   "execution_count": 19,
   "id": "6e6e2615-67f1-4438-8395-902d25bc95d6",
   "metadata": {},
   "outputs": [
    {
     "data": {
      "text/plain": [
       "0.019708549603143076"
      ]
     },
     "execution_count": 19,
     "metadata": {},
     "output_type": "execute_result"
    }
   ],
   "source": [
    "compute_information_loss(df_paa, df_norm, window_size, persist, symbol_mapping=symbol_mapping).mean()"
   ]
  }
 ],
 "metadata": {
  "kernelspec": {
   "display_name": "bachelor-thesis-kernel",
   "language": "python",
   "name": "bachelor-thesis-kernel"
  },
  "language_info": {
   "codemirror_mode": {
    "name": "ipython",
    "version": 3
   },
   "file_extension": ".py",
   "mimetype": "text/x-python",
   "name": "python",
   "nbconvert_exporter": "python",
   "pygments_lexer": "ipython3",
   "version": "3.9.13"
  }
 },
 "nbformat": 4,
 "nbformat_minor": 5
}
