{
 "cells": [
  {
   "cell_type": "code",
   "execution_count": 1,
   "id": "9944cf1e-cb05-4b1f-bf96-4387ca9ab239",
   "metadata": {},
   "outputs": [],
   "source": [
    "import pandas as pd\n",
    "\n",
    "from utils import load_parquet_to_df_list, z_normalize\n",
    "from approximation.paa import PAA\n",
    "from discretization.sax.sax import SAX\n",
    "from discretization.sax.extended_sax import ExtendedSAX\n",
    "from information_embedding_cost.kullback_leibler_divergence import compute_raw_prob_distribution, compute_symbolic_prob_distribution, EquiWidth\n",
    "from discretization.sax.symbol_mapping import IntervalNormMedian\n",
    "from scipy.stats import entropy"
   ]
  },
  {
   "cell_type": "code",
   "execution_count": 2,
   "id": "71f69fb4-3dc8-4e09-b67b-72136c590031",
   "metadata": {},
   "outputs": [
    {
     "data": {
      "text/html": [
       "<div>\n",
       "<style scoped>\n",
       "    .dataframe tbody tr th:only-of-type {\n",
       "        vertical-align: middle;\n",
       "    }\n",
       "\n",
       "    .dataframe tbody tr th {\n",
       "        vertical-align: top;\n",
       "    }\n",
       "\n",
       "    .dataframe thead th {\n",
       "        text-align: right;\n",
       "    }\n",
       "</style>\n",
       "<table border=\"1\" class=\"dataframe\">\n",
       "  <thead>\n",
       "    <tr style=\"text-align: right;\">\n",
       "      <th></th>\n",
       "      <th>signal</th>\n",
       "      <th>signal</th>\n",
       "    </tr>\n",
       "  </thead>\n",
       "  <tbody>\n",
       "    <tr>\n",
       "      <th>0</th>\n",
       "      <td>2.223633</td>\n",
       "      <td>1.879365</td>\n",
       "    </tr>\n",
       "    <tr>\n",
       "      <th>1</th>\n",
       "      <td>2.058567</td>\n",
       "      <td>1.733153</td>\n",
       "    </tr>\n",
       "    <tr>\n",
       "      <th>2</th>\n",
       "      <td>1.849589</td>\n",
       "      <td>1.579823</td>\n",
       "    </tr>\n",
       "    <tr>\n",
       "      <th>3</th>\n",
       "      <td>1.642328</td>\n",
       "      <td>1.402389</td>\n",
       "    </tr>\n",
       "    <tr>\n",
       "      <th>4</th>\n",
       "      <td>1.438219</td>\n",
       "      <td>1.257130</td>\n",
       "    </tr>\n",
       "    <tr>\n",
       "      <th>...</th>\n",
       "      <td>...</td>\n",
       "      <td>...</td>\n",
       "    </tr>\n",
       "    <tr>\n",
       "      <th>123</th>\n",
       "      <td>1.345195</td>\n",
       "      <td>1.162620</td>\n",
       "    </tr>\n",
       "    <tr>\n",
       "      <th>124</th>\n",
       "      <td>1.547908</td>\n",
       "      <td>1.314745</td>\n",
       "    </tr>\n",
       "    <tr>\n",
       "      <th>125</th>\n",
       "      <td>1.760490</td>\n",
       "      <td>1.500432</td>\n",
       "    </tr>\n",
       "    <tr>\n",
       "      <th>126</th>\n",
       "      <td>1.970141</td>\n",
       "      <td>1.657326</td>\n",
       "    </tr>\n",
       "    <tr>\n",
       "      <th>127</th>\n",
       "      <td>2.175866</td>\n",
       "      <td>1.846657</td>\n",
       "    </tr>\n",
       "  </tbody>\n",
       "</table>\n",
       "<p>128 rows × 2 columns</p>\n",
       "</div>"
      ],
      "text/plain": [
       "       signal    signal\n",
       "0    2.223633  1.879365\n",
       "1    2.058567  1.733153\n",
       "2    1.849589  1.579823\n",
       "3    1.642328  1.402389\n",
       "4    1.438219  1.257130\n",
       "..        ...       ...\n",
       "123  1.345195  1.162620\n",
       "124  1.547908  1.314745\n",
       "125  1.760490  1.500432\n",
       "126  1.970141  1.657326\n",
       "127  2.175866  1.846657\n",
       "\n",
       "[128 rows x 2 columns]"
      ]
     },
     "execution_count": 2,
     "metadata": {},
     "output_type": "execute_result"
    }
   ],
   "source": [
    "# load time series dataset into dataframe and z-normalize it\n",
    "path = \"../../../0_data/UCRArchive_2018/SwedishLeaf/train\"\n",
    "df_list = load_parquet_to_df_list(path)\n",
    "\n",
    "# concatenate all time series to one dataframe, because they all have the same length\n",
    "df_norm = pd.concat([z_normalize(df[\"signal\"].to_frame()) for df in df_list], axis=1).iloc[:, :2]\n",
    "df_norm"
   ]
  },
  {
   "cell_type": "code",
   "execution_count": 3,
   "id": "cf312df0-dff2-41e0-ac5a-ccb9cfdc13c4",
   "metadata": {},
   "outputs": [],
   "source": [
    "alphabet_size = 5\n",
    "\n",
    "sax = SAX(alphabet_size)\n",
    "e_sax = ExtendedSAX(alphabet_size)\n",
    "\n"
   ]
  },
  {
   "cell_type": "code",
   "execution_count": 4,
   "id": "1f8bee4a-4df6-4341-9e4a-82eb2ea92c9d",
   "metadata": {},
   "outputs": [],
   "source": [
    "interval_norm_median = IntervalNormMedian(alphabet_size)"
   ]
  },
  {
   "cell_type": "code",
   "execution_count": 5,
   "id": "f513d3b7-6dc6-40fe-a1db-1bed08720e41",
   "metadata": {},
   "outputs": [],
   "source": [
    "window_size = 5\n",
    "\n",
    "paa = PAA(window_size)\n",
    "df_paa = paa.transform(df_norm)"
   ]
  },
  {
   "cell_type": "code",
   "execution_count": 6,
   "id": "2debeac3-61f6-45d8-8a86-fd44eb9d136d",
   "metadata": {},
   "outputs": [],
   "source": [
    "df_sax = sax.transform(df_paa)\n",
    "df_e_sax, df_sax_mean, df_sax_max, df_sax_min = e_sax.transform(df_paa, df_norm, window_size)"
   ]
  },
  {
   "cell_type": "code",
   "execution_count": 7,
   "id": "b4ba9463-9bf5-4e23-8f2e-7aad89e43f35",
   "metadata": {},
   "outputs": [],
   "source": [
    "df_sax_inv = sax.inv_transform(df_sax, df_norm.shape[0], window_size, interval_norm_median)\n",
    "df_e_sax_inv = e_sax.inv_transform(df_sax_mean, df_sax_max, df_sax_min, df_norm.shape[0], window_size, interval_norm_median)"
   ]
  },
  {
   "cell_type": "code",
   "execution_count": 8,
   "id": "3330f274-1568-476c-af51-dbd2e512a1b7",
   "metadata": {},
   "outputs": [],
   "source": [
    "equi_width = EquiWidth()\n",
    "\n",
    "sax_raw = compute_raw_prob_distribution(df_norm, sax, equi_width)\n",
    "e_sax_raw = compute_raw_prob_distribution(df_norm, e_sax, equi_width)\n",
    "\n",
    "sax_inv = compute_raw_prob_distribution(df_sax_inv, sax, equi_width)\n",
    "e_sax_inv = compute_raw_prob_distribution(df_e_sax_inv, sax, equi_width)"
   ]
  },
  {
   "cell_type": "code",
   "execution_count": 9,
   "id": "6b8359c6-4faf-48e0-bf78-c2b6356f63e9",
   "metadata": {},
   "outputs": [
    {
     "data": {
      "text/plain": [
       "array([0.07604773, 0.13980701])"
      ]
     },
     "execution_count": 9,
     "metadata": {},
     "output_type": "execute_result"
    }
   ],
   "source": [
    "sax_entropy = entropy(sax_raw, sax_inv)\n",
    "e_sax_entropy = entropy(e_sax_raw, e_sax_inv)\n",
    "sax_entropy"
   ]
  },
  {
   "cell_type": "code",
   "execution_count": 10,
   "id": "3894ba4a-0614-432e-a8fd-c2b9478ea8ad",
   "metadata": {},
   "outputs": [
    {
     "data": {
      "text/plain": [
       "array([0.08929887, 0.1436536 ])"
      ]
     },
     "execution_count": 10,
     "metadata": {},
     "output_type": "execute_result"
    }
   ],
   "source": [
    "e_sax_entropy"
   ]
  }
 ],
 "metadata": {
  "kernelspec": {
   "display_name": "bachelor-thesis-kernel",
   "language": "python",
   "name": "bachelor-thesis-kernel"
  },
  "language_info": {
   "codemirror_mode": {
    "name": "ipython",
    "version": 3
   },
   "file_extension": ".py",
   "mimetype": "text/x-python",
   "name": "python",
   "nbconvert_exporter": "python",
   "pygments_lexer": "ipython3",
   "version": "3.9.13"
  }
 },
 "nbformat": 4,
 "nbformat_minor": 5
}
