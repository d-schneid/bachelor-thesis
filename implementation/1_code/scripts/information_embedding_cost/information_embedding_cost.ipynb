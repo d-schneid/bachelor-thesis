{
 "cells": [
  {
   "cell_type": "code",
   "execution_count": 1,
   "id": "f60e1fff-0d66-4c96-816e-523ef9c2d9f3",
   "metadata": {},
   "outputs": [],
   "source": [
    "import numpy as np\n",
    "import pandas as pd\n",
    "\n",
    "from utils import load_parquet_to_df_list, z_normalize, scale_min_max\n",
    "from approximation.paa import PAA\n",
    "from discretization.sax.sax import SAX\n",
    "from discretization.sax.one_d_sax import OneDSAX, compute_slopes\n",
    "from discretization.sax.adaptive_sax import AdaptiveSAX\n",
    "from discretization.sax.extended_sax import ExtendedSAX\n",
    "from discretization.persist.persist import Persist\n",
    "from information_embedding_cost.information_embedding_cost import compute_information_embedding_cost\n",
    "from discretization.symbol_mapping import IntervalNormMedian, IntervalMean, MeanValuePoints, MedianValuePoints, EncodedMinMaxScaling\n",
    "from information_embedding_cost.kullback_leibler_divergence import EqualWidthBinning, QuantileBinning"
   ]
  },
  {
   "cell_type": "code",
   "execution_count": 2,
   "id": "acb2f4ae-44d4-4868-bbcd-936600ebc30e",
   "metadata": {},
   "outputs": [
    {
     "data": {
      "text/html": [
       "<div>\n",
       "<style scoped>\n",
       "    .dataframe tbody tr th:only-of-type {\n",
       "        vertical-align: middle;\n",
       "    }\n",
       "\n",
       "    .dataframe tbody tr th {\n",
       "        vertical-align: top;\n",
       "    }\n",
       "\n",
       "    .dataframe thead th {\n",
       "        text-align: right;\n",
       "    }\n",
       "</style>\n",
       "<table border=\"1\" class=\"dataframe\">\n",
       "  <thead>\n",
       "    <tr style=\"text-align: right;\">\n",
       "      <th></th>\n",
       "      <th>signal</th>\n",
       "      <th>signal</th>\n",
       "      <th>signal</th>\n",
       "      <th>signal</th>\n",
       "      <th>signal</th>\n",
       "      <th>signal</th>\n",
       "      <th>signal</th>\n",
       "      <th>signal</th>\n",
       "      <th>signal</th>\n",
       "      <th>signal</th>\n",
       "    </tr>\n",
       "  </thead>\n",
       "  <tbody>\n",
       "    <tr>\n",
       "      <th>0</th>\n",
       "      <td>2.223633</td>\n",
       "      <td>1.879365</td>\n",
       "      <td>1.737821</td>\n",
       "      <td>1.849911</td>\n",
       "      <td>1.272420</td>\n",
       "      <td>1.855131</td>\n",
       "      <td>1.980311</td>\n",
       "      <td>1.256096</td>\n",
       "      <td>2.372685</td>\n",
       "      <td>1.757239</td>\n",
       "    </tr>\n",
       "    <tr>\n",
       "      <th>1</th>\n",
       "      <td>2.058567</td>\n",
       "      <td>1.733153</td>\n",
       "      <td>1.708888</td>\n",
       "      <td>1.756304</td>\n",
       "      <td>1.242152</td>\n",
       "      <td>1.699672</td>\n",
       "      <td>1.945595</td>\n",
       "      <td>1.177800</td>\n",
       "      <td>2.214034</td>\n",
       "      <td>1.623284</td>\n",
       "    </tr>\n",
       "    <tr>\n",
       "      <th>2</th>\n",
       "      <td>1.849589</td>\n",
       "      <td>1.579823</td>\n",
       "      <td>1.559112</td>\n",
       "      <td>1.599822</td>\n",
       "      <td>1.160121</td>\n",
       "      <td>1.447596</td>\n",
       "      <td>1.994798</td>\n",
       "      <td>1.032340</td>\n",
       "      <td>1.920566</td>\n",
       "      <td>1.469904</td>\n",
       "    </tr>\n",
       "    <tr>\n",
       "      <th>3</th>\n",
       "      <td>1.642328</td>\n",
       "      <td>1.402389</td>\n",
       "      <td>1.392660</td>\n",
       "      <td>1.426092</td>\n",
       "      <td>1.058091</td>\n",
       "      <td>1.250063</td>\n",
       "      <td>1.917555</td>\n",
       "      <td>0.878520</td>\n",
       "      <td>1.678298</td>\n",
       "      <td>1.317046</td>\n",
       "    </tr>\n",
       "    <tr>\n",
       "      <th>4</th>\n",
       "      <td>1.438219</td>\n",
       "      <td>1.257130</td>\n",
       "      <td>1.149077</td>\n",
       "      <td>1.273384</td>\n",
       "      <td>1.028827</td>\n",
       "      <td>1.098138</td>\n",
       "      <td>1.882779</td>\n",
       "      <td>0.893563</td>\n",
       "      <td>1.437475</td>\n",
       "      <td>1.163565</td>\n",
       "    </tr>\n",
       "    <tr>\n",
       "      <th>...</th>\n",
       "      <td>...</td>\n",
       "      <td>...</td>\n",
       "      <td>...</td>\n",
       "      <td>...</td>\n",
       "      <td>...</td>\n",
       "      <td>...</td>\n",
       "      <td>...</td>\n",
       "      <td>...</td>\n",
       "      <td>...</td>\n",
       "      <td>...</td>\n",
       "    </tr>\n",
       "    <tr>\n",
       "      <th>123</th>\n",
       "      <td>1.345195</td>\n",
       "      <td>1.162620</td>\n",
       "      <td>1.002372</td>\n",
       "      <td>1.193060</td>\n",
       "      <td>0.755275</td>\n",
       "      <td>1.037431</td>\n",
       "      <td>1.595726</td>\n",
       "      <td>0.942026</td>\n",
       "      <td>1.364450</td>\n",
       "      <td>1.123809</td>\n",
       "    </tr>\n",
       "    <tr>\n",
       "      <th>124</th>\n",
       "      <td>1.547908</td>\n",
       "      <td>1.314745</td>\n",
       "      <td>1.222534</td>\n",
       "      <td>1.343649</td>\n",
       "      <td>0.835097</td>\n",
       "      <td>1.199133</td>\n",
       "      <td>1.534958</td>\n",
       "      <td>0.956829</td>\n",
       "      <td>1.589209</td>\n",
       "      <td>1.274539</td>\n",
       "    </tr>\n",
       "    <tr>\n",
       "      <th>125</th>\n",
       "      <td>1.760490</td>\n",
       "      <td>1.500432</td>\n",
       "      <td>1.344060</td>\n",
       "      <td>1.516737</td>\n",
       "      <td>0.896891</td>\n",
       "      <td>1.402509</td>\n",
       "      <td>1.692896</td>\n",
       "      <td>1.077517</td>\n",
       "      <td>1.821819</td>\n",
       "      <td>1.428121</td>\n",
       "    </tr>\n",
       "    <tr>\n",
       "      <th>126</th>\n",
       "      <td>1.970141</td>\n",
       "      <td>1.657326</td>\n",
       "      <td>1.589952</td>\n",
       "      <td>1.672155</td>\n",
       "      <td>1.032240</td>\n",
       "      <td>1.634548</td>\n",
       "      <td>1.739579</td>\n",
       "      <td>1.112765</td>\n",
       "      <td>2.098101</td>\n",
       "      <td>1.582936</td>\n",
       "    </tr>\n",
       "    <tr>\n",
       "      <th>127</th>\n",
       "      <td>2.175866</td>\n",
       "      <td>1.846657</td>\n",
       "      <td>1.695194</td>\n",
       "      <td>1.829802</td>\n",
       "      <td>1.242152</td>\n",
       "      <td>1.832282</td>\n",
       "      <td>1.930215</td>\n",
       "      <td>1.221180</td>\n",
       "      <td>2.328623</td>\n",
       "      <td>1.737753</td>\n",
       "    </tr>\n",
       "  </tbody>\n",
       "</table>\n",
       "<p>128 rows × 10 columns</p>\n",
       "</div>"
      ],
      "text/plain": [
       "       signal    signal    signal    signal    signal    signal    signal  \\\n",
       "0    2.223633  1.879365  1.737821  1.849911  1.272420  1.855131  1.980311   \n",
       "1    2.058567  1.733153  1.708888  1.756304  1.242152  1.699672  1.945595   \n",
       "2    1.849589  1.579823  1.559112  1.599822  1.160121  1.447596  1.994798   \n",
       "3    1.642328  1.402389  1.392660  1.426092  1.058091  1.250063  1.917555   \n",
       "4    1.438219  1.257130  1.149077  1.273384  1.028827  1.098138  1.882779   \n",
       "..        ...       ...       ...       ...       ...       ...       ...   \n",
       "123  1.345195  1.162620  1.002372  1.193060  0.755275  1.037431  1.595726   \n",
       "124  1.547908  1.314745  1.222534  1.343649  0.835097  1.199133  1.534958   \n",
       "125  1.760490  1.500432  1.344060  1.516737  0.896891  1.402509  1.692896   \n",
       "126  1.970141  1.657326  1.589952  1.672155  1.032240  1.634548  1.739579   \n",
       "127  2.175866  1.846657  1.695194  1.829802  1.242152  1.832282  1.930215   \n",
       "\n",
       "       signal    signal    signal  \n",
       "0    1.256096  2.372685  1.757239  \n",
       "1    1.177800  2.214034  1.623284  \n",
       "2    1.032340  1.920566  1.469904  \n",
       "3    0.878520  1.678298  1.317046  \n",
       "4    0.893563  1.437475  1.163565  \n",
       "..        ...       ...       ...  \n",
       "123  0.942026  1.364450  1.123809  \n",
       "124  0.956829  1.589209  1.274539  \n",
       "125  1.077517  1.821819  1.428121  \n",
       "126  1.112765  2.098101  1.582936  \n",
       "127  1.221180  2.328623  1.737753  \n",
       "\n",
       "[128 rows x 10 columns]"
      ]
     },
     "execution_count": 2,
     "metadata": {},
     "output_type": "execute_result"
    }
   ],
   "source": [
    "# load time series dataset into dataframe and z-normalize it\n",
    "path = \"../../../0_data/UCRArchive_2018/SwedishLeaf/train\"\n",
    "df_list = load_parquet_to_df_list(path)\n",
    "\n",
    "# concatenate all time series to one dataframe, because they all have the same length\n",
    "df_norm = pd.concat([z_normalize(df[\"signal\"].to_frame()) for df in df_list], axis=1).iloc[:, :10]\n",
    "df_norm"
   ]
  },
  {
   "cell_type": "code",
   "execution_count": 3,
   "id": "90275c8c-7c68-47eb-af5d-54eb3bec4c7e",
   "metadata": {},
   "outputs": [],
   "source": [
    "window_size = 5\n",
    "\n",
    "alphabet_size = 6\n",
    "alphabet_size_avg = 3\n",
    "alphabet_size_slope = 2"
   ]
  },
  {
   "cell_type": "code",
   "execution_count": 4,
   "id": "d187c8d5-5e8b-4e93-99d5-b6a753993088",
   "metadata": {},
   "outputs": [],
   "source": [
    "sax = SAX(alphabet_size)\n",
    "one_d_sax = OneDSAX(alphabet_size_avg, alphabet_size_slope)\n",
    "a_sax = AdaptiveSAX(alphabet_size)\n",
    "e_sax = ExtendedSAX(alphabet_size)\n",
    "persist = Persist(alphabet_size, skip=5)"
   ]
  },
  {
   "cell_type": "code",
   "execution_count": 5,
   "id": "8da4ed96-fbad-4c20-93b1-42e79433e89d",
   "metadata": {},
   "outputs": [],
   "source": [
    "ewb = EqualWidthBinning()\n",
    "qb = QuantileBinning()\n",
    "\n",
    "hist_binning_strat = ewb"
   ]
  },
  {
   "cell_type": "code",
   "execution_count": 6,
   "id": "35f9379f-4f41-4234-8ede-0e62b71a8659",
   "metadata": {},
   "outputs": [],
   "source": [
    "symbol_mapping = IntervalNormMedian(alphabet_size=sax.alphabet_size)\n",
    "symbol_mapping = IntervalMean(lower_bound=-2)\n",
    "symbol_mapping = MeanValuePoints(df_norm)\n",
    "symbol_mapping = MedianValuePoints(df_norm)\n",
    "symbol_mapping = EncodedMinMaxScaling()\n",
    "\n",
    "\n",
    "df_slopes = compute_slopes(df_norm, window_size)\n",
    "symbol_mapping_slope = IntervalMean(lower_bound=compute_slopes(df_norm, window_size).iloc[:, 0].min())"
   ]
  },
  {
   "cell_type": "code",
   "execution_count": 7,
   "id": "77d5f5fe-2f86-400a-8d86-7cbece4526f8",
   "metadata": {},
   "outputs": [],
   "source": [
    "iec_sax = compute_information_embedding_cost(df_norm, window_size, sax, hist_binning_strat, symbol_mapping=symbol_mapping)"
   ]
  },
  {
   "cell_type": "code",
   "execution_count": 8,
   "id": "127f46ba-29b5-4315-aa68-f95071f30ff9",
   "metadata": {},
   "outputs": [
    {
     "data": {
      "text/plain": [
       "0.14455223845168813"
      ]
     },
     "execution_count": 8,
     "metadata": {},
     "output_type": "execute_result"
    }
   ],
   "source": [
    "iec_sax.mean()"
   ]
  },
  {
   "cell_type": "code",
   "execution_count": 9,
   "id": "2becd12e-5ca4-4447-8d7e-60312f24c26c",
   "metadata": {},
   "outputs": [],
   "source": [
    "iec_a_sax = compute_information_embedding_cost(df_norm, window_size, a_sax, hist_binning_strat, symbol_mapping=symbol_mapping)"
   ]
  },
  {
   "cell_type": "code",
   "execution_count": 10,
   "id": "ff4bbcbf-5ad7-489b-8683-22123ef2f6b6",
   "metadata": {},
   "outputs": [
    {
     "data": {
      "text/plain": [
       "0.1326898754927068"
      ]
     },
     "execution_count": 10,
     "metadata": {},
     "output_type": "execute_result"
    }
   ],
   "source": [
    "iec_a_sax.mean()"
   ]
  },
  {
   "cell_type": "code",
   "execution_count": 11,
   "id": "8e844be9-1527-4030-b491-3cc0d87c10ab",
   "metadata": {},
   "outputs": [],
   "source": [
    "iec_e_sax = compute_information_embedding_cost(df_norm, window_size, e_sax, hist_binning_strat, symbol_mapping_mean=symbol_mapping)"
   ]
  },
  {
   "cell_type": "code",
   "execution_count": 12,
   "id": "7f9b7abc-cc18-4b61-94db-356de8b76fd1",
   "metadata": {},
   "outputs": [
    {
     "data": {
      "text/plain": [
       "0.1254809086237984"
      ]
     },
     "execution_count": 12,
     "metadata": {},
     "output_type": "execute_result"
    }
   ],
   "source": [
    "iec_e_sax.mean()"
   ]
  },
  {
   "cell_type": "code",
   "execution_count": 13,
   "id": "a872058f-7314-4e07-8c7a-73146d363b0f",
   "metadata": {},
   "outputs": [],
   "source": [
    "iec_one_d_sax = compute_information_embedding_cost(df_norm, window_size, one_d_sax, hist_binning_strat,\n",
    "                                                   symbol_mapping_avg=symbol_mapping, symbol_mapping_slope=symbol_mapping_slope)"
   ]
  },
  {
   "cell_type": "code",
   "execution_count": 14,
   "id": "aec5cbbb-5cd0-40cf-9f39-674759f955f0",
   "metadata": {},
   "outputs": [
    {
     "data": {
      "text/plain": [
       "0.0971373068012859"
      ]
     },
     "execution_count": 14,
     "metadata": {},
     "output_type": "execute_result"
    }
   ],
   "source": [
    "iec_one_d_sax.mean()"
   ]
  },
  {
   "cell_type": "code",
   "execution_count": 15,
   "id": "06acc170-e553-4f60-b887-078c736b90d2",
   "metadata": {},
   "outputs": [],
   "source": [
    "iec_persist = compute_information_embedding_cost(df_norm, window_size, persist, hist_binning_strat, symbol_mapping=symbol_mapping)"
   ]
  },
  {
   "cell_type": "code",
   "execution_count": 16,
   "id": "c591023b-36f2-4881-b292-979f460dabed",
   "metadata": {},
   "outputs": [
    {
     "data": {
      "text/plain": [
       "0.2439940116599193"
      ]
     },
     "execution_count": 16,
     "metadata": {},
     "output_type": "execute_result"
    }
   ],
   "source": [
    "iec_persist.mean()"
   ]
  }
 ],
 "metadata": {
  "kernelspec": {
   "display_name": "bachelor-thesis-kernel",
   "language": "python",
   "name": "bachelor-thesis-kernel"
  },
  "language_info": {
   "codemirror_mode": {
    "name": "ipython",
    "version": 3
   },
   "file_extension": ".py",
   "mimetype": "text/x-python",
   "name": "python",
   "nbconvert_exporter": "python",
   "pygments_lexer": "ipython3",
   "version": "3.9.13"
  }
 },
 "nbformat": 4,
 "nbformat_minor": 5
}
