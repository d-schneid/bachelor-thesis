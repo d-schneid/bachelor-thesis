{
 "cells": [
  {
   "cell_type": "code",
   "execution_count": 1,
   "id": "c91789e9-3e82-4c6f-a1fc-a34a6fb529c8",
   "metadata": {},
   "outputs": [],
   "source": [
    "import numpy as np\n",
    "import pandas as pd\n",
    "\n",
    "from utils import load_parquet_to_df_list, z_normalize\n",
    "from approximation.paa import PAA\n",
    "from discretization.sax.sax import SAX\n",
    "from discretization.sax.one_d_sax import OneDSAX\n",
    "from discretization.sax.adaptive_sax import AdaptiveSAX\n",
    "from discretization.sax.extended_sax import ExtendedSAX\n",
    "from discretization.persist.persist import Persist\n",
    "from information_embedding_cost.kullback_leibler_divergence import EqualWidthBinning, QuantileBinning, compute_kullback_leibler_divergence"
   ]
  },
  {
   "cell_type": "code",
   "execution_count": 2,
   "id": "d827de02-4486-4163-b7cc-9deba7b1184a",
   "metadata": {},
   "outputs": [
    {
     "data": {
      "text/html": [
       "<div>\n",
       "<style scoped>\n",
       "    .dataframe tbody tr th:only-of-type {\n",
       "        vertical-align: middle;\n",
       "    }\n",
       "\n",
       "    .dataframe tbody tr th {\n",
       "        vertical-align: top;\n",
       "    }\n",
       "\n",
       "    .dataframe thead th {\n",
       "        text-align: right;\n",
       "    }\n",
       "</style>\n",
       "<table border=\"1\" class=\"dataframe\">\n",
       "  <thead>\n",
       "    <tr style=\"text-align: right;\">\n",
       "      <th></th>\n",
       "      <th>signal</th>\n",
       "      <th>signal</th>\n",
       "      <th>signal</th>\n",
       "      <th>signal</th>\n",
       "      <th>signal</th>\n",
       "      <th>signal</th>\n",
       "      <th>signal</th>\n",
       "      <th>signal</th>\n",
       "      <th>signal</th>\n",
       "      <th>signal</th>\n",
       "    </tr>\n",
       "  </thead>\n",
       "  <tbody>\n",
       "    <tr>\n",
       "      <th>0</th>\n",
       "      <td>2.223633</td>\n",
       "      <td>1.879365</td>\n",
       "      <td>1.737821</td>\n",
       "      <td>1.849911</td>\n",
       "      <td>1.272420</td>\n",
       "      <td>1.855131</td>\n",
       "      <td>1.980311</td>\n",
       "      <td>1.256096</td>\n",
       "      <td>2.372685</td>\n",
       "      <td>1.757239</td>\n",
       "    </tr>\n",
       "    <tr>\n",
       "      <th>1</th>\n",
       "      <td>2.058567</td>\n",
       "      <td>1.733153</td>\n",
       "      <td>1.708888</td>\n",
       "      <td>1.756304</td>\n",
       "      <td>1.242152</td>\n",
       "      <td>1.699672</td>\n",
       "      <td>1.945595</td>\n",
       "      <td>1.177800</td>\n",
       "      <td>2.214034</td>\n",
       "      <td>1.623284</td>\n",
       "    </tr>\n",
       "    <tr>\n",
       "      <th>2</th>\n",
       "      <td>1.849589</td>\n",
       "      <td>1.579823</td>\n",
       "      <td>1.559112</td>\n",
       "      <td>1.599822</td>\n",
       "      <td>1.160121</td>\n",
       "      <td>1.447596</td>\n",
       "      <td>1.994798</td>\n",
       "      <td>1.032340</td>\n",
       "      <td>1.920566</td>\n",
       "      <td>1.469904</td>\n",
       "    </tr>\n",
       "    <tr>\n",
       "      <th>3</th>\n",
       "      <td>1.642328</td>\n",
       "      <td>1.402389</td>\n",
       "      <td>1.392660</td>\n",
       "      <td>1.426092</td>\n",
       "      <td>1.058091</td>\n",
       "      <td>1.250063</td>\n",
       "      <td>1.917555</td>\n",
       "      <td>0.878520</td>\n",
       "      <td>1.678298</td>\n",
       "      <td>1.317046</td>\n",
       "    </tr>\n",
       "    <tr>\n",
       "      <th>4</th>\n",
       "      <td>1.438219</td>\n",
       "      <td>1.257130</td>\n",
       "      <td>1.149077</td>\n",
       "      <td>1.273384</td>\n",
       "      <td>1.028827</td>\n",
       "      <td>1.098138</td>\n",
       "      <td>1.882779</td>\n",
       "      <td>0.893563</td>\n",
       "      <td>1.437475</td>\n",
       "      <td>1.163565</td>\n",
       "    </tr>\n",
       "    <tr>\n",
       "      <th>...</th>\n",
       "      <td>...</td>\n",
       "      <td>...</td>\n",
       "      <td>...</td>\n",
       "      <td>...</td>\n",
       "      <td>...</td>\n",
       "      <td>...</td>\n",
       "      <td>...</td>\n",
       "      <td>...</td>\n",
       "      <td>...</td>\n",
       "      <td>...</td>\n",
       "    </tr>\n",
       "    <tr>\n",
       "      <th>123</th>\n",
       "      <td>1.345195</td>\n",
       "      <td>1.162620</td>\n",
       "      <td>1.002372</td>\n",
       "      <td>1.193060</td>\n",
       "      <td>0.755275</td>\n",
       "      <td>1.037431</td>\n",
       "      <td>1.595726</td>\n",
       "      <td>0.942026</td>\n",
       "      <td>1.364450</td>\n",
       "      <td>1.123809</td>\n",
       "    </tr>\n",
       "    <tr>\n",
       "      <th>124</th>\n",
       "      <td>1.547908</td>\n",
       "      <td>1.314745</td>\n",
       "      <td>1.222534</td>\n",
       "      <td>1.343649</td>\n",
       "      <td>0.835097</td>\n",
       "      <td>1.199133</td>\n",
       "      <td>1.534958</td>\n",
       "      <td>0.956829</td>\n",
       "      <td>1.589209</td>\n",
       "      <td>1.274539</td>\n",
       "    </tr>\n",
       "    <tr>\n",
       "      <th>125</th>\n",
       "      <td>1.760490</td>\n",
       "      <td>1.500432</td>\n",
       "      <td>1.344060</td>\n",
       "      <td>1.516737</td>\n",
       "      <td>0.896891</td>\n",
       "      <td>1.402509</td>\n",
       "      <td>1.692896</td>\n",
       "      <td>1.077517</td>\n",
       "      <td>1.821819</td>\n",
       "      <td>1.428121</td>\n",
       "    </tr>\n",
       "    <tr>\n",
       "      <th>126</th>\n",
       "      <td>1.970141</td>\n",
       "      <td>1.657326</td>\n",
       "      <td>1.589952</td>\n",
       "      <td>1.672155</td>\n",
       "      <td>1.032240</td>\n",
       "      <td>1.634548</td>\n",
       "      <td>1.739579</td>\n",
       "      <td>1.112765</td>\n",
       "      <td>2.098101</td>\n",
       "      <td>1.582936</td>\n",
       "    </tr>\n",
       "    <tr>\n",
       "      <th>127</th>\n",
       "      <td>2.175866</td>\n",
       "      <td>1.846657</td>\n",
       "      <td>1.695194</td>\n",
       "      <td>1.829802</td>\n",
       "      <td>1.242152</td>\n",
       "      <td>1.832282</td>\n",
       "      <td>1.930215</td>\n",
       "      <td>1.221180</td>\n",
       "      <td>2.328623</td>\n",
       "      <td>1.737753</td>\n",
       "    </tr>\n",
       "  </tbody>\n",
       "</table>\n",
       "<p>128 rows × 10 columns</p>\n",
       "</div>"
      ],
      "text/plain": [
       "       signal    signal    signal    signal    signal    signal    signal  \\\n",
       "0    2.223633  1.879365  1.737821  1.849911  1.272420  1.855131  1.980311   \n",
       "1    2.058567  1.733153  1.708888  1.756304  1.242152  1.699672  1.945595   \n",
       "2    1.849589  1.579823  1.559112  1.599822  1.160121  1.447596  1.994798   \n",
       "3    1.642328  1.402389  1.392660  1.426092  1.058091  1.250063  1.917555   \n",
       "4    1.438219  1.257130  1.149077  1.273384  1.028827  1.098138  1.882779   \n",
       "..        ...       ...       ...       ...       ...       ...       ...   \n",
       "123  1.345195  1.162620  1.002372  1.193060  0.755275  1.037431  1.595726   \n",
       "124  1.547908  1.314745  1.222534  1.343649  0.835097  1.199133  1.534958   \n",
       "125  1.760490  1.500432  1.344060  1.516737  0.896891  1.402509  1.692896   \n",
       "126  1.970141  1.657326  1.589952  1.672155  1.032240  1.634548  1.739579   \n",
       "127  2.175866  1.846657  1.695194  1.829802  1.242152  1.832282  1.930215   \n",
       "\n",
       "       signal    signal    signal  \n",
       "0    1.256096  2.372685  1.757239  \n",
       "1    1.177800  2.214034  1.623284  \n",
       "2    1.032340  1.920566  1.469904  \n",
       "3    0.878520  1.678298  1.317046  \n",
       "4    0.893563  1.437475  1.163565  \n",
       "..        ...       ...       ...  \n",
       "123  0.942026  1.364450  1.123809  \n",
       "124  0.956829  1.589209  1.274539  \n",
       "125  1.077517  1.821819  1.428121  \n",
       "126  1.112765  2.098101  1.582936  \n",
       "127  1.221180  2.328623  1.737753  \n",
       "\n",
       "[128 rows x 10 columns]"
      ]
     },
     "execution_count": 2,
     "metadata": {},
     "output_type": "execute_result"
    }
   ],
   "source": [
    "# load time series dataset into dataframe and z-normalize it\n",
    "path = \"../../../0_data/UCRArchive_2018/SwedishLeaf/train\"\n",
    "df_list = load_parquet_to_df_list(path)\n",
    "\n",
    "# concatenate all time series to one dataframe, because they all have the same length\n",
    "df_norm = pd.concat([z_normalize(df[\"signal\"].to_frame()) for df in df_list], axis=1).iloc[:, :10]\n",
    "df_norm"
   ]
  },
  {
   "cell_type": "code",
   "execution_count": 3,
   "id": "14fee047-1c6f-40d7-958e-a9c115b694ca",
   "metadata": {},
   "outputs": [],
   "source": [
    "window_size = 4\n",
    "\n",
    "alphabet_size = 4\n",
    "alphabet_size_avg = 3\n",
    "alphabet_size_slope = 2"
   ]
  },
  {
   "cell_type": "code",
   "execution_count": 4,
   "id": "bb081810-7543-40f4-9a3c-36d746bce417",
   "metadata": {},
   "outputs": [],
   "source": [
    "ewb = EqualWidthBinning()\n",
    "qb = QuantileBinning()\n",
    "\n",
    "hist_binning_strat = ewb"
   ]
  },
  {
   "cell_type": "code",
   "execution_count": 5,
   "id": "0225e467-f17e-422e-9da0-e89eab138fab",
   "metadata": {},
   "outputs": [],
   "source": [
    "sax = SAX(alphabet_size)\n",
    "one_d_sax = OneDSAX(alphabet_size_avg, alphabet_size_slope)\n",
    "a_sax = AdaptiveSAX(alphabet_size)\n",
    "e_sax = ExtendedSAX(alphabet_size)\n",
    "persist = Persist(alphabet_size, skip=5)"
   ]
  },
  {
   "cell_type": "code",
   "execution_count": 6,
   "id": "56527de7-a4cd-47f0-b1bd-7b369b9f65e1",
   "metadata": {},
   "outputs": [],
   "source": [
    "df_paa = PAA(window_size).transform(df_norm)"
   ]
  },
  {
   "cell_type": "code",
   "execution_count": 7,
   "id": "9260d92a-dde5-4194-8197-2f98b1e97fbc",
   "metadata": {},
   "outputs": [
    {
     "data": {
      "text/plain": [
       "0.08654427316611935"
      ]
     },
     "execution_count": 7,
     "metadata": {},
     "output_type": "execute_result"
    }
   ],
   "source": [
    "compute_kullback_leibler_divergence(df_paa, df_norm, window_size, sax, hist_binning_strat).mean()"
   ]
  },
  {
   "cell_type": "code",
   "execution_count": 8,
   "id": "35cdbad3-1581-43ba-aba1-ccf0296d1209",
   "metadata": {},
   "outputs": [
    {
     "data": {
      "text/plain": [
       "0.08143829810388409"
      ]
     },
     "execution_count": 8,
     "metadata": {},
     "output_type": "execute_result"
    }
   ],
   "source": [
    "compute_kullback_leibler_divergence(df_paa, df_norm, window_size, one_d_sax, hist_binning_strat).mean()"
   ]
  },
  {
   "cell_type": "code",
   "execution_count": 9,
   "id": "cfcacf68-03e1-4eae-aa01-e6a1aba86b11",
   "metadata": {},
   "outputs": [
    {
     "data": {
      "text/plain": [
       "0.05491919063146679"
      ]
     },
     "execution_count": 9,
     "metadata": {},
     "output_type": "execute_result"
    }
   ],
   "source": [
    "compute_kullback_leibler_divergence(df_paa, df_norm, window_size, a_sax, hist_binning_strat).mean()"
   ]
  },
  {
   "cell_type": "code",
   "execution_count": 10,
   "id": "26a993a9-d074-4502-ae0d-618b1d3a2a4e",
   "metadata": {},
   "outputs": [
    {
     "data": {
      "text/plain": [
       "0.09285910720106785"
      ]
     },
     "execution_count": 10,
     "metadata": {},
     "output_type": "execute_result"
    }
   ],
   "source": [
    "compute_kullback_leibler_divergence(df_paa, df_norm, window_size, e_sax, hist_binning_strat).mean()"
   ]
  },
  {
   "cell_type": "code",
   "execution_count": 11,
   "id": "f1516a32-a8f7-44cf-b63e-be491d96eb28",
   "metadata": {},
   "outputs": [
    {
     "data": {
      "text/plain": [
       "0.18008780157234888"
      ]
     },
     "execution_count": 11,
     "metadata": {},
     "output_type": "execute_result"
    }
   ],
   "source": [
    "compute_kullback_leibler_divergence(df_paa, df_norm, window_size, persist, hist_binning_strat).mean()"
   ]
  }
 ],
 "metadata": {
  "kernelspec": {
   "display_name": "bachelor-thesis-kernel",
   "language": "python",
   "name": "bachelor-thesis-kernel"
  },
  "language_info": {
   "codemirror_mode": {
    "name": "ipython",
    "version": 3
   },
   "file_extension": ".py",
   "mimetype": "text/x-python",
   "name": "python",
   "nbconvert_exporter": "python",
   "pygments_lexer": "ipython3",
   "version": "3.9.13"
  }
 },
 "nbformat": 4,
 "nbformat_minor": 5
}
