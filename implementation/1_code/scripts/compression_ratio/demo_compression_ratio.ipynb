{
 "cells": [
  {
   "cell_type": "code",
   "execution_count": 1,
   "id": "86409313-0b84-4066-a761-567696e1875e",
   "metadata": {},
   "outputs": [
    {
     "data": {
      "text/html": [
       "<div>\n",
       "<style scoped>\n",
       "    .dataframe tbody tr th:only-of-type {\n",
       "        vertical-align: middle;\n",
       "    }\n",
       "\n",
       "    .dataframe tbody tr th {\n",
       "        vertical-align: top;\n",
       "    }\n",
       "\n",
       "    .dataframe thead th {\n",
       "        text-align: right;\n",
       "    }\n",
       "</style>\n",
       "<table border=\"1\" class=\"dataframe\">\n",
       "  <thead>\n",
       "    <tr style=\"text-align: right;\">\n",
       "      <th></th>\n",
       "      <th>signal</th>\n",
       "      <th>signal</th>\n",
       "    </tr>\n",
       "  </thead>\n",
       "  <tbody>\n",
       "    <tr>\n",
       "      <th>0</th>\n",
       "      <td>1.530741</td>\n",
       "      <td>2.223633</td>\n",
       "    </tr>\n",
       "    <tr>\n",
       "      <th>1</th>\n",
       "      <td>1.544163</td>\n",
       "      <td>2.058567</td>\n",
       "    </tr>\n",
       "    <tr>\n",
       "      <th>2</th>\n",
       "      <td>1.416333</td>\n",
       "      <td>1.849589</td>\n",
       "    </tr>\n",
       "    <tr>\n",
       "      <th>3</th>\n",
       "      <td>1.249289</td>\n",
       "      <td>1.642328</td>\n",
       "    </tr>\n",
       "    <tr>\n",
       "      <th>4</th>\n",
       "      <td>1.043554</td>\n",
       "      <td>1.438219</td>\n",
       "    </tr>\n",
       "    <tr>\n",
       "      <th>...</th>\n",
       "      <td>...</td>\n",
       "      <td>...</td>\n",
       "    </tr>\n",
       "    <tr>\n",
       "      <th>123</th>\n",
       "      <td>0.744584</td>\n",
       "      <td>1.345195</td>\n",
       "    </tr>\n",
       "    <tr>\n",
       "      <th>124</th>\n",
       "      <td>0.958963</td>\n",
       "      <td>1.547908</td>\n",
       "    </tr>\n",
       "    <tr>\n",
       "      <th>125</th>\n",
       "      <td>1.101069</td>\n",
       "      <td>1.760490</td>\n",
       "    </tr>\n",
       "    <tr>\n",
       "      <th>126</th>\n",
       "      <td>1.330517</td>\n",
       "      <td>1.970141</td>\n",
       "    </tr>\n",
       "    <tr>\n",
       "      <th>127</th>\n",
       "      <td>1.490092</td>\n",
       "      <td>2.175866</td>\n",
       "    </tr>\n",
       "  </tbody>\n",
       "</table>\n",
       "<p>128 rows × 2 columns</p>\n",
       "</div>"
      ],
      "text/plain": [
       "       signal    signal\n",
       "0    1.530741  2.223633\n",
       "1    1.544163  2.058567\n",
       "2    1.416333  1.849589\n",
       "3    1.249289  1.642328\n",
       "4    1.043554  1.438219\n",
       "..        ...       ...\n",
       "123  0.744584  1.345195\n",
       "124  0.958963  1.547908\n",
       "125  1.101069  1.760490\n",
       "126  1.330517  1.970141\n",
       "127  1.490092  2.175866\n",
       "\n",
       "[128 rows x 2 columns]"
      ]
     },
     "execution_count": 1,
     "metadata": {},
     "output_type": "execute_result"
    }
   ],
   "source": [
    "import pandas as pd\n",
    "\n",
    "from utils import load_parquet_to_df_list, z_normalize\n",
    "\n",
    "\n",
    "# load time series dataset into dataframe and z-normalize it\n",
    "path = \"../../../0_data/UCRArchive_2018/SwedishLeaf/train\"\n",
    "df_list = load_parquet_to_df_list(path)\n",
    "\n",
    "\n",
    "# only select columns with data ('signal') and ignore class labels ('pattern_main_id')\n",
    "df_norm = pd.concat([z_normalize(df[\"signal\"].to_frame()) for df in df_list], axis=1).iloc[:, :2]\n",
    "df_norm"
   ]
  },
  {
   "cell_type": "markdown",
   "id": "c7ddce2d-d10b-4567-92e5-4f54c65d5f44",
   "metadata": {},
   "source": [
    "### SAX variants"
   ]
  },
  {
   "cell_type": "code",
   "execution_count": 2,
   "id": "1632198b-185a-430d-babc-ff1fd03aa17f",
   "metadata": {},
   "outputs": [],
   "source": [
    "from approximation.paa import PAA\n",
    "from discretization.sax.sax import SAX\n",
    "from discretization.sax.extended_sax import ExtendedSAX\n",
    "from discretization.sax.adaptive_sax import AdaptiveSAX\n",
    "from discretization.sax.one_d_sax import OneDSAX\n",
    "from discretization.persist.persist import Persist\n",
    "\n",
    "\n",
    "alphabet_size = 9\n",
    "alphabet_size_slope = 3\n",
    "\n",
    "sax = SAX(alphabet_size)\n",
    "a_sax = AdaptiveSAX(alphabet_size)\n",
    "e_sax = ExtendedSAX(alphabet_size)\n",
    "one_d_sax = OneDSAX(alphabet_size_avg=alphabet_size, alphabet_size_slope=alphabet_size_slope)\n",
    "persist = Persist(alphabet_size)\n",
    "\n",
    "sax_variant = sax"
   ]
  },
  {
   "cell_type": "markdown",
   "id": "cc901524-5f5f-4c60-918f-643df2108034",
   "metadata": {},
   "source": [
    "### Compression Ratio\n",
    "\n",
    "calculated as: #bits for symbolic representation / #bits for original time series\n",
    "\n",
    "assumptions: 64 bits per time series point (floating-point number double precision); ceil(log2(size of alphabet)) bits per symbol"
   ]
  },
  {
   "cell_type": "markdown",
   "id": "76abe731-1b38-47bc-92be-94f8491bc21d",
   "metadata": {},
   "source": [
    "### Analysis for different alphabet sizes"
   ]
  },
  {
   "cell_type": "code",
   "execution_count": 3,
   "id": "ad5fdf22-91f1-40c9-8004-f67a2aa73fb5",
   "metadata": {},
   "outputs": [],
   "source": [
    "from collections import defaultdict\n",
    "import math\n",
    "\n",
    "\n",
    "num_segments = round(df_norm.shape[0] / 8)\n",
    "alphabet_sizes = [4, 9, 16, 25]\n",
    "\n",
    "compression = defaultdict(list)\n",
    "for alphabet_size in alphabet_sizes:\n",
    "    sax_variants = []\n",
    "    sax = SAX(alphabet_size)\n",
    "    a_sax = AdaptiveSAX(alphabet_size)\n",
    "    one_d_sax = OneDSAX(alphabet_size, alphabet_size)\n",
    "    e_sax = ExtendedSAX(alphabet_size)\n",
    "    persist = Persist(alphabet_size)\n",
    "    sax_variants.extend([sax, a_sax, one_d_sax, e_sax, persist])\n",
    "    lst = []\n",
    "    for sax_variant in sax_variants:\n",
    "        compression[sax_variant.name].append(sax_variant.compute_compression_ratio_percentage(df_norm.shape[0], num_segments))"
   ]
  },
  {
   "cell_type": "code",
   "execution_count": 4,
   "id": "9f703103-ce63-4f0f-bc32-20fea8471de5",
   "metadata": {},
   "outputs": [
    {
     "data": {
      "image/png": "[encoded data removed]",
      "text/plain": [
       "<Figure size 1500x500 with 1 Axes>"
      ]
     },
     "metadata": {},
     "output_type": "display_data"
    }
   ],
   "source": [
    "from discretization.sax.graphics import plot_compression_ratio_comparison\n",
    "\n",
    "\n",
    "plot_compression_ratio_comparison(compression, alphabet_sizes)"
   ]
  }
 ],
 "metadata": {
  "kernelspec": {
   "display_name": "bachelor-thesis-kernel",
   "language": "python",
   "name": "bachelor-thesis-kernel"
  },
  "language_info": {
   "codemirror_mode": {
    "name": "ipython",
    "version": 3
   },
   "file_extension": ".py",
   "mimetype": "text/x-python",
   "name": "python",
   "nbconvert_exporter": "python",
   "pygments_lexer": "ipython3",
   "version": "3.9.13"
  }
 },
 "nbformat": 4,
 "nbformat_minor": 5
}
