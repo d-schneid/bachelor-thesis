{
 "cells": [
  {
   "cell_type": "code",
   "execution_count": 1,
   "id": "d1b5f247-897b-4f30-9404-ebde460286f6",
   "metadata": {},
   "outputs": [],
   "source": [
    "import numpy as np\n",
    "import pandas as pd\n",
    "\n",
    "from utils import load_parquet_to_df_list, z_normalize\n",
    "from approximation.paa import PAA\n",
    "from discretization.sax.sax import SAX\n",
    "from discretization.sax.extended_sax import ExtendedSAX\n",
    "from discretization.sax.adaptive_sax import AdaptiveSAX\n",
    "from discretization.sax.one_d_sax import OneDSAX"
   ]
  },
  {
   "cell_type": "code",
   "execution_count": 2,
   "id": "2a70eb26-0225-46de-a1e4-d7d064cadd08",
   "metadata": {},
   "outputs": [
    {
     "data": {
      "text/html": [
       "<div>\n",
       "<style scoped>\n",
       "    .dataframe tbody tr th:only-of-type {\n",
       "        vertical-align: middle;\n",
       "    }\n",
       "\n",
       "    .dataframe tbody tr th {\n",
       "        vertical-align: top;\n",
       "    }\n",
       "\n",
       "    .dataframe thead th {\n",
       "        text-align: right;\n",
       "    }\n",
       "</style>\n",
       "<table border=\"1\" class=\"dataframe\">\n",
       "  <thead>\n",
       "    <tr style=\"text-align: right;\">\n",
       "      <th></th>\n",
       "      <th>signal</th>\n",
       "      <th>signal</th>\n",
       "    </tr>\n",
       "  </thead>\n",
       "  <tbody>\n",
       "    <tr>\n",
       "      <th>0</th>\n",
       "      <td>2.223633</td>\n",
       "      <td>1.879365</td>\n",
       "    </tr>\n",
       "    <tr>\n",
       "      <th>1</th>\n",
       "      <td>2.058567</td>\n",
       "      <td>1.733153</td>\n",
       "    </tr>\n",
       "    <tr>\n",
       "      <th>2</th>\n",
       "      <td>1.849589</td>\n",
       "      <td>1.579823</td>\n",
       "    </tr>\n",
       "    <tr>\n",
       "      <th>3</th>\n",
       "      <td>1.642328</td>\n",
       "      <td>1.402389</td>\n",
       "    </tr>\n",
       "    <tr>\n",
       "      <th>4</th>\n",
       "      <td>1.438219</td>\n",
       "      <td>1.257130</td>\n",
       "    </tr>\n",
       "    <tr>\n",
       "      <th>...</th>\n",
       "      <td>...</td>\n",
       "      <td>...</td>\n",
       "    </tr>\n",
       "    <tr>\n",
       "      <th>123</th>\n",
       "      <td>1.345195</td>\n",
       "      <td>1.162620</td>\n",
       "    </tr>\n",
       "    <tr>\n",
       "      <th>124</th>\n",
       "      <td>1.547908</td>\n",
       "      <td>1.314745</td>\n",
       "    </tr>\n",
       "    <tr>\n",
       "      <th>125</th>\n",
       "      <td>1.760490</td>\n",
       "      <td>1.500432</td>\n",
       "    </tr>\n",
       "    <tr>\n",
       "      <th>126</th>\n",
       "      <td>1.970141</td>\n",
       "      <td>1.657326</td>\n",
       "    </tr>\n",
       "    <tr>\n",
       "      <th>127</th>\n",
       "      <td>2.175866</td>\n",
       "      <td>1.846657</td>\n",
       "    </tr>\n",
       "  </tbody>\n",
       "</table>\n",
       "<p>128 rows × 2 columns</p>\n",
       "</div>"
      ],
      "text/plain": [
       "       signal    signal\n",
       "0    2.223633  1.879365\n",
       "1    2.058567  1.733153\n",
       "2    1.849589  1.579823\n",
       "3    1.642328  1.402389\n",
       "4    1.438219  1.257130\n",
       "..        ...       ...\n",
       "123  1.345195  1.162620\n",
       "124  1.547908  1.314745\n",
       "125  1.760490  1.500432\n",
       "126  1.970141  1.657326\n",
       "127  2.175866  1.846657\n",
       "\n",
       "[128 rows x 2 columns]"
      ]
     },
     "execution_count": 2,
     "metadata": {},
     "output_type": "execute_result"
    }
   ],
   "source": [
    "# load time series dataset into dataframe and z-normalize it\n",
    "path = \"../../../0_data/UCRArchive_2018/SwedishLeaf/train\"\n",
    "df_list = load_parquet_to_df_list(path)\n",
    "\n",
    "\n",
    "# only select columns with data ('signal') and ignore class labels ('pattern_main_id')\n",
    "df_norm = pd.concat([z_normalize(df[\"signal\"].to_frame()) for df in df_list], axis=1).iloc[:, :2]\n",
    "df_norm"
   ]
  },
  {
   "cell_type": "code",
   "execution_count": 3,
   "id": "62216792-b69b-4bad-ac9f-24f7fb0fbd26",
   "metadata": {},
   "outputs": [],
   "source": [
    "alphabet_size = 9\n",
    "alphabet_size_slope = 3\n",
    "\n",
    "sax = SAX(alphabet_size)\n",
    "a_sax = AdaptiveSAX(alphabet_size)\n",
    "e_sax = ExtendedSAX(alphabet_size)\n",
    "one_d_sax = OneDSAX(alphabet_size_avg=alphabet_size, alphabet_size_slope=alphabet_size_slope)\n",
    "\n",
    "sax_variant = sax"
   ]
  },
  {
   "cell_type": "code",
   "execution_count": 4,
   "id": "136fc69a-72d9-400b-9012-52aa9fe0528f",
   "metadata": {},
   "outputs": [
    {
     "data": {
      "text/plain": [
       "4.8828125"
      ]
     },
     "execution_count": 4,
     "metadata": {},
     "output_type": "execute_result"
    }
   ],
   "source": [
    "sax.compute_compression_ratio_percentage(df_norm.shape[0], 100)"
   ]
  },
  {
   "cell_type": "code",
   "execution_count": 5,
   "id": "d6484198-ef52-4eaa-be45-8ba8b2a1d356",
   "metadata": {},
   "outputs": [],
   "source": [
    "from collections import defaultdict\n",
    "import math\n",
    "\n",
    "\n",
    "num_segments = round(df_norm.shape[0] / 4)\n",
    "alphabet_sizes = [4, 9, 16, 25]\n",
    "\n",
    "compression = defaultdict(list)\n",
    "for alphabet_size in alphabet_sizes:\n",
    "    sax_variants = []\n",
    "    sax = SAX(alphabet_size)\n",
    "    a_sax = AdaptiveSAX(alphabet_size)\n",
    "    one_d_sax = OneDSAX(alphabet_size, alphabet_size)\n",
    "    e_sax = ExtendedSAX(alphabet_size)\n",
    "    sax_variants.extend([sax, a_sax, one_d_sax, e_sax])\n",
    "    lst = []\n",
    "    for sax_variant in sax_variants:\n",
    "        compression[sax_variant.name].append(sax_variant.compute_compression_ratio_percentage(df_norm.shape[0], num_segments))"
   ]
  },
  {
   "cell_type": "code",
   "execution_count": 6,
   "id": "a5c6a399-a6df-4e00-9867-df6f9244f942",
   "metadata": {},
   "outputs": [
    {
     "data": {
      "text/plain": [
       "defaultdict(list,\n",
       "            {'SAX': [0.78125, 1.5625, 1.5625, 1.953125],\n",
       "             'aSAX': [0.78125, 1.5625, 1.5625, 1.953125],\n",
       "             '1d-SAX': [1.5625, 3.125, 3.125, 3.90625],\n",
       "             'eSAX': [2.34375, 4.6875, 4.6875, 5.859375]})"
      ]
     },
     "execution_count": 6,
     "metadata": {},
     "output_type": "execute_result"
    }
   ],
   "source": [
    "compression"
   ]
  },
  {
   "cell_type": "code",
   "execution_count": 7,
   "id": "e89810b9-d92e-48fe-90d6-613fb80a59b5",
   "metadata": {},
   "outputs": [
    {
     "data": {
      "image/png": "[encoded data removed]",
      "text/plain": [
       "<Figure size 1500x500 with 1 Axes>"
      ]
     },
     "metadata": {},
     "output_type": "display_data"
    }
   ],
   "source": [
    "from discretization.sax.graphics import plot_compression_ratio_comparison\n",
    "\n",
    "\n",
    "plot_compression_ratio_comparison(compression, alphabet_sizes)"
   ]
  }
 ],
 "metadata": {
  "kernelspec": {
   "display_name": "bachelor-thesis-kernel",
   "language": "python",
   "name": "bachelor-thesis-kernel"
  },
  "language_info": {
   "codemirror_mode": {
    "name": "ipython",
    "version": 3
   },
   "file_extension": ".py",
   "mimetype": "text/x-python",
   "name": "python",
   "nbconvert_exporter": "python",
   "pygments_lexer": "ipython3",
   "version": "3.9.13"
  }
 },
 "nbformat": 4,
 "nbformat_minor": 5
}
