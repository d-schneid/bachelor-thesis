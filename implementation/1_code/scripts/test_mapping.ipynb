{
 "cells": [
  {
   "cell_type": "code",
   "execution_count": 1,
   "id": "369ceb67-20bf-491d-be2b-4f5fc70fd2be",
   "metadata": {},
   "outputs": [
    {
     "data": {
      "text/plain": [
       "1    1.0\n",
       "3    5.5\n",
       "Name: 0, dtype: float64"
      ]
     },
     "execution_count": 1,
     "metadata": {},
     "output_type": "execute_result"
    }
   ],
   "source": [
    "import pandas as pd\n",
    "import numpy as np\n",
    "\n",
    "\n",
    "df = pd.DataFrame(np.array([[1,2,3],\n",
    "                            [4,5,6],\n",
    "                            [7,8,9]]))\n",
    "\n",
    "\n",
    "\n",
    "breakpoints = np.array([0.5,1.5,2.5])\n",
    "\n",
    "np.searchsorted(breakpoints, 1.4, side=\"right\")\n",
    "    \n",
    "\n",
    "alphabet_idx = np.searchsorted(breakpoints, df[0], side=\"right\")\n",
    "means_data = df[0].groupby(alphabet_idx).mean()\n",
    "means_data"
   ]
  },
  {
   "cell_type": "code",
   "execution_count": 2,
   "id": "dddbbeed-e8f6-4b6a-8d87-35cc77b0373e",
   "metadata": {},
   "outputs": [
    {
     "data": {
      "text/plain": [
       "{'b': 1.0, 'd': 5.5}"
      ]
     },
     "execution_count": 2,
     "metadata": {},
     "output_type": "execute_result"
    }
   ],
   "source": [
    "alphabet = np.array(['a','b','c','d'])\n",
    "\n",
    "\n",
    "mapping = {}\n",
    "for index, value in means_data.items():\n",
    "    mapping.update({alphabet[index]: value})\n",
    "    \n",
    "mapping"
   ]
  }
 ],
 "metadata": {
  "kernelspec": {
   "display_name": "bachelor-thesis-kernel",
   "language": "python",
   "name": "bachelor-thesis-kernel"
  },
  "language_info": {
   "codemirror_mode": {
    "name": "ipython",
    "version": 3
   },
   "file_extension": ".py",
   "mimetype": "text/x-python",
   "name": "python",
   "nbconvert_exporter": "python",
   "pygments_lexer": "ipython3",
   "version": "3.9.13"
  }
 },
 "nbformat": 4,
 "nbformat_minor": 5
}
