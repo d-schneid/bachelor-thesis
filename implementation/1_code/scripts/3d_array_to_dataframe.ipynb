{
 "cells": [
  {
   "cell_type": "code",
   "execution_count": 1,
   "id": "950767e0-a7c4-4388-91af-f623dede5e35",
   "metadata": {},
   "outputs": [
    {
     "data": {
      "text/html": [
       "<div>\n",
       "<style scoped>\n",
       "    .dataframe tbody tr th:only-of-type {\n",
       "        vertical-align: middle;\n",
       "    }\n",
       "\n",
       "    .dataframe tbody tr th {\n",
       "        vertical-align: top;\n",
       "    }\n",
       "\n",
       "    .dataframe thead th {\n",
       "        text-align: right;\n",
       "    }\n",
       "</style>\n",
       "<table border=\"1\" class=\"dataframe\">\n",
       "  <thead>\n",
       "    <tr style=\"text-align: right;\">\n",
       "      <th></th>\n",
       "      <th>0</th>\n",
       "      <th>1</th>\n",
       "    </tr>\n",
       "  </thead>\n",
       "  <tbody>\n",
       "    <tr>\n",
       "      <th>0</th>\n",
       "      <td>1</td>\n",
       "      <td>4</td>\n",
       "    </tr>\n",
       "    <tr>\n",
       "      <th>1</th>\n",
       "      <td>2</td>\n",
       "      <td>5</td>\n",
       "    </tr>\n",
       "    <tr>\n",
       "      <th>2</th>\n",
       "      <td>3</td>\n",
       "      <td>6</td>\n",
       "    </tr>\n",
       "    <tr>\n",
       "      <th>3</th>\n",
       "      <td>4</td>\n",
       "      <td>4</td>\n",
       "    </tr>\n",
       "  </tbody>\n",
       "</table>\n",
       "</div>"
      ],
      "text/plain": [
       "   0  1\n",
       "0  1  4\n",
       "1  2  5\n",
       "2  3  6\n",
       "3  4  4"
      ]
     },
     "execution_count": 1,
     "metadata": {},
     "output_type": "execute_result"
    }
   ],
   "source": [
    "import numpy as np\n",
    "import pandas as pd\n",
    "\n",
    "# Format of multiple time series: (n_ts,sz,d), where n: number of main time series, sz: number of points per sub time series, d: number of dimensions per main time series\n",
    "# Here: (2,4,2)\n",
    "arr = np.array([[[1,4],\n",
    "                 [2,5],\n",
    "                 [3,6],\n",
    "                 [4,4]], [[3,4],\n",
    "                          [4,5],\n",
    "                          [3,2],\n",
    "                          [3,3]]])\n",
    "\n",
    "# Create data frame from one multi-dimensional time series\n",
    "df = pd.DataFrame(arr[0])\n",
    "df"
   ]
  },
  {
   "cell_type": "code",
   "execution_count": 2,
   "id": "55b78037-425f-4663-9aba-0fb3e0b9f1f7",
   "metadata": {},
   "outputs": [
    {
     "data": {
      "text/plain": [
       "numpy.ndarray"
      ]
     },
     "execution_count": 2,
     "metadata": {},
     "output_type": "execute_result"
    }
   ],
   "source": [
    "type(df.values)"
   ]
  },
  {
   "cell_type": "code",
   "execution_count": 3,
   "id": "8b3dc938-274b-4e7d-9c2d-504ef589f651",
   "metadata": {},
   "outputs": [
    {
     "data": {
      "text/plain": [
       "array([[1, 4],\n",
       "       [2, 5],\n",
       "       [3, 6],\n",
       "       [4, 4]])"
      ]
     },
     "execution_count": 3,
     "metadata": {},
     "output_type": "execute_result"
    }
   ],
   "source": [
    "# Convert dataframe back to 2d numpy array\n",
    "df.values"
   ]
  },
  {
   "cell_type": "code",
   "execution_count": 4,
   "id": "73e49bf5-08d5-4ba3-9899-ef6cb3e00acf",
   "metadata": {},
   "outputs": [
    {
     "data": {
      "text/plain": [
       "array([[[ 1,  4],\n",
       "        [ 2,  5],\n",
       "        [ 3,  6],\n",
       "        [ 4,  4]],\n",
       "\n",
       "       [[55, 44],\n",
       "        [33, 44],\n",
       "        [44, 22],\n",
       "        [23, 32]]])"
      ]
     },
     "execution_count": 4,
     "metadata": {},
     "output_type": "execute_result"
    }
   ],
   "source": [
    "# Stick multiple 2d numpy arrays to 3d numpy array\n",
    "arr1 = np.array([[55,44],[33,44],[44,22],[23,32]])\n",
    "np.stack([df.values, arr1], axis=0)"
   ]
  },
  {
   "cell_type": "code",
   "execution_count": 5,
   "id": "f030436b-d46d-4fc3-8b23-5f052ac20e58",
   "metadata": {},
   "outputs": [
    {
     "data": {
      "text/html": [
       "<div>\n",
       "<style scoped>\n",
       "    .dataframe tbody tr th:only-of-type {\n",
       "        vertical-align: middle;\n",
       "    }\n",
       "\n",
       "    .dataframe tbody tr th {\n",
       "        vertical-align: top;\n",
       "    }\n",
       "\n",
       "    .dataframe thead th {\n",
       "        text-align: right;\n",
       "    }\n",
       "</style>\n",
       "<table border=\"1\" class=\"dataframe\">\n",
       "  <thead>\n",
       "    <tr style=\"text-align: right;\">\n",
       "      <th></th>\n",
       "      <th>0</th>\n",
       "      <th>1</th>\n",
       "      <th>0</th>\n",
       "      <th>1</th>\n",
       "    </tr>\n",
       "  </thead>\n",
       "  <tbody>\n",
       "    <tr>\n",
       "      <th>0</th>\n",
       "      <td>1</td>\n",
       "      <td>4</td>\n",
       "      <td>3</td>\n",
       "      <td>4</td>\n",
       "    </tr>\n",
       "    <tr>\n",
       "      <th>1</th>\n",
       "      <td>2</td>\n",
       "      <td>5</td>\n",
       "      <td>4</td>\n",
       "      <td>5</td>\n",
       "    </tr>\n",
       "    <tr>\n",
       "      <th>2</th>\n",
       "      <td>3</td>\n",
       "      <td>6</td>\n",
       "      <td>3</td>\n",
       "      <td>2</td>\n",
       "    </tr>\n",
       "    <tr>\n",
       "      <th>3</th>\n",
       "      <td>4</td>\n",
       "      <td>4</td>\n",
       "      <td>3</td>\n",
       "      <td>3</td>\n",
       "    </tr>\n",
       "  </tbody>\n",
       "</table>\n",
       "</div>"
      ],
      "text/plain": [
       "   0  1  0  1\n",
       "0  1  4  3  4\n",
       "1  2  5  4  5\n",
       "2  3  6  3  2\n",
       "3  4  4  3  3"
      ]
     },
     "execution_count": 5,
     "metadata": {},
     "output_type": "execute_result"
    }
   ],
   "source": [
    "# Stick multiple time series in a data frame together\n",
    "# In this dataframe, we have 2 main time series, each with 2 dimensions and 4 data points\n",
    "df_concat = pd.concat([df, pd.DataFrame(arr[1])], axis=1)\n",
    "df_concat"
   ]
  },
  {
   "cell_type": "code",
   "execution_count": 6,
   "id": "dae3646b-0b0f-4061-884d-ba70118f1487",
   "metadata": {},
   "outputs": [
    {
     "data": {
      "text/plain": [
       "array([[4, 3, 4],\n",
       "       [5, 4, 5],\n",
       "       [6, 3, 2],\n",
       "       [4, 3, 3]])"
      ]
     },
     "execution_count": 6,
     "metadata": {},
     "output_type": "execute_result"
    }
   ],
   "source": [
    "np.array(arr.shape)\n",
    "df_concat.iloc[:,1:55].to_numpy()"
   ]
  },
  {
   "cell_type": "code",
   "execution_count": 7,
   "id": "6e1e740a-4274-4292-8ff3-111af3683b8c",
   "metadata": {},
   "outputs": [],
   "source": [
    "def segmentation(ts_size, window_size):\n",
    "    bounds = np.arange(0,ts_size+1,window_size)\n",
    "    # if in last (partial) window more than half of window size are included, then include those points\n",
    "    if ts_size % window_size > window_size / 2:\n",
    "        bounds = np.append(bounds, ts_size)\n",
    "    start = bounds[:-1]\n",
    "    end = bounds[1:]\n",
    "    size = start.size\n",
    "    return start, end, size"
   ]
  },
  {
   "cell_type": "code",
   "execution_count": 8,
   "id": "ab203f88-b2b9-4b90-a604-49a10f873395",
   "metadata": {},
   "outputs": [
    {
     "data": {
      "text/plain": [
       "3"
      ]
     },
     "execution_count": 8,
     "metadata": {},
     "output_type": "execute_result"
    }
   ],
   "source": [
    "start,end,size=segmentation(10,3)\n",
    "size"
   ]
  },
  {
   "cell_type": "code",
   "execution_count": 9,
   "id": "bb9bed57-7d31-416d-970b-00376390ce9d",
   "metadata": {},
   "outputs": [
    {
     "data": {
      "text/plain": [
       "array([[1, 2, 3],\n",
       "       [4, 5, 6]])"
      ]
     },
     "execution_count": 9,
     "metadata": {},
     "output_type": "execute_result"
    }
   ],
   "source": [
    "X = np.array([[[1,2,3],[4,5,6],[7,8,9]]])\n",
    "segment = X[0, 0:2, :]\n",
    "segment"
   ]
  },
  {
   "cell_type": "code",
   "execution_count": 10,
   "id": "9479cc4c-ae2c-4e7d-b83c-1f15ff7bd01a",
   "metadata": {},
   "outputs": [],
   "source": [
    "def transform(X, window_size):\n",
    "    n_ts, sz, d = X.shape\n",
    "    start, end, n_timestamps_new = segmentation(sz, window_size)\n",
    "    X_transformed = np.empty((n_ts, n_timestamps_new, d))\n",
    "    for i_ts in range(n_ts):\n",
    "        for i_seg in range(n_timestamps_new):\n",
    "            segment = X[i_ts, start[i_seg]:end[i_seg], :]\n",
    "            X_transformed[i_ts, i_seg, :] = segment.mean(axis=0)\n",
    "    return X_transformed"
   ]
  },
  {
   "cell_type": "code",
   "execution_count": 11,
   "id": "446d2970-3fbb-467d-a9a6-8d9dfca7ba50",
   "metadata": {},
   "outputs": [
    {
     "data": {
      "text/plain": [
       "array([[[3.        , 4.        ],\n",
       "        [3.66666667, 4.66666667],\n",
       "        [4.33333333, 5.33333333],\n",
       "        [4.        , 5.        ]],\n",
       "\n",
       "       [[3.        , 4.        ],\n",
       "        [3.66666667, 4.66666667],\n",
       "        [4.33333333, 5.33333333],\n",
       "        [4.        , 5.        ]]])"
      ]
     },
     "execution_count": 11,
     "metadata": {},
     "output_type": "execute_result"
    }
   ],
   "source": [
    "X=np.array([[[1,2],\n",
    "             [3,4],\n",
    "             [5,6],\n",
    "             [7,8],\n",
    "             [1,2],\n",
    "             [3,4],\n",
    "             [5,6],\n",
    "             [7,8],\n",
    "             [1,2],\n",
    "             [3,4],\n",
    "             [5,6]], [[1,2],\n",
    "                      [3,4],\n",
    "                      [5,6],\n",
    "                      [7,8],\n",
    "                      [1,2],\n",
    "                      [3,4],\n",
    "                      [5,6],\n",
    "                      [7,8],\n",
    "                      [1,2],\n",
    "                      [3,4],\n",
    "                      [5,6]]])\n",
    "transform(X,3)"
   ]
  },
  {
   "cell_type": "code",
   "execution_count": 12,
   "id": "231f3ebf-eb8e-4f40-ae43-d3ad00678e7e",
   "metadata": {},
   "outputs": [
    {
     "data": {
      "text/plain": [
       "array([[[1, 2],\n",
       "        [3, 4],\n",
       "        [5, 6],\n",
       "        [7, 8],\n",
       "        [1, 2],\n",
       "        [3, 4],\n",
       "        [5, 6],\n",
       "        [7, 8],\n",
       "        [1, 2],\n",
       "        [3, 4],\n",
       "        [5, 6]],\n",
       "\n",
       "       [[1, 2],\n",
       "        [3, 4],\n",
       "        [5, 6],\n",
       "        [7, 8],\n",
       "        [1, 2],\n",
       "        [3, 4],\n",
       "        [5, 6],\n",
       "        [7, 8],\n",
       "        [1, 2],\n",
       "        [3, 4],\n",
       "        [5, 6]]])"
      ]
     },
     "execution_count": 12,
     "metadata": {},
     "output_type": "execute_result"
    }
   ],
   "source": [
    "X"
   ]
  }
 ],
 "metadata": {
  "kernelspec": {
   "display_name": "bachelor-thesis-kernel",
   "language": "python",
   "name": "bachelor-thesis-kernel"
  },
  "language_info": {
   "codemirror_mode": {
    "name": "ipython",
    "version": 3
   },
   "file_extension": ".py",
   "mimetype": "text/x-python",
   "name": "python",
   "nbconvert_exporter": "python",
   "pygments_lexer": "ipython3",
   "version": "3.9.13"
  }
 },
 "nbformat": 4,
 "nbformat_minor": 5
}
