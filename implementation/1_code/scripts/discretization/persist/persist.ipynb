{
 "cells": [
  {
   "cell_type": "code",
   "execution_count": 1,
   "id": "631ddbbb-e820-43fe-b3bc-6930d95e753e",
   "metadata": {},
   "outputs": [],
   "source": [
    "import numpy as np\n",
    "import pandas as pd"
   ]
  },
  {
   "cell_type": "code",
   "execution_count": 2,
   "id": "8fec173b-6f8b-45a0-9600-96b7edf48ab1",
   "metadata": {},
   "outputs": [
    {
     "data": {
      "text/html": [
       "<div>\n",
       "<style scoped>\n",
       "    .dataframe tbody tr th:only-of-type {\n",
       "        vertical-align: middle;\n",
       "    }\n",
       "\n",
       "    .dataframe tbody tr th {\n",
       "        vertical-align: top;\n",
       "    }\n",
       "\n",
       "    .dataframe thead th {\n",
       "        text-align: right;\n",
       "    }\n",
       "</style>\n",
       "<table border=\"1\" class=\"dataframe\">\n",
       "  <thead>\n",
       "    <tr style=\"text-align: right;\">\n",
       "      <th></th>\n",
       "      <th>0</th>\n",
       "      <th>1</th>\n",
       "    </tr>\n",
       "  </thead>\n",
       "  <tbody>\n",
       "    <tr>\n",
       "      <th>0</th>\n",
       "      <td>1.06</td>\n",
       "      <td>2.06</td>\n",
       "    </tr>\n",
       "    <tr>\n",
       "      <th>1</th>\n",
       "      <td>1.12</td>\n",
       "      <td>2.12</td>\n",
       "    </tr>\n",
       "    <tr>\n",
       "      <th>2</th>\n",
       "      <td>1.18</td>\n",
       "      <td>2.18</td>\n",
       "    </tr>\n",
       "    <tr>\n",
       "      <th>3</th>\n",
       "      <td>1.24</td>\n",
       "      <td>2.24</td>\n",
       "    </tr>\n",
       "    <tr>\n",
       "      <th>4</th>\n",
       "      <td>1.30</td>\n",
       "      <td>2.30</td>\n",
       "    </tr>\n",
       "    <tr>\n",
       "      <th>...</th>\n",
       "      <td>...</td>\n",
       "      <td>...</td>\n",
       "    </tr>\n",
       "    <tr>\n",
       "      <th>94</th>\n",
       "      <td>6.70</td>\n",
       "      <td>7.70</td>\n",
       "    </tr>\n",
       "    <tr>\n",
       "      <th>95</th>\n",
       "      <td>6.76</td>\n",
       "      <td>7.76</td>\n",
       "    </tr>\n",
       "    <tr>\n",
       "      <th>96</th>\n",
       "      <td>6.82</td>\n",
       "      <td>7.82</td>\n",
       "    </tr>\n",
       "    <tr>\n",
       "      <th>97</th>\n",
       "      <td>6.88</td>\n",
       "      <td>7.88</td>\n",
       "    </tr>\n",
       "    <tr>\n",
       "      <th>98</th>\n",
       "      <td>6.94</td>\n",
       "      <td>7.94</td>\n",
       "    </tr>\n",
       "  </tbody>\n",
       "</table>\n",
       "<p>99 rows × 2 columns</p>\n",
       "</div>"
      ],
      "text/plain": [
       "       0     1\n",
       "0   1.06  2.06\n",
       "1   1.12  2.12\n",
       "2   1.18  2.18\n",
       "3   1.24  2.24\n",
       "4   1.30  2.30\n",
       "..   ...   ...\n",
       "94  6.70  7.70\n",
       "95  6.76  7.76\n",
       "96  6.82  7.82\n",
       "97  6.88  7.88\n",
       "98  6.94  7.94\n",
       "\n",
       "[99 rows x 2 columns]"
      ]
     },
     "execution_count": 2,
     "metadata": {},
     "output_type": "execute_result"
    }
   ],
   "source": [
    "df = pd.DataFrame([[1,2], [3,4],[5,6],[7,8]])\n",
    "\n",
    "pd.DataFrame(np.percentile(df, [i for i in range(1, 100)], axis=0))"
   ]
  },
  {
   "cell_type": "code",
   "execution_count": 3,
   "id": "ebbff457-07ca-4185-a75c-e8cfcbbb61dc",
   "metadata": {},
   "outputs": [],
   "source": [
    "free_cands = pd.DataFrame(np.full((50, 2), True))"
   ]
  },
  {
   "cell_type": "code",
   "execution_count": 4,
   "id": "094810e9-2994-4928-9b0a-afa20bef975a",
   "metadata": {},
   "outputs": [],
   "source": [
    "free_cands.iloc[:4, :] = False\n",
    "free_cands.iloc[-4:, :] = False"
   ]
  },
  {
   "cell_type": "code",
   "execution_count": 5,
   "id": "ba976198-ed30-4397-817c-82a07b6e9849",
   "metadata": {},
   "outputs": [],
   "source": [
    "current_free_cands = free_cands.iloc[:, 0]\n",
    "indexes = current_free_cands[current_free_cands == True].index"
   ]
  },
  {
   "cell_type": "code",
   "execution_count": 6,
   "id": "4be2e89e-4235-4699-9c6d-f2f897393094",
   "metadata": {},
   "outputs": [],
   "source": [
    "from utils import load_parquet_to_df_list, z_normalize"
   ]
  },
  {
   "cell_type": "code",
   "execution_count": 7,
   "id": "e16a10d1-7393-4851-bbc4-d54d025ba528",
   "metadata": {},
   "outputs": [
    {
     "data": {
      "text/html": [
       "<div>\n",
       "<style scoped>\n",
       "    .dataframe tbody tr th:only-of-type {\n",
       "        vertical-align: middle;\n",
       "    }\n",
       "\n",
       "    .dataframe tbody tr th {\n",
       "        vertical-align: top;\n",
       "    }\n",
       "\n",
       "    .dataframe thead th {\n",
       "        text-align: right;\n",
       "    }\n",
       "</style>\n",
       "<table border=\"1\" class=\"dataframe\">\n",
       "  <thead>\n",
       "    <tr style=\"text-align: right;\">\n",
       "      <th></th>\n",
       "      <th>signal</th>\n",
       "      <th>signal</th>\n",
       "    </tr>\n",
       "  </thead>\n",
       "  <tbody>\n",
       "    <tr>\n",
       "      <th>0</th>\n",
       "      <td>2.223633</td>\n",
       "      <td>1.879365</td>\n",
       "    </tr>\n",
       "    <tr>\n",
       "      <th>1</th>\n",
       "      <td>2.058567</td>\n",
       "      <td>1.733153</td>\n",
       "    </tr>\n",
       "    <tr>\n",
       "      <th>2</th>\n",
       "      <td>1.849589</td>\n",
       "      <td>1.579823</td>\n",
       "    </tr>\n",
       "    <tr>\n",
       "      <th>3</th>\n",
       "      <td>1.642328</td>\n",
       "      <td>1.402389</td>\n",
       "    </tr>\n",
       "    <tr>\n",
       "      <th>4</th>\n",
       "      <td>1.438219</td>\n",
       "      <td>1.257130</td>\n",
       "    </tr>\n",
       "    <tr>\n",
       "      <th>...</th>\n",
       "      <td>...</td>\n",
       "      <td>...</td>\n",
       "    </tr>\n",
       "    <tr>\n",
       "      <th>123</th>\n",
       "      <td>1.345195</td>\n",
       "      <td>1.162620</td>\n",
       "    </tr>\n",
       "    <tr>\n",
       "      <th>124</th>\n",
       "      <td>1.547908</td>\n",
       "      <td>1.314745</td>\n",
       "    </tr>\n",
       "    <tr>\n",
       "      <th>125</th>\n",
       "      <td>1.760490</td>\n",
       "      <td>1.500432</td>\n",
       "    </tr>\n",
       "    <tr>\n",
       "      <th>126</th>\n",
       "      <td>1.970141</td>\n",
       "      <td>1.657326</td>\n",
       "    </tr>\n",
       "    <tr>\n",
       "      <th>127</th>\n",
       "      <td>2.175866</td>\n",
       "      <td>1.846657</td>\n",
       "    </tr>\n",
       "  </tbody>\n",
       "</table>\n",
       "<p>128 rows × 2 columns</p>\n",
       "</div>"
      ],
      "text/plain": [
       "       signal    signal\n",
       "0    2.223633  1.879365\n",
       "1    2.058567  1.733153\n",
       "2    1.849589  1.579823\n",
       "3    1.642328  1.402389\n",
       "4    1.438219  1.257130\n",
       "..        ...       ...\n",
       "123  1.345195  1.162620\n",
       "124  1.547908  1.314745\n",
       "125  1.760490  1.500432\n",
       "126  1.970141  1.657326\n",
       "127  2.175866  1.846657\n",
       "\n",
       "[128 rows x 2 columns]"
      ]
     },
     "execution_count": 7,
     "metadata": {},
     "output_type": "execute_result"
    }
   ],
   "source": [
    "path = \"../../../../0_data/UCRArchive_2018/SwedishLeaf/train\"\n",
    "df_list = load_parquet_to_df_list(path)\n",
    "\n",
    "# concatenate time series to one dataframe, because all time series have the same length\n",
    "df_norm = pd.concat([z_normalize(df[\"signal\"].to_frame()) for df in df_list], axis=1).iloc[:, :2]\n",
    "df_norm"
   ]
  },
  {
   "cell_type": "code",
   "execution_count": 8,
   "id": "07937b1a-a496-4b40-85a4-c7e25edb1ca6",
   "metadata": {},
   "outputs": [
    {
     "data": {
      "text/plain": [
       "[[1, 2, 3], [1, 2, 3, 4], [1, 2, 3, 4, 7]]"
      ]
     },
     "execution_count": 8,
     "metadata": {},
     "output_type": "execute_result"
    }
   ],
   "source": [
    "input_list = [1, 2, 3, 4, 7, 8, 9]\n",
    "result = [input_list[:i] for i in range(4-1, 6)]\n",
    "result"
   ]
  },
  {
   "cell_type": "code",
   "execution_count": 33,
   "id": "f1be93d4-e7fc-45f5-9b98-e45424948d74",
   "metadata": {},
   "outputs": [],
   "source": [
    "from discretization.persist.persist import do_persist\n",
    "\n",
    "\n",
    "bins, best_pscores = do_persist(df_norm, 2, 6, 2)"
   ]
  },
  {
   "cell_type": "code",
   "execution_count": 34,
   "id": "b1dfe655-8e0f-4058-9ab0-4411ed732681",
   "metadata": {},
   "outputs": [
    {
     "data": {
      "text/plain": [
       "[[-0.8985123095586725, -0.2453159561542242, 0.8655056790804788],\n",
       " [-1.65273807006388,\n",
       "  -0.377780508279819,\n",
       "  0.11300740422608681,\n",
       "  0.7856222582237774]]"
      ]
     },
     "execution_count": 34,
     "metadata": {},
     "output_type": "execute_result"
    }
   ],
   "source": [
    "bins"
   ]
  },
  {
   "cell_type": "code",
   "execution_count": 11,
   "id": "ab32b379-6d1f-402b-9221-fa1a4a9375c1",
   "metadata": {},
   "outputs": [
    {
     "data": {
      "text/html": [
       "<div>\n",
       "<style scoped>\n",
       "    .dataframe tbody tr th:only-of-type {\n",
       "        vertical-align: middle;\n",
       "    }\n",
       "\n",
       "    .dataframe tbody tr th {\n",
       "        vertical-align: top;\n",
       "    }\n",
       "\n",
       "    .dataframe thead th {\n",
       "        text-align: right;\n",
       "    }\n",
       "</style>\n",
       "<table border=\"1\" class=\"dataframe\">\n",
       "  <thead>\n",
       "    <tr style=\"text-align: right;\">\n",
       "      <th></th>\n",
       "      <th>0</th>\n",
       "      <th>1</th>\n",
       "    </tr>\n",
       "  </thead>\n",
       "  <tbody>\n",
       "    <tr>\n",
       "      <th>2</th>\n",
       "      <td>0.405574</td>\n",
       "      <td>0.411185</td>\n",
       "    </tr>\n",
       "    <tr>\n",
       "      <th>3</th>\n",
       "      <td>0.532495</td>\n",
       "      <td>0.537957</td>\n",
       "    </tr>\n",
       "    <tr>\n",
       "      <th>4</th>\n",
       "      <td>0.564225</td>\n",
       "      <td>0.584393</td>\n",
       "    </tr>\n",
       "    <tr>\n",
       "      <th>5</th>\n",
       "      <td>0.557189</td>\n",
       "      <td>0.592828</td>\n",
       "    </tr>\n",
       "    <tr>\n",
       "      <th>6</th>\n",
       "      <td>0.550412</td>\n",
       "      <td>0.588822</td>\n",
       "    </tr>\n",
       "  </tbody>\n",
       "</table>\n",
       "</div>"
      ],
      "text/plain": [
       "          0         1\n",
       "2  0.405574  0.411185\n",
       "3  0.532495  0.537957\n",
       "4  0.564225  0.584393\n",
       "5  0.557189  0.592828\n",
       "6  0.550412  0.588822"
      ]
     },
     "execution_count": 11,
     "metadata": {},
     "output_type": "execute_result"
    }
   ],
   "source": [
    "best_pscores"
   ]
  },
  {
   "cell_type": "code",
   "execution_count": 12,
   "id": "b3f95cd2-a256-4ef4-bdd8-2275cc3c8eba",
   "metadata": {},
   "outputs": [
    {
     "data": {
      "text/plain": [
       "<AxesSubplot: >"
      ]
     },
     "execution_count": 12,
     "metadata": {},
     "output_type": "execute_result"
    },
    {
     "data": {
      "image/png": "[encoded data removed]",
      "text/plain": [
       "<Figure size 640x480 with 1 Axes>"
      ]
     },
     "metadata": {},
     "output_type": "display_data"
    }
   ],
   "source": [
    "df_norm.plot()"
   ]
  }
 ],
 "metadata": {
  "kernelspec": {
   "display_name": "bachelor-thesis-kernel",
   "language": "python",
   "name": "bachelor-thesis-kernel"
  },
  "language_info": {
   "codemirror_mode": {
    "name": "ipython",
    "version": 3
   },
   "file_extension": ".py",
   "mimetype": "text/x-python",
   "name": "python",
   "nbconvert_exporter": "python",
   "pygments_lexer": "ipython3",
   "version": "3.9.13"
  }
 },
 "nbformat": 4,
 "nbformat_minor": 5
}
