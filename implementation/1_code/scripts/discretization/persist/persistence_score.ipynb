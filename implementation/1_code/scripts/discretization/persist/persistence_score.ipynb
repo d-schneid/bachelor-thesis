{
 "cells": [
  {
   "cell_type": "code",
   "execution_count": 1,
   "id": "c646dd5f-8703-4b6f-81bc-e70b69b62335",
   "metadata": {},
   "outputs": [],
   "source": [
    "import pandas as pd\n",
    "\n",
    "from discretization.persist.persistence_score import _compute_persistence_score"
   ]
  },
  {
   "cell_type": "code",
   "execution_count": 2,
   "id": "e02188f5-c170-446d-b165-242384a05216",
   "metadata": {},
   "outputs": [
    {
     "data": {
      "text/plain": [
       "0    0.883052\n",
       "1    0.574926\n",
       "dtype: float64"
      ]
     },
     "execution_count": 2,
     "metadata": {},
     "output_type": "execute_result"
    }
   ],
   "source": [
    "df_norm = pd.DataFrame([[1,11],[2,12],[3,13],[4,14],[5,15],[6,16],[7,17],[8,18],[9,19]])\n",
    "df_breakpoints = pd.DataFrame([[3.5,11.5], [6.5,15.5]])\n",
    "\n",
    "_compute_persistence_score(df_norm, df_breakpoints)"
   ]
  }
 ],
 "metadata": {
  "kernelspec": {
   "display_name": "bachelor-thesis-kernel",
   "language": "python",
   "name": "bachelor-thesis-kernel"
  },
  "language_info": {
   "codemirror_mode": {
    "name": "ipython",
    "version": 3
   },
   "file_extension": ".py",
   "mimetype": "text/x-python",
   "name": "python",
   "nbconvert_exporter": "python",
   "pygments_lexer": "ipython3",
   "version": "3.9.13"
  }
 },
 "nbformat": 4,
 "nbformat_minor": 5
}
